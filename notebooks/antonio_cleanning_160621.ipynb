{
 "cells": [
  {
   "cell_type": "code",
   "execution_count": 1,
   "id": "f763beb2",
   "metadata": {},
   "outputs": [],
   "source": [
    "import pandas as pd"
   ]
  },
  {
   "cell_type": "code",
   "execution_count": 3,
   "id": "2e43d94c",
   "metadata": {},
   "outputs": [],
   "source": [
    "df = pd.read_csv('../raw_data/cleaned_data_040321.csv')"
   ]
  },
  {
   "cell_type": "code",
   "execution_count": 5,
   "id": "933a65c1",
   "metadata": {},
   "outputs": [
    {
     "data": {
      "text/plain": [
       "Dem_isolation                                   \n",
       "Life carries on with minor changes                  49120\n",
       "Isolated                                            31968\n",
       "Life carries on as usual                             4304\n",
       "Isolated in medical facility of similar location       86\n",
       "1                                                      11\n",
       "dtype: int64"
      ]
     },
     "execution_count": 5,
     "metadata": {},
     "output_type": "execute_result"
    }
   ],
   "source": [
    "df[['Dem_isolation']].value_counts()"
   ]
  },
  {
   "cell_type": "code",
   "execution_count": 8,
   "id": "dd6eea34",
   "metadata": {},
   "outputs": [],
   "source": [
    "df = df[df['Dem_isolation'] != '1']"
   ]
  },
  {
   "cell_type": "code",
   "execution_count": null,
   "id": "89bd4663",
   "metadata": {},
   "outputs": [],
   "source": []
  }
 ],
 "metadata": {
  "kernelspec": {
   "display_name": "Python 3",
   "language": "python",
   "name": "python3"
  },
  "language_info": {
   "codemirror_mode": {
    "name": "ipython",
    "version": 3
   },
   "file_extension": ".py",
   "mimetype": "text/x-python",
   "name": "python",
   "nbconvert_exporter": "python",
   "pygments_lexer": "ipython3",
   "version": "3.8.6"
  }
 },
 "nbformat": 4,
 "nbformat_minor": 5
}
