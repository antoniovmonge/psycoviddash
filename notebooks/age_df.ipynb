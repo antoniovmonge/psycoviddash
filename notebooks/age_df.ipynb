{
 "cells": [
  {
   "cell_type": "code",
   "execution_count": 1,
   "id": "0b6ff2dd",
   "metadata": {},
   "outputs": [],
   "source": [
    "import pandas as pd"
   ]
  },
  {
   "cell_type": "code",
   "execution_count": 2,
   "id": "4b8fb7fe",
   "metadata": {},
   "outputs": [],
   "source": [
    "df = pd.read_csv('../cleaned_data_040321.csv')"
   ]
  },
  {
   "cell_type": "code",
   "execution_count": 4,
   "id": "f410941d",
   "metadata": {},
   "outputs": [
    {
     "data": {
      "text/html": [
       "<div>\n",
       "<style scoped>\n",
       "    .dataframe tbody tr th:only-of-type {\n",
       "        vertical-align: middle;\n",
       "    }\n",
       "\n",
       "    .dataframe tbody tr th {\n",
       "        vertical-align: top;\n",
       "    }\n",
       "\n",
       "    .dataframe thead th {\n",
       "        text-align: right;\n",
       "    }\n",
       "</style>\n",
       "<table border=\"1\" class=\"dataframe\">\n",
       "  <thead>\n",
       "    <tr style=\"text-align: right;\">\n",
       "      <th></th>\n",
       "      <th>Dem_age</th>\n",
       "    </tr>\n",
       "  </thead>\n",
       "  <tbody>\n",
       "    <tr>\n",
       "      <th>count</th>\n",
       "      <td>85489.000000</td>\n",
       "    </tr>\n",
       "    <tr>\n",
       "      <th>mean</th>\n",
       "      <td>38.885225</td>\n",
       "    </tr>\n",
       "    <tr>\n",
       "      <th>std</th>\n",
       "      <td>13.762688</td>\n",
       "    </tr>\n",
       "    <tr>\n",
       "      <th>min</th>\n",
       "      <td>18.000000</td>\n",
       "    </tr>\n",
       "    <tr>\n",
       "      <th>25%</th>\n",
       "      <td>28.000000</td>\n",
       "    </tr>\n",
       "    <tr>\n",
       "      <th>50%</th>\n",
       "      <td>37.000000</td>\n",
       "    </tr>\n",
       "    <tr>\n",
       "      <th>75%</th>\n",
       "      <td>48.000000</td>\n",
       "    </tr>\n",
       "    <tr>\n",
       "      <th>max</th>\n",
       "      <td>110.000000</td>\n",
       "    </tr>\n",
       "  </tbody>\n",
       "</table>\n",
       "</div>"
      ],
      "text/plain": [
       "            Dem_age\n",
       "count  85489.000000\n",
       "mean      38.885225\n",
       "std       13.762688\n",
       "min       18.000000\n",
       "25%       28.000000\n",
       "50%       37.000000\n",
       "75%       48.000000\n",
       "max      110.000000"
      ]
     },
     "execution_count": 4,
     "metadata": {},
     "output_type": "execute_result"
    }
   ],
   "source": [
    "df[['Dem_age']].describe()"
   ]
  },
  {
   "cell_type": "code",
   "execution_count": 27,
   "id": "61f6b4f6",
   "metadata": {},
   "outputs": [
    {
     "data": {
      "text/plain": [
       "30"
      ]
     },
     "execution_count": 27,
     "metadata": {},
     "output_type": "execute_result"
    }
   ],
   "source": [
    "df['Dem_age'].mode()[0]"
   ]
  },
  {
   "cell_type": "code",
   "execution_count": 6,
   "id": "d10dff64",
   "metadata": {},
   "outputs": [
    {
     "data": {
      "text/plain": [
       "Dem_age    85489\n",
       "dtype: int64"
      ]
     },
     "execution_count": 6,
     "metadata": {},
     "output_type": "execute_result"
    }
   ],
   "source": [
    "df[['Dem_age']].count()"
   ]
  },
  {
   "cell_type": "code",
   "execution_count": 7,
   "id": "12f53720",
   "metadata": {},
   "outputs": [
    {
     "data": {
      "text/plain": [
       "Dem_age    18\n",
       "dtype: int64"
      ]
     },
     "execution_count": 7,
     "metadata": {},
     "output_type": "execute_result"
    }
   ],
   "source": [
    "df[['Dem_age']].min()"
   ]
  },
  {
   "cell_type": "code",
   "execution_count": 10,
   "id": "69348e4f",
   "metadata": {},
   "outputs": [
    {
     "data": {
      "text/plain": [
       "Dem_age    37.0\n",
       "dtype: float64"
      ]
     },
     "execution_count": 10,
     "metadata": {},
     "output_type": "execute_result"
    }
   ],
   "source": [
    "df[['Dem_age']].median()"
   ]
  },
  {
   "cell_type": "code",
   "execution_count": 26,
   "id": "13fa4979",
   "metadata": {},
   "outputs": [
    {
     "data": {
      "text/plain": [
       "38.88522499970757"
      ]
     },
     "execution_count": 26,
     "metadata": {},
     "output_type": "execute_result"
    }
   ],
   "source": [
    "df[['Dem_age']].mean()[0]"
   ]
  },
  {
   "cell_type": "code",
   "execution_count": 32,
   "id": "6c6f93d7",
   "metadata": {},
   "outputs": [
    {
     "data": {
      "text/html": [
       "<div>\n",
       "<style scoped>\n",
       "    .dataframe tbody tr th:only-of-type {\n",
       "        vertical-align: middle;\n",
       "    }\n",
       "\n",
       "    .dataframe tbody tr th {\n",
       "        vertical-align: top;\n",
       "    }\n",
       "\n",
       "    .dataframe thead th {\n",
       "        text-align: right;\n",
       "    }\n",
       "</style>\n",
       "<table border=\"1\" class=\"dataframe\">\n",
       "  <thead>\n",
       "    <tr style=\"text-align: right;\">\n",
       "      <th></th>\n",
       "      <th>Summary</th>\n",
       "      <th>Value</th>\n",
       "    </tr>\n",
       "  </thead>\n",
       "  <tbody>\n",
       "    <tr>\n",
       "      <th>0</th>\n",
       "      <td>Mean</td>\n",
       "      <td>38.89</td>\n",
       "    </tr>\n",
       "    <tr>\n",
       "      <th>1</th>\n",
       "      <td>Median</td>\n",
       "      <td>37.00</td>\n",
       "    </tr>\n",
       "    <tr>\n",
       "      <th>2</th>\n",
       "      <td>Mode</td>\n",
       "      <td>30.00</td>\n",
       "    </tr>\n",
       "    <tr>\n",
       "      <th>3</th>\n",
       "      <td>Min</td>\n",
       "      <td>18.00</td>\n",
       "    </tr>\n",
       "    <tr>\n",
       "      <th>4</th>\n",
       "      <td>Max</td>\n",
       "      <td>110.00</td>\n",
       "    </tr>\n",
       "  </tbody>\n",
       "</table>\n",
       "</div>"
      ],
      "text/plain": [
       "  Summary   Value\n",
       "0    Mean   38.89\n",
       "1  Median   37.00\n",
       "2    Mode   30.00\n",
       "3     Min   18.00\n",
       "4     Max  110.00"
      ]
     },
     "execution_count": 32,
     "metadata": {},
     "output_type": "execute_result"
    }
   ],
   "source": [
    "d = {'Summary':['Mean','Median','Mode','Min','Max'],'Value':[df[['Dem_age']].mean()[0].round(2), df[['Dem_age']].median()[0], df['Dem_age'].mode()[0], df[['Dem_age']].min()[0], df[['Dem_age']].max()[0]]}\n",
    "pd.DataFrame(data=d)"
   ]
  },
  {
   "cell_type": "code",
   "execution_count": 21,
   "id": "f1c2416b",
   "metadata": {},
   "outputs": [
    {
     "data": {
      "text/plain": [
       "97"
      ]
     },
     "execution_count": 21,
     "metadata": {},
     "output_type": "execute_result"
    }
   ],
   "source": [
    "len(range(18,115))"
   ]
  },
  {
   "cell_type": "code",
   "execution_count": 36,
   "id": "76c6c451",
   "metadata": {},
   "outputs": [
    {
     "data": {
      "text/plain": [
       "30     2579\n",
       "27     2500\n",
       "29     2493\n",
       "25     2428\n",
       "28     2420\n",
       "       ... \n",
       "88        3\n",
       "110       2\n",
       "87        2\n",
       "91        1\n",
       "92        1\n",
       "Name: Dem_age, Length: 75, dtype: int64"
      ]
     },
     "execution_count": 36,
     "metadata": {},
     "output_type": "execute_result"
    }
   ],
   "source": [
    "df.Dem_age.value_counts()"
   ]
  },
  {
   "cell_type": "code",
   "execution_count": null,
   "id": "5d97a03c",
   "metadata": {},
   "outputs": [],
   "source": []
  }
 ],
 "metadata": {
  "kernelspec": {
   "display_name": "Python 3",
   "language": "python",
   "name": "python3"
  },
  "language_info": {
   "codemirror_mode": {
    "name": "ipython",
    "version": 3
   },
   "file_extension": ".py",
   "mimetype": "text/x-python",
   "name": "python",
   "nbconvert_exporter": "python",
   "pygments_lexer": "ipython3",
   "version": "3.8.6"
  }
 },
 "nbformat": 4,
 "nbformat_minor": 5
}
