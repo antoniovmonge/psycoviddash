{
 "cells": [
  {
   "cell_type": "code",
   "execution_count": 1,
   "id": "8d5a6b39",
   "metadata": {},
   "outputs": [],
   "source": [
    "import pandas as pd"
   ]
  },
  {
   "cell_type": "code",
   "execution_count": 2,
   "id": "4818fbef",
   "metadata": {},
   "outputs": [],
   "source": [
    "df = pd.read_csv('../raw_data/cleaned_data_040321.csv',index_col=0)"
   ]
  },
  {
   "cell_type": "code",
   "execution_count": 16,
   "id": "300d28a4",
   "metadata": {},
   "outputs": [
    {
     "data": {
      "text/plain": [
       "neu    3.770379\n",
       "ope    4.738109\n",
       "ext    3.946652\n",
       "agr    4.519399\n",
       "con    4.730647\n",
       "dtype: float64"
      ]
     },
     "execution_count": 16,
     "metadata": {},
     "output_type": "execute_result"
    }
   ],
   "source": [
    "df[df.Country == 'Argentina'][['neu','ope','ext','agr','con']].mean()"
   ]
  },
  {
   "cell_type": "code",
   "execution_count": 21,
   "id": "cd90356b",
   "metadata": {},
   "outputs": [],
   "source": [
    "df_print = pd.DataFrame(df[df.Country == 'Argentina'][['neu','ope','ext','agr','con']].mean()).reset_index()"
   ]
  },
  {
   "cell_type": "code",
   "execution_count": 22,
   "id": "2e7adcf9",
   "metadata": {},
   "outputs": [
    {
     "data": {
      "text/html": [
       "<div>\n",
       "<style scoped>\n",
       "    .dataframe tbody tr th:only-of-type {\n",
       "        vertical-align: middle;\n",
       "    }\n",
       "\n",
       "    .dataframe tbody tr th {\n",
       "        vertical-align: top;\n",
       "    }\n",
       "\n",
       "    .dataframe thead th {\n",
       "        text-align: right;\n",
       "    }\n",
       "</style>\n",
       "<table border=\"1\" class=\"dataframe\">\n",
       "  <thead>\n",
       "    <tr style=\"text-align: right;\">\n",
       "      <th></th>\n",
       "      <th>index</th>\n",
       "      <th>0</th>\n",
       "    </tr>\n",
       "  </thead>\n",
       "  <tbody>\n",
       "    <tr>\n",
       "      <th>0</th>\n",
       "      <td>neu</td>\n",
       "      <td>3.770379</td>\n",
       "    </tr>\n",
       "    <tr>\n",
       "      <th>1</th>\n",
       "      <td>ope</td>\n",
       "      <td>4.738109</td>\n",
       "    </tr>\n",
       "    <tr>\n",
       "      <th>2</th>\n",
       "      <td>ext</td>\n",
       "      <td>3.946652</td>\n",
       "    </tr>\n",
       "    <tr>\n",
       "      <th>3</th>\n",
       "      <td>agr</td>\n",
       "      <td>4.519399</td>\n",
       "    </tr>\n",
       "    <tr>\n",
       "      <th>4</th>\n",
       "      <td>con</td>\n",
       "      <td>4.730647</td>\n",
       "    </tr>\n",
       "  </tbody>\n",
       "</table>\n",
       "</div>"
      ],
      "text/plain": [
       "  index         0\n",
       "0   neu  3.770379\n",
       "1   ope  4.738109\n",
       "2   ext  3.946652\n",
       "3   agr  4.519399\n",
       "4   con  4.730647"
      ]
     },
     "execution_count": 22,
     "metadata": {},
     "output_type": "execute_result"
    }
   ],
   "source": [
    "df_print"
   ]
  },
  {
   "cell_type": "code",
   "execution_count": 23,
   "id": "089e2561",
   "metadata": {},
   "outputs": [],
   "source": [
    "df_print.columns = ['Trait', 'Score' ]"
   ]
  },
  {
   "cell_type": "code",
   "execution_count": 24,
   "id": "349c0703",
   "metadata": {},
   "outputs": [
    {
     "data": {
      "text/html": [
       "<div>\n",
       "<style scoped>\n",
       "    .dataframe tbody tr th:only-of-type {\n",
       "        vertical-align: middle;\n",
       "    }\n",
       "\n",
       "    .dataframe tbody tr th {\n",
       "        vertical-align: top;\n",
       "    }\n",
       "\n",
       "    .dataframe thead th {\n",
       "        text-align: right;\n",
       "    }\n",
       "</style>\n",
       "<table border=\"1\" class=\"dataframe\">\n",
       "  <thead>\n",
       "    <tr style=\"text-align: right;\">\n",
       "      <th></th>\n",
       "      <th>Trait</th>\n",
       "      <th>Score</th>\n",
       "    </tr>\n",
       "  </thead>\n",
       "  <tbody>\n",
       "    <tr>\n",
       "      <th>0</th>\n",
       "      <td>neu</td>\n",
       "      <td>3.770379</td>\n",
       "    </tr>\n",
       "    <tr>\n",
       "      <th>1</th>\n",
       "      <td>ope</td>\n",
       "      <td>4.738109</td>\n",
       "    </tr>\n",
       "    <tr>\n",
       "      <th>2</th>\n",
       "      <td>ext</td>\n",
       "      <td>3.946652</td>\n",
       "    </tr>\n",
       "    <tr>\n",
       "      <th>3</th>\n",
       "      <td>agr</td>\n",
       "      <td>4.519399</td>\n",
       "    </tr>\n",
       "    <tr>\n",
       "      <th>4</th>\n",
       "      <td>con</td>\n",
       "      <td>4.730647</td>\n",
       "    </tr>\n",
       "  </tbody>\n",
       "</table>\n",
       "</div>"
      ],
      "text/plain": [
       "  Trait     Score\n",
       "0   neu  3.770379\n",
       "1   ope  4.738109\n",
       "2   ext  3.946652\n",
       "3   agr  4.519399\n",
       "4   con  4.730647"
      ]
     },
     "execution_count": 24,
     "metadata": {},
     "output_type": "execute_result"
    }
   ],
   "source": [
    "df_print"
   ]
  },
  {
   "cell_type": "code",
   "execution_count": 25,
   "id": "0ce5da48",
   "metadata": {},
   "outputs": [],
   "source": [
    "df_print.Trait = ['Neuroticism','Openness', 'Extraversion', 'Agreeableness', 'Conscientiousness']"
   ]
  },
  {
   "cell_type": "code",
   "execution_count": 26,
   "id": "c3e532d7",
   "metadata": {},
   "outputs": [
    {
     "data": {
      "text/html": [
       "<div>\n",
       "<style scoped>\n",
       "    .dataframe tbody tr th:only-of-type {\n",
       "        vertical-align: middle;\n",
       "    }\n",
       "\n",
       "    .dataframe tbody tr th {\n",
       "        vertical-align: top;\n",
       "    }\n",
       "\n",
       "    .dataframe thead th {\n",
       "        text-align: right;\n",
       "    }\n",
       "</style>\n",
       "<table border=\"1\" class=\"dataframe\">\n",
       "  <thead>\n",
       "    <tr style=\"text-align: right;\">\n",
       "      <th></th>\n",
       "      <th>Trait</th>\n",
       "      <th>Score</th>\n",
       "    </tr>\n",
       "  </thead>\n",
       "  <tbody>\n",
       "    <tr>\n",
       "      <th>0</th>\n",
       "      <td>Neuroticism</td>\n",
       "      <td>3.770379</td>\n",
       "    </tr>\n",
       "    <tr>\n",
       "      <th>1</th>\n",
       "      <td>Openness</td>\n",
       "      <td>4.738109</td>\n",
       "    </tr>\n",
       "    <tr>\n",
       "      <th>2</th>\n",
       "      <td>Extraversion</td>\n",
       "      <td>3.946652</td>\n",
       "    </tr>\n",
       "    <tr>\n",
       "      <th>3</th>\n",
       "      <td>Agreeableness</td>\n",
       "      <td>4.519399</td>\n",
       "    </tr>\n",
       "    <tr>\n",
       "      <th>4</th>\n",
       "      <td>Conscientiousness</td>\n",
       "      <td>4.730647</td>\n",
       "    </tr>\n",
       "  </tbody>\n",
       "</table>\n",
       "</div>"
      ],
      "text/plain": [
       "               Trait     Score\n",
       "0        Neuroticism  3.770379\n",
       "1           Openness  4.738109\n",
       "2       Extraversion  3.946652\n",
       "3      Agreeableness  4.519399\n",
       "4  Conscientiousness  4.730647"
      ]
     },
     "execution_count": 26,
     "metadata": {},
     "output_type": "execute_result"
    }
   ],
   "source": [
    "df_print"
   ]
  },
  {
   "cell_type": "code",
   "execution_count": 27,
   "id": "57561cdc",
   "metadata": {},
   "outputs": [
    {
     "data": {
      "text/plain": [
       "[{'Trait': 'Neuroticism', 'Score': 3.7703786607908976},\n",
       " {'Trait': 'Openness', 'Score': 4.738108561928745},\n",
       " {'Trait': 'Extraversion', 'Score': 3.9466517438910653},\n",
       " {'Trait': 'Agreeableness', 'Score': 4.51939936588323},\n",
       " {'Trait': 'Conscientiousness', 'Score': 4.73064726720761}]"
      ]
     },
     "execution_count": 27,
     "metadata": {},
     "output_type": "execute_result"
    }
   ],
   "source": [
    "df_print.to_dict('records')"
   ]
  },
  {
   "cell_type": "code",
   "execution_count": 10,
   "id": "b8078c3c",
   "metadata": {},
   "outputs": [
    {
     "data": {
      "text/plain": [
       "[{'index': 'neu', 0: 3.7703786607908976},\n",
       " {'index': 'ope', 0: 4.738108561928745},\n",
       " {'index': 'ext', 0: 3.9466517438910653},\n",
       " {'index': 'agr', 0: 4.51939936588323},\n",
       " {'index': 'con', 0: 4.73064726720761}]"
      ]
     },
     "execution_count": 10,
     "metadata": {},
     "output_type": "execute_result"
    }
   ],
   "source": [
    "pd.DataFrame(df[df.Country == 'Argentina'][['neu','ope','ext','agr','con']].mean()).reset_index().to_dict('records')"
   ]
  },
  {
   "cell_type": "code",
   "execution_count": 7,
   "id": "08036c62",
   "metadata": {},
   "outputs": [
    {
     "data": {
      "text/plain": [
       "[{0: 3.7703786607908976},\n",
       " {0: 4.738108561928745},\n",
       " {0: 3.9466517438910653},\n",
       " {0: 4.51939936588323},\n",
       " {0: 4.73064726720761}]"
      ]
     },
     "execution_count": 7,
     "metadata": {},
     "output_type": "execute_result"
    }
   ],
   "source": [
    "pd.DataFrame(df[df.Country == 'Argentina'][['neu','ope','ext','agr','con']].mean()).to_dict('records')"
   ]
  },
  {
   "cell_type": "code",
   "execution_count": null,
   "id": "9bc4c15d",
   "metadata": {},
   "outputs": [],
   "source": []
  }
 ],
 "metadata": {
  "kernelspec": {
   "display_name": "Python 3",
   "language": "python",
   "name": "python3"
  },
  "language_info": {
   "codemirror_mode": {
    "name": "ipython",
    "version": 3
   },
   "file_extension": ".py",
   "mimetype": "text/x-python",
   "name": "python",
   "nbconvert_exporter": "python",
   "pygments_lexer": "ipython3",
   "version": "3.8.6"
  }
 },
 "nbformat": 4,
 "nbformat_minor": 5
}
