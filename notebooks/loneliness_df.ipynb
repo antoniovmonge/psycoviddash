{
 "cells": [
  {
   "cell_type": "code",
   "execution_count": 1,
   "id": "42ca66ad",
   "metadata": {},
   "outputs": [],
   "source": [
    "import pandas as pd"
   ]
  },
  {
   "cell_type": "code",
   "execution_count": 3,
   "id": "35e000cc",
   "metadata": {},
   "outputs": [],
   "source": [
    "df = pd.read_csv('../raw_data/cleaned_data_040321.csv',index_col=0)"
   ]
  },
  {
   "cell_type": "code",
   "execution_count": 6,
   "id": "c1597f7f",
   "metadata": {},
   "outputs": [
    {
     "name": "stdout",
     "output_type": "stream",
     "text": [
      "\"UserLanguage\",\"Dem_age\",\"Dem_gender\",\"Dem_edu\",\"Dem_edu_mom\",\"Dem_employment\",\"Country\",\"Dem_Expat\",\"Dem_maritalstatus\",\"Dem_dependents\",\"Dem_riskgroup\",\"Dem_isolation\",\"Dem_isolation_adults\",\"Dem_isolation_kids\",\"Scale_PSS10_UCLA_1\",\"Scale_PSS10_UCLA_2\",\"Scale_PSS10_UCLA_3\",\"Scale_PSS10_UCLA_4\",\"Scale_PSS10_UCLA_5\",\"Scale_PSS10_UCLA_6\",\"Scale_PSS10_UCLA_7\",\"Scale_PSS10_UCLA_8\",\"Scale_PSS10_UCLA_9\",\"Scale_PSS10_UCLA_10\",\"Scale_SLON_1\",\"Scale_SLON_2\",\"Scale_SLON_3\",\"OECD_people_1\",\"OECD_people_2\",\"OECD_insititutions_1\",\"OECD_insititutions_2\",\"OECD_insititutions_3\",\"OECD_insititutions_4\",\"OECD_insititutions_5\",\"OECD_insititutions_6\",\"Corona_concerns_1\",\"Corona_concerns_2\",\"Corona_concerns_3\",\"Corona_concerns_4\",\"Corona_concerns_5\",\"Trust_countrymeasure\",\"Compliance_1\",\"Compliance_2\",\"Compliance_3\",\"Compliance_4\",\"Compliance_5\",\"Compliance_6\",\"BFF_15_1\",\"BFF_15_2\",\"BFF_15_3\",\"BFF_15_4\",\"BFF_15_5\",\"BFF_15_6\",\"BFF_15_7\",\"BFF_15_8\",\"BFF_15_9\",\"BFF_15_10\",\"BFF_15_11\",\"BFF_15_12\",\"BFF_15_13\",\"BFF_15_14\",\"BFF_15_15\",\"Expl_Distress_1\",\"Expl_Distress_2\",\"Expl_Distress_3\",\"Expl_Distress_4\",\"Expl_Distress_5\",\"Expl_Distress_6\",\"Expl_Distress_7\",\"Expl_Distress_8\",\"Expl_Distress_9\",\"Expl_Distress_10\",\"Expl_Distress_11\",\"Expl_Distress_12\",\"Expl_Distress_13\",\"Expl_Distress_14\",\"Expl_Distress_15\",\"Expl_Distress_16\",\"Expl_Distress_17\",\"Expl_Distress_18\",\"Expl_Distress_19\",\"Expl_Distress_20\",\"Expl_Distress_21\",\"Expl_Distress_22\",\"Expl_Distress_23\",\"Expl_Distress_24\",\"SPS_1\",\"SPS_2\",\"SPS_3\",\"SPS_4\",\"SPS_5\",\"SPS_6\",\"SPS_7\",\"SPS_8\",\"SPS_9\",\"SPS_10\",\"Expl_Coping_1\",\"Expl_Coping_2\",\"Expl_Coping_3\",\"Expl_Coping_5\",\"Expl_Coping_6\",\"Expl_Coping_7\",\"Expl_Coping_8\",\"Expl_Coping_9\",\"Expl_Coping_10\",\"Expl_Coping_11\",\"Expl_Coping_12\",\"Expl_Coping_13\",\"Expl_Coping_14\",\"Expl_Coping_15\",\"Expl_Coping_16\",\"Expl_media_1\",\"Expl_media_2\",\"Expl_media_3\",\"Expl_media_4\",\"Expl_media_5\",\"Expl_media_6\",\"PSS10_avg\",\"SLON3_avg\",\"neu\",\"ext\",\"ope\",\"agr\",\"con\",\"SPS_avg\","
     ]
    }
   ],
   "source": [
    "for i in df.columns:\n",
    "    print(f'\"{i}\",', end='')"
   ]
  },
  {
   "cell_type": "code",
   "execution_count": 7,
   "id": "ac91de26",
   "metadata": {},
   "outputs": [],
   "source": [
    "df_loneliness = df.groupby(['Country']).mean().reset_index()\n",
    "df_loneliness_country = df_loneliness[['SLON3_avg', 'Country']].sort_values(\n",
    "    by='SLON3_avg', ascending=True)"
   ]
  },
  {
   "cell_type": "code",
   "execution_count": 9,
   "id": "ce290246",
   "metadata": {},
   "outputs": [
    {
     "data": {
      "text/plain": [
       "array(['Taiwan', 'Panama', 'Denmark', 'Kosovo', 'Indonesia', 'France',\n",
       "       'Korea, South', 'Japan', 'Malaysia', 'Switzerland', 'Netherlands',\n",
       "       'Mexico', 'Greece', 'Ireland', 'Spain', 'Sweden', 'Lithuania',\n",
       "       'Portugal', 'Belgium', 'Argentina', 'Finland', 'Pakistan',\n",
       "       'United States', 'United Kingdom', 'Germany', 'Canada', 'Bulgaria',\n",
       "       'Philippines', 'Australia', 'Serbia', 'Hungary', 'Austria',\n",
       "       'Italy', 'Brazil', 'Turkey', 'Bangladesh', 'Romania', 'Croatia',\n",
       "       'Bosnia and Herzegovina', 'Czech Republic', 'Slovakia', 'Poland'],\n",
       "      dtype=object)"
      ]
     },
     "execution_count": 9,
     "metadata": {},
     "output_type": "execute_result"
    }
   ],
   "source": [
    "df_loneliness_country.Country.unique()"
   ]
  },
  {
   "cell_type": "code",
   "execution_count": 10,
   "id": "7a67fc6e",
   "metadata": {},
   "outputs": [],
   "source": [
    "df_loneliness_country = df_loneliness_country.replace({'Counrt':'Bosnia and Herzegovina'},'B&H')"
   ]
  },
  {
   "cell_type": "code",
   "execution_count": null,
   "id": "92069d2e",
   "metadata": {},
   "outputs": [],
   "source": []
  }
 ],
 "metadata": {
  "kernelspec": {
   "display_name": "Python 3",
   "language": "python",
   "name": "python3"
  },
  "language_info": {
   "codemirror_mode": {
    "name": "ipython",
    "version": 3
   },
   "file_extension": ".py",
   "mimetype": "text/x-python",
   "name": "python",
   "nbconvert_exporter": "python",
   "pygments_lexer": "ipython3",
   "version": "3.8.6"
  }
 },
 "nbformat": 4,
 "nbformat_minor": 5
}
