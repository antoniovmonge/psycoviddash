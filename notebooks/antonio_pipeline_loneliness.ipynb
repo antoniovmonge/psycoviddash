{
 "cells": [
  {
   "cell_type": "code",
   "execution_count": 1,
   "id": "2a1d7003",
   "metadata": {},
   "outputs": [],
   "source": [
    "from sklearn import preprocessing\n",
    "from sklearn.preprocessing import OneHotEncoder\n",
    "import pandas as pd\n",
    "import matplotlib.pyplot as plt\n",
    "import numpy as np\n",
    "%matplotlib inline\n",
    "from sklearn.compose import ColumnTransformer\n",
    "from sklearn.preprocessing import FunctionTransformer\n",
    "from sklearn.pipeline import Pipeline\n",
    "from sklearn.preprocessing import MinMaxScaler\n",
    "from sklearn import set_config; set_config(display='diagram')\n",
    "from sklearn.linear_model import LinearRegression"
   ]
  },
  {
   "cell_type": "code",
   "execution_count": 2,
   "id": "8da8eedb",
   "metadata": {},
   "outputs": [],
   "source": [
    "df=pd.read_csv('../raw_data/cleaned_data_040321.csv',encoding='latin-1')"
   ]
  },
  {
   "cell_type": "code",
   "execution_count": 5,
   "id": "022ec471",
   "metadata": {},
   "outputs": [],
   "source": [
    "X=df[[\n",
    "    'BFF_15_1','BFF_15_2','BFF_15_3','BFF_15_4','BFF_15_5','BFF_15_6','BFF_15_7','BFF_15_8','BFF_15_9','BFF_15_10','BFF_15_11',\n",
    "    'BFF_15_12','BFF_15_13','BFF_15_14','BFF_15_15','Dem_age','Dem_gender','Dem_edu','Dem_edu_mom','Dem_employment','Dem_Expat',\n",
    "    'Dem_maritalstatus','Dem_riskgroup','Dem_isolation'\n",
    "]]\n",
    "y=df['SLON3_avg']"
   ]
  },
  {
   "cell_type": "code",
   "execution_count": 8,
   "id": "dff3c9fc",
   "metadata": {},
   "outputs": [],
   "source": [
    "def edu_func(X):\n",
    "    X['Dem_edu']=X['Dem_edu'].replace({'Uninformative response':0,'None':1,'Up to 6 years of school':2, 'Up to 9 years of school':3, 'Up to 12 years of school':4, 'Some College, short continuing education or equivalent':5, 'College degree, bachelor, master': 6, 'PhD/Doctorate':7 })\n",
    "    return  X[['Dem_edu']]\n",
    "\n",
    "\n",
    "def edu_mom_func(X):    \n",
    "    X['Dem_edu_mom'] = X['Dem_edu_mom'].replace({'Uninformative response':0,'None':1,'Up to 6 years of school':2, 'Up to 9 years of school':3, 'Up to 12 years of school':4, 'Some College or equivalent':5, 'College degree': 6, 'PhD/Doctorate':7 })\n",
    "    return  X[['Dem_edu_mom']]\n",
    "\n",
    "\n",
    "def edu_risk_group(X): \n",
    "    X['Dem_riskgroup'] = X['Dem_riskgroup'].replace({'No':1,'Not sure':2, 'Yes':3})    \n",
    "    return  X[['Dem_riskgroup']]\n",
    "\n",
    "def dem_expat_func(X):\n",
    "    X['Dem_Expat'] = X['Dem_Expat'].replace({'no':0,'yes':1})\n",
    "    return X[['Dem_Expat']]\n",
    "\n",
    "preprocessor = ColumnTransformer(\n",
    "    [    \n",
    "        ('Dem_edu_col', FunctionTransformer(edu_func), ['Dem_edu']),\n",
    "        ('Dem_edu_mom', FunctionTransformer(edu_mom_func), ['Dem_edu_mom']),\n",
    "        ('Dem_edu_risk_group', FunctionTransformer(edu_risk_group), ['Dem_riskgroup']),\n",
    "        ('dem_expat_func', FunctionTransformer(dem_expat_func), ['Dem_Expat']),\n",
    "        ('ohe_transformer', OneHotEncoder(), ['Dem_gender', 'Dem_maritalstatus','Dem_employment','Dem_isolation'])\n",
    "    ],remainder='passthrough'\n",
    ")\n",
    "\n",
    "base_pipe = Pipeline([\n",
    "    ('imputer', preprocessor),\n",
    "    ('scaler', MinMaxScaler())\n",
    "])\n",
    "\n",
    "\n",
    "\n",
    "loneliness_pipe = Pipeline([\n",
    "    ('preprocessing', base_pipe),\n",
    "    ('linear_regression',  LinearRegression())\n",
    "])"
   ]
  },
  {
   "cell_type": "code",
   "execution_count": 9,
   "id": "443921b4",
   "metadata": {},
   "outputs": [
    {
     "data": {
      "text/html": [
       "<style>div.sk-top-container {color: black;background-color: white;}div.sk-toggleable {background-color: white;}label.sk-toggleable__label {cursor: pointer;display: block;width: 100%;margin-bottom: 0;padding: 0.2em 0.3em;box-sizing: border-box;text-align: center;}div.sk-toggleable__content {max-height: 0;max-width: 0;overflow: hidden;text-align: left;background-color: #f0f8ff;}div.sk-toggleable__content pre {margin: 0.2em;color: black;border-radius: 0.25em;background-color: #f0f8ff;}input.sk-toggleable__control:checked~div.sk-toggleable__content {max-height: 200px;max-width: 100%;overflow: auto;}div.sk-estimator input.sk-toggleable__control:checked~label.sk-toggleable__label {background-color: #d4ebff;}div.sk-label input.sk-toggleable__control:checked~label.sk-toggleable__label {background-color: #d4ebff;}input.sk-hidden--visually {border: 0;clip: rect(1px 1px 1px 1px);clip: rect(1px, 1px, 1px, 1px);height: 1px;margin: -1px;overflow: hidden;padding: 0;position: absolute;width: 1px;}div.sk-estimator {font-family: monospace;background-color: #f0f8ff;margin: 0.25em 0.25em;border: 1px dotted black;border-radius: 0.25em;box-sizing: border-box;}div.sk-estimator:hover {background-color: #d4ebff;}div.sk-parallel-item::after {content: \"\";width: 100%;border-bottom: 1px solid gray;flex-grow: 1;}div.sk-label:hover label.sk-toggleable__label {background-color: #d4ebff;}div.sk-serial::before {content: \"\";position: absolute;border-left: 1px solid gray;box-sizing: border-box;top: 2em;bottom: 0;left: 50%;}div.sk-serial {display: flex;flex-direction: column;align-items: center;background-color: white;}div.sk-item {z-index: 1;}div.sk-parallel {display: flex;align-items: stretch;justify-content: center;background-color: white;}div.sk-parallel-item {display: flex;flex-direction: column;position: relative;background-color: white;}div.sk-parallel-item:first-child::after {align-self: flex-end;width: 50%;}div.sk-parallel-item:last-child::after {align-self: flex-start;width: 50%;}div.sk-parallel-item:only-child::after {width: 0;}div.sk-dashed-wrapped {border: 1px dashed gray;margin: 0.2em;box-sizing: border-box;padding-bottom: 0.1em;background-color: white;position: relative;}div.sk-label label {font-family: monospace;font-weight: bold;background-color: white;display: inline-block;line-height: 1.2em;}div.sk-label-container {position: relative;z-index: 2;text-align: center;}div.sk-container {display: inline-block;position: relative;}</style><div class=\"sk-top-container\"><div class=\"sk-container\"><div class=\"sk-item sk-dashed-wrapped\"><div class=\"sk-label-container\"><div class=\"sk-label sk-toggleable\"><input class=\"sk-toggleable__control sk-hidden--visually\" id=\"e281def3-e1db-4483-918a-4f1292400b2d\" type=\"checkbox\" ><label class=\"sk-toggleable__label\" for=\"e281def3-e1db-4483-918a-4f1292400b2d\">Pipeline</label><div class=\"sk-toggleable__content\"><pre>Pipeline(steps=[('preprocessing',\n",
       "                 Pipeline(steps=[('imputer',\n",
       "                                  ColumnTransformer(remainder='passthrough',\n",
       "                                                    transformers=[('Dem_edu_col',\n",
       "                                                                   FunctionTransformer(func=<function edu_func at 0x7fab08ee7820>),\n",
       "                                                                   ['Dem_edu']),\n",
       "                                                                  ('Dem_edu_mom',\n",
       "                                                                   FunctionTransformer(func=<function edu_mom_func at 0x7fab08ee7940>),\n",
       "                                                                   ['Dem_edu_mom']),\n",
       "                                                                  ('Dem_edu_risk_group',\n",
       "                                                                   FunctionTransformer(func=<function edu_risk_group at 0x7fab08ee7af0>),\n",
       "                                                                   ['Dem_riskgroup']),\n",
       "                                                                  ('dem_expat_func',\n",
       "                                                                   FunctionTransformer(func=<function dem_expat_func at 0x7fab08ee7b80>),\n",
       "                                                                   ['Dem_Expat']),\n",
       "                                                                  ('ohe_transformer',\n",
       "                                                                   OneHotEncoder(),\n",
       "                                                                   ['Dem_gender',\n",
       "                                                                    'Dem_maritalstatus',\n",
       "                                                                    'Dem_employment',\n",
       "                                                                    'Dem_isolation'])])),\n",
       "                                 ('scaler', MinMaxScaler())])),\n",
       "                ('linear_regression', LinearRegression())])</pre></div></div></div><div class=\"sk-serial\"><div class=\"sk-item\"><div class=\"sk-label-container\"><div class=\"sk-label sk-toggleable\"><input class=\"sk-toggleable__control sk-hidden--visually\" id=\"b1d5f8d0-2bfc-4b49-8eac-d171e7441e8a\" type=\"checkbox\" ><label class=\"sk-toggleable__label\" for=\"b1d5f8d0-2bfc-4b49-8eac-d171e7441e8a\">preprocessing: Pipeline</label><div class=\"sk-toggleable__content\"><pre>Pipeline(steps=[('imputer',\n",
       "                 ColumnTransformer(remainder='passthrough',\n",
       "                                   transformers=[('Dem_edu_col',\n",
       "                                                  FunctionTransformer(func=<function edu_func at 0x7fab08ee7820>),\n",
       "                                                  ['Dem_edu']),\n",
       "                                                 ('Dem_edu_mom',\n",
       "                                                  FunctionTransformer(func=<function edu_mom_func at 0x7fab08ee7940>),\n",
       "                                                  ['Dem_edu_mom']),\n",
       "                                                 ('Dem_edu_risk_group',\n",
       "                                                  FunctionTransformer(func=<function edu_risk_group at 0x7fab08ee7af0>),\n",
       "                                                  ['Dem_riskgroup']),\n",
       "                                                 ('dem_expat_func',\n",
       "                                                  FunctionTransformer(func=<function dem_expat_func at 0x7fab08ee7b80>),\n",
       "                                                  ['Dem_Expat']),\n",
       "                                                 ('ohe_transformer',\n",
       "                                                  OneHotEncoder(),\n",
       "                                                  ['Dem_gender',\n",
       "                                                   'Dem_maritalstatus',\n",
       "                                                   'Dem_employment',\n",
       "                                                   'Dem_isolation'])])),\n",
       "                ('scaler', MinMaxScaler())])</pre></div></div></div><div class=\"sk-serial\"><div class=\"sk-item sk-dashed-wrapped\"><div class=\"sk-label-container\"><div class=\"sk-label sk-toggleable\"><input class=\"sk-toggleable__control sk-hidden--visually\" id=\"c39f5065-1947-4289-90a0-d87b8fa6fadb\" type=\"checkbox\" ><label class=\"sk-toggleable__label\" for=\"c39f5065-1947-4289-90a0-d87b8fa6fadb\">imputer: ColumnTransformer</label><div class=\"sk-toggleable__content\"><pre>ColumnTransformer(remainder='passthrough',\n",
       "                  transformers=[('Dem_edu_col',\n",
       "                                 FunctionTransformer(func=<function edu_func at 0x7fab08ee7820>),\n",
       "                                 ['Dem_edu']),\n",
       "                                ('Dem_edu_mom',\n",
       "                                 FunctionTransformer(func=<function edu_mom_func at 0x7fab08ee7940>),\n",
       "                                 ['Dem_edu_mom']),\n",
       "                                ('Dem_edu_risk_group',\n",
       "                                 FunctionTransformer(func=<function edu_risk_group at 0x7fab08ee7af0>),\n",
       "                                 ['Dem_riskgroup']),\n",
       "                                ('dem_expat_func',\n",
       "                                 FunctionTransformer(func=<function dem_expat_func at 0x7fab08ee7b80>),\n",
       "                                 ['Dem_Expat']),\n",
       "                                ('ohe_transformer', OneHotEncoder(),\n",
       "                                 ['Dem_gender', 'Dem_maritalstatus',\n",
       "                                  'Dem_employment', 'Dem_isolation'])])</pre></div></div></div><div class=\"sk-parallel\"><div class=\"sk-parallel-item\"><div class=\"sk-item\"><div class=\"sk-label-container\"><div class=\"sk-label sk-toggleable\"><input class=\"sk-toggleable__control sk-hidden--visually\" id=\"a20c4d21-ac3c-402e-812f-4ba76b040471\" type=\"checkbox\" ><label class=\"sk-toggleable__label\" for=\"a20c4d21-ac3c-402e-812f-4ba76b040471\">Dem_edu_col</label><div class=\"sk-toggleable__content\"><pre>['Dem_edu']</pre></div></div></div><div class=\"sk-serial\"><div class=\"sk-item\"><div class=\"sk-estimator sk-toggleable\"><input class=\"sk-toggleable__control sk-hidden--visually\" id=\"14bf0529-6527-48b6-bad5-6907c97fa6ee\" type=\"checkbox\" ><label class=\"sk-toggleable__label\" for=\"14bf0529-6527-48b6-bad5-6907c97fa6ee\">FunctionTransformer</label><div class=\"sk-toggleable__content\"><pre>FunctionTransformer(func=<function edu_func at 0x7fab08ee7820>)</pre></div></div></div></div></div></div><div class=\"sk-parallel-item\"><div class=\"sk-item\"><div class=\"sk-label-container\"><div class=\"sk-label sk-toggleable\"><input class=\"sk-toggleable__control sk-hidden--visually\" id=\"474e2bb1-4880-4516-bc16-c03d2c96558b\" type=\"checkbox\" ><label class=\"sk-toggleable__label\" for=\"474e2bb1-4880-4516-bc16-c03d2c96558b\">Dem_edu_mom</label><div class=\"sk-toggleable__content\"><pre>['Dem_edu_mom']</pre></div></div></div><div class=\"sk-serial\"><div class=\"sk-item\"><div class=\"sk-estimator sk-toggleable\"><input class=\"sk-toggleable__control sk-hidden--visually\" id=\"0622c07d-b005-475e-85ed-327fb66d74bd\" type=\"checkbox\" ><label class=\"sk-toggleable__label\" for=\"0622c07d-b005-475e-85ed-327fb66d74bd\">FunctionTransformer</label><div class=\"sk-toggleable__content\"><pre>FunctionTransformer(func=<function edu_mom_func at 0x7fab08ee7940>)</pre></div></div></div></div></div></div><div class=\"sk-parallel-item\"><div class=\"sk-item\"><div class=\"sk-label-container\"><div class=\"sk-label sk-toggleable\"><input class=\"sk-toggleable__control sk-hidden--visually\" id=\"db057695-cdf8-4ee8-84f7-bcee5d1681e8\" type=\"checkbox\" ><label class=\"sk-toggleable__label\" for=\"db057695-cdf8-4ee8-84f7-bcee5d1681e8\">Dem_edu_risk_group</label><div class=\"sk-toggleable__content\"><pre>['Dem_riskgroup']</pre></div></div></div><div class=\"sk-serial\"><div class=\"sk-item\"><div class=\"sk-estimator sk-toggleable\"><input class=\"sk-toggleable__control sk-hidden--visually\" id=\"d576928e-8a07-453d-ad63-a591f6085268\" type=\"checkbox\" ><label class=\"sk-toggleable__label\" for=\"d576928e-8a07-453d-ad63-a591f6085268\">FunctionTransformer</label><div class=\"sk-toggleable__content\"><pre>FunctionTransformer(func=<function edu_risk_group at 0x7fab08ee7af0>)</pre></div></div></div></div></div></div><div class=\"sk-parallel-item\"><div class=\"sk-item\"><div class=\"sk-label-container\"><div class=\"sk-label sk-toggleable\"><input class=\"sk-toggleable__control sk-hidden--visually\" id=\"fe8bf1a8-f77e-438f-a823-55b0006376d6\" type=\"checkbox\" ><label class=\"sk-toggleable__label\" for=\"fe8bf1a8-f77e-438f-a823-55b0006376d6\">dem_expat_func</label><div class=\"sk-toggleable__content\"><pre>['Dem_Expat']</pre></div></div></div><div class=\"sk-serial\"><div class=\"sk-item\"><div class=\"sk-estimator sk-toggleable\"><input class=\"sk-toggleable__control sk-hidden--visually\" id=\"a55791da-1938-4094-805f-14f09f6b67e8\" type=\"checkbox\" ><label class=\"sk-toggleable__label\" for=\"a55791da-1938-4094-805f-14f09f6b67e8\">FunctionTransformer</label><div class=\"sk-toggleable__content\"><pre>FunctionTransformer(func=<function dem_expat_func at 0x7fab08ee7b80>)</pre></div></div></div></div></div></div><div class=\"sk-parallel-item\"><div class=\"sk-item\"><div class=\"sk-label-container\"><div class=\"sk-label sk-toggleable\"><input class=\"sk-toggleable__control sk-hidden--visually\" id=\"40783f0f-71e6-4a22-a971-7887fbd416e1\" type=\"checkbox\" ><label class=\"sk-toggleable__label\" for=\"40783f0f-71e6-4a22-a971-7887fbd416e1\">ohe_transformer</label><div class=\"sk-toggleable__content\"><pre>['Dem_gender', 'Dem_maritalstatus', 'Dem_employment', 'Dem_isolation']</pre></div></div></div><div class=\"sk-serial\"><div class=\"sk-item\"><div class=\"sk-estimator sk-toggleable\"><input class=\"sk-toggleable__control sk-hidden--visually\" id=\"a82abbff-ff68-43df-8881-281cbc874586\" type=\"checkbox\" ><label class=\"sk-toggleable__label\" for=\"a82abbff-ff68-43df-8881-281cbc874586\">OneHotEncoder</label><div class=\"sk-toggleable__content\"><pre>OneHotEncoder()</pre></div></div></div></div></div></div><div class=\"sk-parallel-item\"><div class=\"sk-item\"><div class=\"sk-label-container\"><div class=\"sk-label sk-toggleable\"><input class=\"sk-toggleable__control sk-hidden--visually\" id=\"a92327c9-6a31-4654-bf6d-b2f77719ab49\" type=\"checkbox\" ><label class=\"sk-toggleable__label\" for=\"a92327c9-6a31-4654-bf6d-b2f77719ab49\">remainder</label><div class=\"sk-toggleable__content\"><pre>['BFF_15_1', 'BFF_15_2', 'BFF_15_3', 'BFF_15_4', 'BFF_15_5', 'BFF_15_6', 'BFF_15_7', 'BFF_15_8', 'BFF_15_9', 'BFF_15_10', 'BFF_15_11', 'BFF_15_12', 'BFF_15_13', 'BFF_15_14', 'BFF_15_15', 'Dem_age']</pre></div></div></div><div class=\"sk-serial\"><div class=\"sk-item\"><div class=\"sk-estimator sk-toggleable\"><input class=\"sk-toggleable__control sk-hidden--visually\" id=\"a3dbe295-a5e1-46d2-a4fd-989ba13d0398\" type=\"checkbox\" ><label class=\"sk-toggleable__label\" for=\"a3dbe295-a5e1-46d2-a4fd-989ba13d0398\">passthrough</label><div class=\"sk-toggleable__content\"><pre>passthrough</pre></div></div></div></div></div></div></div></div><div class=\"sk-item\"><div class=\"sk-estimator sk-toggleable\"><input class=\"sk-toggleable__control sk-hidden--visually\" id=\"f8756027-0d14-4f3c-8991-9d87c81d8cc7\" type=\"checkbox\" ><label class=\"sk-toggleable__label\" for=\"f8756027-0d14-4f3c-8991-9d87c81d8cc7\">MinMaxScaler</label><div class=\"sk-toggleable__content\"><pre>MinMaxScaler()</pre></div></div></div></div></div><div class=\"sk-item\"><div class=\"sk-estimator sk-toggleable\"><input class=\"sk-toggleable__control sk-hidden--visually\" id=\"d5620de4-8898-4945-b64c-780e0718b85f\" type=\"checkbox\" ><label class=\"sk-toggleable__label\" for=\"d5620de4-8898-4945-b64c-780e0718b85f\">LinearRegression</label><div class=\"sk-toggleable__content\"><pre>LinearRegression()</pre></div></div></div></div></div></div></div>"
      ],
      "text/plain": [
       "Pipeline(steps=[('preprocessing',\n",
       "                 Pipeline(steps=[('imputer',\n",
       "                                  ColumnTransformer(remainder='passthrough',\n",
       "                                                    transformers=[('Dem_edu_col',\n",
       "                                                                   FunctionTransformer(func=<function edu_func at 0x7fab08ee7820>),\n",
       "                                                                   ['Dem_edu']),\n",
       "                                                                  ('Dem_edu_mom',\n",
       "                                                                   FunctionTransformer(func=<function edu_mom_func at 0x7fab08ee7940>),\n",
       "                                                                   ['Dem_edu_mom']),\n",
       "                                                                  ('Dem_edu_risk_group',\n",
       "                                                                   FunctionTransformer(func=<function edu_risk_group at 0x7fab08ee7af0>),\n",
       "                                                                   ['Dem_riskgroup']),\n",
       "                                                                  ('dem_expat_func',\n",
       "                                                                   FunctionTransformer(func=<function dem_expat_func at 0x7fab08ee7b80>),\n",
       "                                                                   ['Dem_Expat']),\n",
       "                                                                  ('ohe_transformer',\n",
       "                                                                   OneHotEncoder(),\n",
       "                                                                   ['Dem_gender',\n",
       "                                                                    'Dem_maritalstatus',\n",
       "                                                                    'Dem_employment',\n",
       "                                                                    'Dem_isolation'])])),\n",
       "                                 ('scaler', MinMaxScaler())])),\n",
       "                ('linear_regression', LinearRegression())])"
      ]
     },
     "execution_count": 9,
     "metadata": {},
     "output_type": "execute_result"
    }
   ],
   "source": [
    "loneliness_pipe.fit(X,y)"
   ]
  },
  {
   "cell_type": "code",
   "execution_count": 10,
   "id": "3ae3fd8c",
   "metadata": {},
   "outputs": [
    {
     "data": {
      "text/plain": [
       "['model_linear_loneliness.joblib']"
      ]
     },
     "execution_count": 10,
     "metadata": {},
     "output_type": "execute_result"
    }
   ],
   "source": [
    "import joblib \n",
    "joblib.dump(loneliness_pipe, 'model_linear_loneliness.joblib')"
   ]
  },
  {
   "cell_type": "code",
   "execution_count": null,
   "id": "ccf17b57",
   "metadata": {},
   "outputs": [],
   "source": []
  }
 ],
 "metadata": {
  "kernelspec": {
   "display_name": "Python 3",
   "language": "python",
   "name": "python3"
  },
  "language_info": {
   "codemirror_mode": {
    "name": "ipython",
    "version": 3
   },
   "file_extension": ".py",
   "mimetype": "text/x-python",
   "name": "python",
   "nbconvert_exporter": "python",
   "pygments_lexer": "ipython3",
   "version": "3.8.6"
  }
 },
 "nbformat": 4,
 "nbformat_minor": 5
}
