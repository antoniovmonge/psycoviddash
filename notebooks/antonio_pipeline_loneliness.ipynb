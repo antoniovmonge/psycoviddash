{
 "cells": [
  {
   "cell_type": "code",
   "execution_count": 9,
   "id": "e66198ee",
   "metadata": {},
   "outputs": [],
   "source": [
    "from sklearn import preprocessing\n",
    "from sklearn.preprocessing import OneHotEncoder\n",
    "import pandas as pd\n",
    "import matplotlib.pyplot as plt\n",
    "import numpy as np\n",
    "%matplotlib inline\n",
    "from sklearn.compose import ColumnTransformer\n",
    "from sklearn.preprocessing import FunctionTransformer\n",
    "from sklearn.pipeline import Pipeline\n",
    "from sklearn.preprocessing import MinMaxScaler\n",
    "from sklearn import set_config; set_config(display='diagram')\n",
    "from sklearn.linear_model import LinearRegression"
   ]
  },
  {
   "cell_type": "code",
   "execution_count": 10,
   "id": "706afab3",
   "metadata": {},
   "outputs": [],
   "source": [
    "df=pd.read_csv('../raw_data/cleaned_data_040321.csv',encoding='latin-1')"
   ]
  },
  {
   "cell_type": "code",
   "execution_count": 11,
   "id": "086fafea",
   "metadata": {},
   "outputs": [],
   "source": [
    "X=df[[\n",
    "    'BFF_15_1','BFF_15_2','BFF_15_3','BFF_15_4','BFF_15_5','BFF_15_6','BFF_15_7','BFF_15_8','BFF_15_9','BFF_15_10','BFF_15_11',\n",
    "    'BFF_15_12','BFF_15_13','BFF_15_14','BFF_15_15','Dem_age','Dem_gender','Dem_edu','Dem_edu_mom','Dem_employment','Dem_Expat',\n",
    "    'Dem_maritalstatus','Dem_riskgroup','Dem_isolation'\n",
    "]]\n",
    "y=df['SLON3_avg']"
   ]
  },
  {
   "cell_type": "code",
   "execution_count": 12,
   "id": "4f45b44f",
   "metadata": {},
   "outputs": [
    {
     "data": {
      "text/plain": [
       "0        6\n",
       "1        6\n",
       "2        5\n",
       "3        4\n",
       "4        6\n",
       "        ..\n",
       "85484    6\n",
       "85485    6\n",
       "85486    5\n",
       "85487    4\n",
       "85488    5\n",
       "Name: Dem_edu, Length: 85489, dtype: int64"
      ]
     },
     "execution_count": 12,
     "metadata": {},
     "output_type": "execute_result"
    }
   ],
   "source": [
    "df['Dem_edu'].replace(\n",
    "        {\n",
    "            'Uninformative response':0,\n",
    "            'None':1,\n",
    "            'Up to 6 years of school':2, \n",
    "            'Up to 9 years of school':3,\n",
    "            'Up to 12 years of school':4, \n",
    "            'Some College, short continuing education or equivalent':5,\n",
    "            'College degree, bachelor, master': 6,\n",
    "            'PhD/Doctorate':7\n",
    "        })"
   ]
  },
  {
   "cell_type": "code",
   "execution_count": 13,
   "id": "1b1dbe52",
   "metadata": {},
   "outputs": [],
   "source": [
    "def edu_func(df):\n",
    "    df['Dem_edu']=df['Dem_edu'].replace(\n",
    "        {\n",
    "            'Uninformative response':0,\n",
    "            'None':1,\n",
    "            'Up to 6 years of school':2, \n",
    "            'Up to 9 years of school':3,\n",
    "            'Up to 12 years of school':4, \n",
    "            'Some College, short continuing education or equivalent':5,\n",
    "            'College degree, bachelor, master': 6,\n",
    "            'PhD/Doctorate':7\n",
    "        })\n",
    "    return  df[['Dem_edu']]\n",
    "\n",
    "def edu_mom_func(df):    \n",
    "    df['Dem_edu_mom'] = df['Dem_edu_mom'].replace({\n",
    "        'Uninformative response':0,\n",
    "        'None':1,\n",
    "        'Up to 6 years of school':2,\n",
    "        'Up to 9 years of school':3,\n",
    "        'Up to 12 years of school':4,\n",
    "        'Some College or equivalent':5,\n",
    "        'College degree': 6,\n",
    "        'PhD/Doctorate':7\n",
    "    }\n",
    "    )\n",
    "    return  df[['Dem_edu_mom']]\n",
    "\n",
    "\n",
    "def risk_group_func(df): \n",
    "    df['Dem_riskgroup'] = df['Dem_riskgroup'].replace({'No':1,'Not sure':2, 'Yes':3})    \n",
    "    return  df[['Dem_riskgroup']]\n",
    "\n",
    "def expat_func(df):\n",
    "    df['Dem_Expat'] = df['Dem_Expat'].replace({'no':0,'yes':1})\n",
    "    return df[['Dem_Expat']]"
   ]
  },
  {
   "cell_type": "code",
   "execution_count": 16,
   "id": "66e84a9f",
   "metadata": {},
   "outputs": [],
   "source": [
    "preprocessor = ColumnTransformer(\n",
    "    [    \n",
    "        ('edu', FunctionTransformer(edu_func), ['Dem_edu']),\n",
    "        ('edu_mom', FunctionTransformer(edu_mom_func), ['Dem_edu_mom']),\n",
    "        ('risk_group', FunctionTransformer(risk_group_func), ['Dem_riskgroup']),\n",
    "        ('expat', FunctionTransformer(expat_func), ['Dem_Expat']),\n",
    "        ('ohe_transformer', OneHotEncoder(), ['Dem_gender', 'Dem_maritalstatus','Dem_employment','Dem_isolation'])\n",
    "    ],remainder='passthrough'\n",
    ")\n",
    "\n",
    "base_pipe = Pipeline([\n",
    "    ('imputer', preprocessor),\n",
    "    ('scaler', MinMaxScaler())\n",
    "])\n",
    "\n",
    "\n",
    "\n",
    "loneliness_pipe = Pipeline([\n",
    "    ('preprocessing', base_pipe),\n",
    "    ('linear_regression',  LinearRegression())\n",
    "])"
   ]
  },
  {
   "cell_type": "code",
   "execution_count": 17,
   "id": "b269a2b3",
   "metadata": {},
   "outputs": [
    {
     "data": {
      "text/html": [
       "<style>div.sk-top-container {color: black;background-color: white;}div.sk-toggleable {background-color: white;}label.sk-toggleable__label {cursor: pointer;display: block;width: 100%;margin-bottom: 0;padding: 0.2em 0.3em;box-sizing: border-box;text-align: center;}div.sk-toggleable__content {max-height: 0;max-width: 0;overflow: hidden;text-align: left;background-color: #f0f8ff;}div.sk-toggleable__content pre {margin: 0.2em;color: black;border-radius: 0.25em;background-color: #f0f8ff;}input.sk-toggleable__control:checked~div.sk-toggleable__content {max-height: 200px;max-width: 100%;overflow: auto;}div.sk-estimator input.sk-toggleable__control:checked~label.sk-toggleable__label {background-color: #d4ebff;}div.sk-label input.sk-toggleable__control:checked~label.sk-toggleable__label {background-color: #d4ebff;}input.sk-hidden--visually {border: 0;clip: rect(1px 1px 1px 1px);clip: rect(1px, 1px, 1px, 1px);height: 1px;margin: -1px;overflow: hidden;padding: 0;position: absolute;width: 1px;}div.sk-estimator {font-family: monospace;background-color: #f0f8ff;margin: 0.25em 0.25em;border: 1px dotted black;border-radius: 0.25em;box-sizing: border-box;}div.sk-estimator:hover {background-color: #d4ebff;}div.sk-parallel-item::after {content: \"\";width: 100%;border-bottom: 1px solid gray;flex-grow: 1;}div.sk-label:hover label.sk-toggleable__label {background-color: #d4ebff;}div.sk-serial::before {content: \"\";position: absolute;border-left: 1px solid gray;box-sizing: border-box;top: 2em;bottom: 0;left: 50%;}div.sk-serial {display: flex;flex-direction: column;align-items: center;background-color: white;}div.sk-item {z-index: 1;}div.sk-parallel {display: flex;align-items: stretch;justify-content: center;background-color: white;}div.sk-parallel-item {display: flex;flex-direction: column;position: relative;background-color: white;}div.sk-parallel-item:first-child::after {align-self: flex-end;width: 50%;}div.sk-parallel-item:last-child::after {align-self: flex-start;width: 50%;}div.sk-parallel-item:only-child::after {width: 0;}div.sk-dashed-wrapped {border: 1px dashed gray;margin: 0.2em;box-sizing: border-box;padding-bottom: 0.1em;background-color: white;position: relative;}div.sk-label label {font-family: monospace;font-weight: bold;background-color: white;display: inline-block;line-height: 1.2em;}div.sk-label-container {position: relative;z-index: 2;text-align: center;}div.sk-container {display: inline-block;position: relative;}</style><div class=\"sk-top-container\"><div class=\"sk-container\"><div class=\"sk-item sk-dashed-wrapped\"><div class=\"sk-label-container\"><div class=\"sk-label sk-toggleable\"><input class=\"sk-toggleable__control sk-hidden--visually\" id=\"3a3f0dab-f8ac-48c4-b897-a99593e1dd7e\" type=\"checkbox\" ><label class=\"sk-toggleable__label\" for=\"3a3f0dab-f8ac-48c4-b897-a99593e1dd7e\">Pipeline</label><div class=\"sk-toggleable__content\"><pre>Pipeline(steps=[('preprocessing',\n",
       "                 Pipeline(steps=[('imputer',\n",
       "                                  ColumnTransformer(remainder='passthrough',\n",
       "                                                    transformers=[('edu',\n",
       "                                                                   FunctionTransformer(func=<function edu_func at 0x7f90547b1670>),\n",
       "                                                                   ['Dem_edu']),\n",
       "                                                                  ('edu_mom',\n",
       "                                                                   FunctionTransformer(func=<function edu_mom_func at 0x7f90547b14c0>),\n",
       "                                                                   ['Dem_edu_mom']),\n",
       "                                                                  ('risk_group',\n",
       "                                                                   FunctionTransformer(func=<function risk_group_func at 0x7f90547b1790>),\n",
       "                                                                   ['Dem_riskgroup']),\n",
       "                                                                  ('expat',\n",
       "                                                                   FunctionTransformer(func=<function expat_func at 0x7f90547b18b0>),\n",
       "                                                                   ['Dem_Expat']),\n",
       "                                                                  ('ohe_transformer',\n",
       "                                                                   OneHotEncoder(),\n",
       "                                                                   ['Dem_gender',\n",
       "                                                                    'Dem_maritalstatus',\n",
       "                                                                    'Dem_employment',\n",
       "                                                                    'Dem_isolation'])])),\n",
       "                                 ('scaler', MinMaxScaler())])),\n",
       "                ('linear_regression', LinearRegression())])</pre></div></div></div><div class=\"sk-serial\"><div class=\"sk-item\"><div class=\"sk-label-container\"><div class=\"sk-label sk-toggleable\"><input class=\"sk-toggleable__control sk-hidden--visually\" id=\"d6f96779-44fb-408d-9c71-daaafd6e53bd\" type=\"checkbox\" ><label class=\"sk-toggleable__label\" for=\"d6f96779-44fb-408d-9c71-daaafd6e53bd\">preprocessing: Pipeline</label><div class=\"sk-toggleable__content\"><pre>Pipeline(steps=[('imputer',\n",
       "                 ColumnTransformer(remainder='passthrough',\n",
       "                                   transformers=[('edu',\n",
       "                                                  FunctionTransformer(func=<function edu_func at 0x7f90547b1670>),\n",
       "                                                  ['Dem_edu']),\n",
       "                                                 ('edu_mom',\n",
       "                                                  FunctionTransformer(func=<function edu_mom_func at 0x7f90547b14c0>),\n",
       "                                                  ['Dem_edu_mom']),\n",
       "                                                 ('risk_group',\n",
       "                                                  FunctionTransformer(func=<function risk_group_func at 0x7f90547b1790>),\n",
       "                                                  ['Dem_riskgroup']),\n",
       "                                                 ('expat',\n",
       "                                                  FunctionTransformer(func=<function expat_func at 0x7f90547b18b0>),\n",
       "                                                  ['Dem_Expat']),\n",
       "                                                 ('ohe_transformer',\n",
       "                                                  OneHotEncoder(),\n",
       "                                                  ['Dem_gender',\n",
       "                                                   'Dem_maritalstatus',\n",
       "                                                   'Dem_employment',\n",
       "                                                   'Dem_isolation'])])),\n",
       "                ('scaler', MinMaxScaler())])</pre></div></div></div><div class=\"sk-serial\"><div class=\"sk-item sk-dashed-wrapped\"><div class=\"sk-label-container\"><div class=\"sk-label sk-toggleable\"><input class=\"sk-toggleable__control sk-hidden--visually\" id=\"22731071-bd1f-4447-8b18-ef8f52b67e48\" type=\"checkbox\" ><label class=\"sk-toggleable__label\" for=\"22731071-bd1f-4447-8b18-ef8f52b67e48\">imputer: ColumnTransformer</label><div class=\"sk-toggleable__content\"><pre>ColumnTransformer(remainder='passthrough',\n",
       "                  transformers=[('edu',\n",
       "                                 FunctionTransformer(func=<function edu_func at 0x7f90547b1670>),\n",
       "                                 ['Dem_edu']),\n",
       "                                ('edu_mom',\n",
       "                                 FunctionTransformer(func=<function edu_mom_func at 0x7f90547b14c0>),\n",
       "                                 ['Dem_edu_mom']),\n",
       "                                ('risk_group',\n",
       "                                 FunctionTransformer(func=<function risk_group_func at 0x7f90547b1790>),\n",
       "                                 ['Dem_riskgroup']),\n",
       "                                ('expat',\n",
       "                                 FunctionTransformer(func=<function expat_func at 0x7f90547b18b0>),\n",
       "                                 ['Dem_Expat']),\n",
       "                                ('ohe_transformer', OneHotEncoder(),\n",
       "                                 ['Dem_gender', 'Dem_maritalstatus',\n",
       "                                  'Dem_employment', 'Dem_isolation'])])</pre></div></div></div><div class=\"sk-parallel\"><div class=\"sk-parallel-item\"><div class=\"sk-item\"><div class=\"sk-label-container\"><div class=\"sk-label sk-toggleable\"><input class=\"sk-toggleable__control sk-hidden--visually\" id=\"e26ad4f4-0d10-4ed5-aa55-ecfbc973bc62\" type=\"checkbox\" ><label class=\"sk-toggleable__label\" for=\"e26ad4f4-0d10-4ed5-aa55-ecfbc973bc62\">edu</label><div class=\"sk-toggleable__content\"><pre>['Dem_edu']</pre></div></div></div><div class=\"sk-serial\"><div class=\"sk-item\"><div class=\"sk-estimator sk-toggleable\"><input class=\"sk-toggleable__control sk-hidden--visually\" id=\"11eac3c2-47eb-4803-b1b9-e240d154e830\" type=\"checkbox\" ><label class=\"sk-toggleable__label\" for=\"11eac3c2-47eb-4803-b1b9-e240d154e830\">FunctionTransformer</label><div class=\"sk-toggleable__content\"><pre>FunctionTransformer(func=<function edu_func at 0x7f90547b1670>)</pre></div></div></div></div></div></div><div class=\"sk-parallel-item\"><div class=\"sk-item\"><div class=\"sk-label-container\"><div class=\"sk-label sk-toggleable\"><input class=\"sk-toggleable__control sk-hidden--visually\" id=\"5ef51705-d6c1-49c6-92ee-f2de36d43978\" type=\"checkbox\" ><label class=\"sk-toggleable__label\" for=\"5ef51705-d6c1-49c6-92ee-f2de36d43978\">edu_mom</label><div class=\"sk-toggleable__content\"><pre>['Dem_edu_mom']</pre></div></div></div><div class=\"sk-serial\"><div class=\"sk-item\"><div class=\"sk-estimator sk-toggleable\"><input class=\"sk-toggleable__control sk-hidden--visually\" id=\"a51c1b70-c185-435d-a255-935cfbd9ed32\" type=\"checkbox\" ><label class=\"sk-toggleable__label\" for=\"a51c1b70-c185-435d-a255-935cfbd9ed32\">FunctionTransformer</label><div class=\"sk-toggleable__content\"><pre>FunctionTransformer(func=<function edu_mom_func at 0x7f90547b14c0>)</pre></div></div></div></div></div></div><div class=\"sk-parallel-item\"><div class=\"sk-item\"><div class=\"sk-label-container\"><div class=\"sk-label sk-toggleable\"><input class=\"sk-toggleable__control sk-hidden--visually\" id=\"7bef6452-a9ce-4114-a449-7eccec90e677\" type=\"checkbox\" ><label class=\"sk-toggleable__label\" for=\"7bef6452-a9ce-4114-a449-7eccec90e677\">risk_group</label><div class=\"sk-toggleable__content\"><pre>['Dem_riskgroup']</pre></div></div></div><div class=\"sk-serial\"><div class=\"sk-item\"><div class=\"sk-estimator sk-toggleable\"><input class=\"sk-toggleable__control sk-hidden--visually\" id=\"dad9e731-c300-4758-bc17-0dad29fe1542\" type=\"checkbox\" ><label class=\"sk-toggleable__label\" for=\"dad9e731-c300-4758-bc17-0dad29fe1542\">FunctionTransformer</label><div class=\"sk-toggleable__content\"><pre>FunctionTransformer(func=<function risk_group_func at 0x7f90547b1790>)</pre></div></div></div></div></div></div><div class=\"sk-parallel-item\"><div class=\"sk-item\"><div class=\"sk-label-container\"><div class=\"sk-label sk-toggleable\"><input class=\"sk-toggleable__control sk-hidden--visually\" id=\"87c4e4c5-699a-4ea6-a237-f6dba3694643\" type=\"checkbox\" ><label class=\"sk-toggleable__label\" for=\"87c4e4c5-699a-4ea6-a237-f6dba3694643\">expat</label><div class=\"sk-toggleable__content\"><pre>['Dem_Expat']</pre></div></div></div><div class=\"sk-serial\"><div class=\"sk-item\"><div class=\"sk-estimator sk-toggleable\"><input class=\"sk-toggleable__control sk-hidden--visually\" id=\"28b099c1-78ee-4bf3-aa22-bc5d395ba140\" type=\"checkbox\" ><label class=\"sk-toggleable__label\" for=\"28b099c1-78ee-4bf3-aa22-bc5d395ba140\">FunctionTransformer</label><div class=\"sk-toggleable__content\"><pre>FunctionTransformer(func=<function expat_func at 0x7f90547b18b0>)</pre></div></div></div></div></div></div><div class=\"sk-parallel-item\"><div class=\"sk-item\"><div class=\"sk-label-container\"><div class=\"sk-label sk-toggleable\"><input class=\"sk-toggleable__control sk-hidden--visually\" id=\"a51a7d16-f688-455b-8789-2d2b638c91f5\" type=\"checkbox\" ><label class=\"sk-toggleable__label\" for=\"a51a7d16-f688-455b-8789-2d2b638c91f5\">ohe_transformer</label><div class=\"sk-toggleable__content\"><pre>['Dem_gender', 'Dem_maritalstatus', 'Dem_employment', 'Dem_isolation']</pre></div></div></div><div class=\"sk-serial\"><div class=\"sk-item\"><div class=\"sk-estimator sk-toggleable\"><input class=\"sk-toggleable__control sk-hidden--visually\" id=\"005d372d-c038-4190-9752-37e11f9c6379\" type=\"checkbox\" ><label class=\"sk-toggleable__label\" for=\"005d372d-c038-4190-9752-37e11f9c6379\">OneHotEncoder</label><div class=\"sk-toggleable__content\"><pre>OneHotEncoder()</pre></div></div></div></div></div></div><div class=\"sk-parallel-item\"><div class=\"sk-item\"><div class=\"sk-label-container\"><div class=\"sk-label sk-toggleable\"><input class=\"sk-toggleable__control sk-hidden--visually\" id=\"e7417b24-cf67-4f9e-a1b3-a55a8b256907\" type=\"checkbox\" ><label class=\"sk-toggleable__label\" for=\"e7417b24-cf67-4f9e-a1b3-a55a8b256907\">remainder</label><div class=\"sk-toggleable__content\"><pre>['BFF_15_1', 'BFF_15_2', 'BFF_15_3', 'BFF_15_4', 'BFF_15_5', 'BFF_15_6', 'BFF_15_7', 'BFF_15_8', 'BFF_15_9', 'BFF_15_10', 'BFF_15_11', 'BFF_15_12', 'BFF_15_13', 'BFF_15_14', 'BFF_15_15', 'Dem_age']</pre></div></div></div><div class=\"sk-serial\"><div class=\"sk-item\"><div class=\"sk-estimator sk-toggleable\"><input class=\"sk-toggleable__control sk-hidden--visually\" id=\"a49bd28b-3322-4ccf-8319-3a2e4c0c8120\" type=\"checkbox\" ><label class=\"sk-toggleable__label\" for=\"a49bd28b-3322-4ccf-8319-3a2e4c0c8120\">passthrough</label><div class=\"sk-toggleable__content\"><pre>passthrough</pre></div></div></div></div></div></div></div></div><div class=\"sk-item\"><div class=\"sk-estimator sk-toggleable\"><input class=\"sk-toggleable__control sk-hidden--visually\" id=\"103f1923-f467-4455-aedf-b4eb9d16ed0a\" type=\"checkbox\" ><label class=\"sk-toggleable__label\" for=\"103f1923-f467-4455-aedf-b4eb9d16ed0a\">MinMaxScaler</label><div class=\"sk-toggleable__content\"><pre>MinMaxScaler()</pre></div></div></div></div></div><div class=\"sk-item\"><div class=\"sk-estimator sk-toggleable\"><input class=\"sk-toggleable__control sk-hidden--visually\" id=\"e5eff758-9e70-4378-89c1-422ff9eeb029\" type=\"checkbox\" ><label class=\"sk-toggleable__label\" for=\"e5eff758-9e70-4378-89c1-422ff9eeb029\">LinearRegression</label><div class=\"sk-toggleable__content\"><pre>LinearRegression()</pre></div></div></div></div></div></div></div>"
      ],
      "text/plain": [
       "Pipeline(steps=[('preprocessing',\n",
       "                 Pipeline(steps=[('imputer',\n",
       "                                  ColumnTransformer(remainder='passthrough',\n",
       "                                                    transformers=[('edu',\n",
       "                                                                   FunctionTransformer(func=<function edu_func at 0x7f90547b1670>),\n",
       "                                                                   ['Dem_edu']),\n",
       "                                                                  ('edu_mom',\n",
       "                                                                   FunctionTransformer(func=<function edu_mom_func at 0x7f90547b14c0>),\n",
       "                                                                   ['Dem_edu_mom']),\n",
       "                                                                  ('risk_group',\n",
       "                                                                   FunctionTransformer(func=<function risk_group_func at 0x7f90547b1790>),\n",
       "                                                                   ['Dem_riskgroup']),\n",
       "                                                                  ('expat',\n",
       "                                                                   FunctionTransformer(func=<function expat_func at 0x7f90547b18b0>),\n",
       "                                                                   ['Dem_Expat']),\n",
       "                                                                  ('ohe_transformer',\n",
       "                                                                   OneHotEncoder(),\n",
       "                                                                   ['Dem_gender',\n",
       "                                                                    'Dem_maritalstatus',\n",
       "                                                                    'Dem_employment',\n",
       "                                                                    'Dem_isolation'])])),\n",
       "                                 ('scaler', MinMaxScaler())])),\n",
       "                ('linear_regression', LinearRegression())])"
      ]
     },
     "execution_count": 17,
     "metadata": {},
     "output_type": "execute_result"
    }
   ],
   "source": [
    "loneliness_pipe.fit(X,y)"
   ]
  },
  {
   "cell_type": "code",
   "execution_count": 18,
   "id": "3e2b2b98",
   "metadata": {},
   "outputs": [
    {
     "data": {
      "text/plain": [
       "['model_linear_loneliness_3.joblib']"
      ]
     },
     "execution_count": 18,
     "metadata": {},
     "output_type": "execute_result"
    }
   ],
   "source": [
    "import joblib \n",
    "joblib.dump(loneliness_pipe, 'model_linear_loneliness_3.joblib')"
   ]
  },
  {
   "cell_type": "code",
   "execution_count": 20,
   "id": "878d506b",
   "metadata": {},
   "outputs": [],
   "source": [
    "import pickle\n",
    "# Export pipeline as pickle file\n",
    "with open(\"loneliness_pipeline.pkl\", \"wb\") as file:\n",
    "    pickle.dump(loneliness_pipe, file)"
   ]
  },
  {
   "cell_type": "code",
   "execution_count": null,
   "id": "57c5d761",
   "metadata": {},
   "outputs": [],
   "source": []
  }
 ],
 "metadata": {
  "kernelspec": {
   "display_name": "Python 3",
   "language": "python",
   "name": "python3"
  },
  "language_info": {
   "codemirror_mode": {
    "name": "ipython",
    "version": 3
   },
   "file_extension": ".py",
   "mimetype": "text/x-python",
   "name": "python",
   "nbconvert_exporter": "python",
   "pygments_lexer": "ipython3",
   "version": "3.8.6"
  }
 },
 "nbformat": 4,
 "nbformat_minor": 5
}
