{
 "cells": [
  {
   "cell_type": "code",
   "execution_count": 1,
   "id": "20e98a85",
   "metadata": {},
   "outputs": [],
   "source": [
    "from sklearn import preprocessing\n",
    "from sklearn.preprocessing import OneHotEncoder\n",
    "import pandas as pd\n",
    "import matplotlib.pyplot as plt\n",
    "import numpy as np\n",
    "%matplotlib inline\n",
    "from sklearn.compose import ColumnTransformer\n",
    "from sklearn.preprocessing import FunctionTransformer\n",
    "from sklearn.pipeline import Pipeline\n",
    "from sklearn.preprocessing import MinMaxScaler\n",
    "from sklearn import set_config; set_config(display='diagram')\n",
    "from sklearn.linear_model import LinearRegression"
   ]
  },
  {
   "cell_type": "code",
   "execution_count": 2,
   "id": "087dbcfb",
   "metadata": {},
   "outputs": [],
   "source": [
    "df=pd.read_csv('../raw_data/cleaned_data_040321.csv',encoding='latin-1')"
   ]
  },
  {
   "cell_type": "code",
   "execution_count": 3,
   "id": "420474e7",
   "metadata": {},
   "outputs": [
    {
     "data": {
      "text/plain": [
       "Dem_isolation                                   \n",
       "Life carries on with minor changes                  49120\n",
       "Isolated                                            31968\n",
       "Life carries on as usual                             4304\n",
       "Isolated in medical facility of similar location       86\n",
       "1                                                      11\n",
       "dtype: int64"
      ]
     },
     "execution_count": 3,
     "metadata": {},
     "output_type": "execute_result"
    }
   ],
   "source": [
    "df[['Dem_isolation']].value_counts()"
   ]
  },
  {
   "cell_type": "code",
   "execution_count": null,
   "id": "549a53a5",
   "metadata": {},
   "outputs": [],
   "source": []
  },
  {
   "cell_type": "code",
   "execution_count": 4,
   "id": "344cc7b2",
   "metadata": {},
   "outputs": [],
   "source": [
    "X=df[[\n",
    "    'BFF_15_1','BFF_15_2','BFF_15_3','BFF_15_4','BFF_15_5','BFF_15_6','BFF_15_7','BFF_15_8','BFF_15_9','BFF_15_10','BFF_15_11',\n",
    "    'BFF_15_12','BFF_15_13','BFF_15_14','BFF_15_15','Dem_age','Dem_gender','Dem_edu','Dem_edu_mom','Dem_employment','Dem_Expat',\n",
    "    'Dem_maritalstatus','Dem_riskgroup','Dem_isolation'\n",
    "]]\n",
    "y=df['SLON3_avg']"
   ]
  },
  {
   "cell_type": "code",
   "execution_count": 5,
   "id": "bf399d9a",
   "metadata": {},
   "outputs": [],
   "source": [
    "def edu_func(df):\n",
    "    df['Dem_edu']=X['Dem_edu'].replace(\n",
    "        {\n",
    "            'Uninformative response':0,\n",
    "            'None':1,\n",
    "            'Up to 6 years of school':2, \n",
    "            'Up to 9 years of school':3, \n",
    "            'Up to 12 years of school':4, \n",
    "            'Some College, short continuing education or equivalent':5,\n",
    "            'College degree, bachelor, master': 6,\n",
    "            'PhD/Doctorate':7\n",
    "        })\n",
    "    return  df[['Dem_edu']]\n",
    "\n",
    "\n",
    "def edu_mom_func(df):    \n",
    "    df['Dem_edu_mom'] = df['Dem_edu_mom'].replace({\n",
    "        'Uninformative response':0,\n",
    "        'None':1,\n",
    "        'Up to 6 years of school':2,\n",
    "        'Up to 9 years of school':3,\n",
    "        'Up to 12 years of school':4,\n",
    "        'Some College or equivalent':5,\n",
    "        'College degree': 6,\n",
    "        'PhD/Doctorate':7\n",
    "    }\n",
    "    )\n",
    "    return  df[['Dem_edu_mom']]\n",
    "\n",
    "\n",
    "def risk_group_func(df): \n",
    "    df['Dem_riskgroup'] = df['Dem_riskgroup'].replace({'No':1,'Not sure':2, 'Yes':3})    \n",
    "    return  df[['Dem_riskgroup']]\n",
    "\n",
    "def expat_func(df):\n",
    "    df['Dem_Expat'] = df['Dem_Expat'].replace({'no':0,'yes':1})\n",
    "    return df[['Dem_Expat']]\n",
    "\n",
    "preprocessor = ColumnTransformer(\n",
    "    [    \n",
    "        ('edu', FunctionTransformer(edu_func), ['Dem_edu']),\n",
    "        ('edu_mom', FunctionTransformer(edu_mom_func), ['Dem_edu_mom']),\n",
    "        ('risk_group', FunctionTransformer(edu_risk_group), ['Dem_riskgroup']),\n",
    "        ('expat', FunctionTransformer(dem_expat_func), ['Dem_Expat']),\n",
    "        ('ohe_transformer', OneHotEncoder(), ['Dem_gender', 'Dem_maritalstatus','Dem_employment','Dem_isolation'])\n",
    "    ],remainder='passthrough'\n",
    ")\n",
    "\n",
    "base_pipe = Pipeline([\n",
    "    ('imputer', preprocessor),\n",
    "    ('scaler', MinMaxScaler())\n",
    "])\n",
    "\n",
    "\n",
    "\n",
    "loneliness_pipe = Pipeline([\n",
    "    ('preprocessing', base_pipe),\n",
    "    ('linear_regression',  LinearRegression())\n",
    "])"
   ]
  },
  {
   "cell_type": "code",
   "execution_count": 6,
   "id": "b5a20128",
   "metadata": {},
   "outputs": [
    {
     "data": {
      "text/html": [
       "<style>div.sk-top-container {color: black;background-color: white;}div.sk-toggleable {background-color: white;}label.sk-toggleable__label {cursor: pointer;display: block;width: 100%;margin-bottom: 0;padding: 0.2em 0.3em;box-sizing: border-box;text-align: center;}div.sk-toggleable__content {max-height: 0;max-width: 0;overflow: hidden;text-align: left;background-color: #f0f8ff;}div.sk-toggleable__content pre {margin: 0.2em;color: black;border-radius: 0.25em;background-color: #f0f8ff;}input.sk-toggleable__control:checked~div.sk-toggleable__content {max-height: 200px;max-width: 100%;overflow: auto;}div.sk-estimator input.sk-toggleable__control:checked~label.sk-toggleable__label {background-color: #d4ebff;}div.sk-label input.sk-toggleable__control:checked~label.sk-toggleable__label {background-color: #d4ebff;}input.sk-hidden--visually {border: 0;clip: rect(1px 1px 1px 1px);clip: rect(1px, 1px, 1px, 1px);height: 1px;margin: -1px;overflow: hidden;padding: 0;position: absolute;width: 1px;}div.sk-estimator {font-family: monospace;background-color: #f0f8ff;margin: 0.25em 0.25em;border: 1px dotted black;border-radius: 0.25em;box-sizing: border-box;}div.sk-estimator:hover {background-color: #d4ebff;}div.sk-parallel-item::after {content: \"\";width: 100%;border-bottom: 1px solid gray;flex-grow: 1;}div.sk-label:hover label.sk-toggleable__label {background-color: #d4ebff;}div.sk-serial::before {content: \"\";position: absolute;border-left: 1px solid gray;box-sizing: border-box;top: 2em;bottom: 0;left: 50%;}div.sk-serial {display: flex;flex-direction: column;align-items: center;background-color: white;}div.sk-item {z-index: 1;}div.sk-parallel {display: flex;align-items: stretch;justify-content: center;background-color: white;}div.sk-parallel-item {display: flex;flex-direction: column;position: relative;background-color: white;}div.sk-parallel-item:first-child::after {align-self: flex-end;width: 50%;}div.sk-parallel-item:last-child::after {align-self: flex-start;width: 50%;}div.sk-parallel-item:only-child::after {width: 0;}div.sk-dashed-wrapped {border: 1px dashed gray;margin: 0.2em;box-sizing: border-box;padding-bottom: 0.1em;background-color: white;position: relative;}div.sk-label label {font-family: monospace;font-weight: bold;background-color: white;display: inline-block;line-height: 1.2em;}div.sk-label-container {position: relative;z-index: 2;text-align: center;}div.sk-container {display: inline-block;position: relative;}</style><div class=\"sk-top-container\"><div class=\"sk-container\"><div class=\"sk-item sk-dashed-wrapped\"><div class=\"sk-label-container\"><div class=\"sk-label sk-toggleable\"><input class=\"sk-toggleable__control sk-hidden--visually\" id=\"92dccd9e-26ef-4094-8dcf-1c7e7447cbaf\" type=\"checkbox\" ><label class=\"sk-toggleable__label\" for=\"92dccd9e-26ef-4094-8dcf-1c7e7447cbaf\">Pipeline</label><div class=\"sk-toggleable__content\"><pre>Pipeline(steps=[('preprocessing',\n",
       "                 Pipeline(steps=[('imputer',\n",
       "                                  ColumnTransformer(remainder='passthrough',\n",
       "                                                    transformers=[('Dem_edu_col',\n",
       "                                                                   FunctionTransformer(func=<function edu_func at 0x7f0ef97b8af0>),\n",
       "                                                                   ['Dem_edu']),\n",
       "                                                                  ('Dem_edu_mom',\n",
       "                                                                   FunctionTransformer(func=<function edu_mom_func at 0x7f0ef97b8d30>),\n",
       "                                                                   ['Dem_edu_mom']),\n",
       "                                                                  ('Dem_edu_risk_group',\n",
       "                                                                   FunctionTransformer(func=<function edu_risk_group at 0x7f0ef97b8f70>),\n",
       "                                                                   ['Dem_riskgroup']),\n",
       "                                                                  ('dem_expat_func',\n",
       "                                                                   FunctionTransformer(func=<function dem_expat_func at 0x7f0ef8827040>),\n",
       "                                                                   ['Dem_Expat']),\n",
       "                                                                  ('ohe_transformer',\n",
       "                                                                   OneHotEncoder(),\n",
       "                                                                   ['Dem_gender',\n",
       "                                                                    'Dem_maritalstatus',\n",
       "                                                                    'Dem_employment',\n",
       "                                                                    'Dem_isolation'])])),\n",
       "                                 ('scaler', MinMaxScaler())])),\n",
       "                ('linear_regression', LinearRegression())])</pre></div></div></div><div class=\"sk-serial\"><div class=\"sk-item\"><div class=\"sk-label-container\"><div class=\"sk-label sk-toggleable\"><input class=\"sk-toggleable__control sk-hidden--visually\" id=\"e4454ada-1a6b-45f3-a264-b1bca69c1f36\" type=\"checkbox\" ><label class=\"sk-toggleable__label\" for=\"e4454ada-1a6b-45f3-a264-b1bca69c1f36\">preprocessing: Pipeline</label><div class=\"sk-toggleable__content\"><pre>Pipeline(steps=[('imputer',\n",
       "                 ColumnTransformer(remainder='passthrough',\n",
       "                                   transformers=[('Dem_edu_col',\n",
       "                                                  FunctionTransformer(func=<function edu_func at 0x7f0ef97b8af0>),\n",
       "                                                  ['Dem_edu']),\n",
       "                                                 ('Dem_edu_mom',\n",
       "                                                  FunctionTransformer(func=<function edu_mom_func at 0x7f0ef97b8d30>),\n",
       "                                                  ['Dem_edu_mom']),\n",
       "                                                 ('Dem_edu_risk_group',\n",
       "                                                  FunctionTransformer(func=<function edu_risk_group at 0x7f0ef97b8f70>),\n",
       "                                                  ['Dem_riskgroup']),\n",
       "                                                 ('dem_expat_func',\n",
       "                                                  FunctionTransformer(func=<function dem_expat_func at 0x7f0ef8827040>),\n",
       "                                                  ['Dem_Expat']),\n",
       "                                                 ('ohe_transformer',\n",
       "                                                  OneHotEncoder(),\n",
       "                                                  ['Dem_gender',\n",
       "                                                   'Dem_maritalstatus',\n",
       "                                                   'Dem_employment',\n",
       "                                                   'Dem_isolation'])])),\n",
       "                ('scaler', MinMaxScaler())])</pre></div></div></div><div class=\"sk-serial\"><div class=\"sk-item sk-dashed-wrapped\"><div class=\"sk-label-container\"><div class=\"sk-label sk-toggleable\"><input class=\"sk-toggleable__control sk-hidden--visually\" id=\"bb96d77f-4be9-481a-8d58-be53c609e22a\" type=\"checkbox\" ><label class=\"sk-toggleable__label\" for=\"bb96d77f-4be9-481a-8d58-be53c609e22a\">imputer: ColumnTransformer</label><div class=\"sk-toggleable__content\"><pre>ColumnTransformer(remainder='passthrough',\n",
       "                  transformers=[('Dem_edu_col',\n",
       "                                 FunctionTransformer(func=<function edu_func at 0x7f0ef97b8af0>),\n",
       "                                 ['Dem_edu']),\n",
       "                                ('Dem_edu_mom',\n",
       "                                 FunctionTransformer(func=<function edu_mom_func at 0x7f0ef97b8d30>),\n",
       "                                 ['Dem_edu_mom']),\n",
       "                                ('Dem_edu_risk_group',\n",
       "                                 FunctionTransformer(func=<function edu_risk_group at 0x7f0ef97b8f70>),\n",
       "                                 ['Dem_riskgroup']),\n",
       "                                ('dem_expat_func',\n",
       "                                 FunctionTransformer(func=<function dem_expat_func at 0x7f0ef8827040>),\n",
       "                                 ['Dem_Expat']),\n",
       "                                ('ohe_transformer', OneHotEncoder(),\n",
       "                                 ['Dem_gender', 'Dem_maritalstatus',\n",
       "                                  'Dem_employment', 'Dem_isolation'])])</pre></div></div></div><div class=\"sk-parallel\"><div class=\"sk-parallel-item\"><div class=\"sk-item\"><div class=\"sk-label-container\"><div class=\"sk-label sk-toggleable\"><input class=\"sk-toggleable__control sk-hidden--visually\" id=\"0e8679db-8954-49f7-884c-c17bc87b5b80\" type=\"checkbox\" ><label class=\"sk-toggleable__label\" for=\"0e8679db-8954-49f7-884c-c17bc87b5b80\">Dem_edu_col</label><div class=\"sk-toggleable__content\"><pre>['Dem_edu']</pre></div></div></div><div class=\"sk-serial\"><div class=\"sk-item\"><div class=\"sk-estimator sk-toggleable\"><input class=\"sk-toggleable__control sk-hidden--visually\" id=\"316b5fab-8c70-42ec-b814-f5511c5cd3eb\" type=\"checkbox\" ><label class=\"sk-toggleable__label\" for=\"316b5fab-8c70-42ec-b814-f5511c5cd3eb\">FunctionTransformer</label><div class=\"sk-toggleable__content\"><pre>FunctionTransformer(func=<function edu_func at 0x7f0ef97b8af0>)</pre></div></div></div></div></div></div><div class=\"sk-parallel-item\"><div class=\"sk-item\"><div class=\"sk-label-container\"><div class=\"sk-label sk-toggleable\"><input class=\"sk-toggleable__control sk-hidden--visually\" id=\"77b8eecf-9706-4fea-bbaf-f93a89a753c0\" type=\"checkbox\" ><label class=\"sk-toggleable__label\" for=\"77b8eecf-9706-4fea-bbaf-f93a89a753c0\">Dem_edu_mom</label><div class=\"sk-toggleable__content\"><pre>['Dem_edu_mom']</pre></div></div></div><div class=\"sk-serial\"><div class=\"sk-item\"><div class=\"sk-estimator sk-toggleable\"><input class=\"sk-toggleable__control sk-hidden--visually\" id=\"767ba178-835f-4a93-a37a-f9793db33aa7\" type=\"checkbox\" ><label class=\"sk-toggleable__label\" for=\"767ba178-835f-4a93-a37a-f9793db33aa7\">FunctionTransformer</label><div class=\"sk-toggleable__content\"><pre>FunctionTransformer(func=<function edu_mom_func at 0x7f0ef97b8d30>)</pre></div></div></div></div></div></div><div class=\"sk-parallel-item\"><div class=\"sk-item\"><div class=\"sk-label-container\"><div class=\"sk-label sk-toggleable\"><input class=\"sk-toggleable__control sk-hidden--visually\" id=\"f3f42074-a828-4147-bcb9-0f8028f051ef\" type=\"checkbox\" ><label class=\"sk-toggleable__label\" for=\"f3f42074-a828-4147-bcb9-0f8028f051ef\">Dem_edu_risk_group</label><div class=\"sk-toggleable__content\"><pre>['Dem_riskgroup']</pre></div></div></div><div class=\"sk-serial\"><div class=\"sk-item\"><div class=\"sk-estimator sk-toggleable\"><input class=\"sk-toggleable__control sk-hidden--visually\" id=\"c2b88101-736d-4462-bbbd-cf30d0f6a8cb\" type=\"checkbox\" ><label class=\"sk-toggleable__label\" for=\"c2b88101-736d-4462-bbbd-cf30d0f6a8cb\">FunctionTransformer</label><div class=\"sk-toggleable__content\"><pre>FunctionTransformer(func=<function edu_risk_group at 0x7f0ef97b8f70>)</pre></div></div></div></div></div></div><div class=\"sk-parallel-item\"><div class=\"sk-item\"><div class=\"sk-label-container\"><div class=\"sk-label sk-toggleable\"><input class=\"sk-toggleable__control sk-hidden--visually\" id=\"0d3851e6-4208-46a7-bdfc-6d91dde2aec9\" type=\"checkbox\" ><label class=\"sk-toggleable__label\" for=\"0d3851e6-4208-46a7-bdfc-6d91dde2aec9\">dem_expat_func</label><div class=\"sk-toggleable__content\"><pre>['Dem_Expat']</pre></div></div></div><div class=\"sk-serial\"><div class=\"sk-item\"><div class=\"sk-estimator sk-toggleable\"><input class=\"sk-toggleable__control sk-hidden--visually\" id=\"70a6b3a7-af63-4538-96ea-9378bea451b9\" type=\"checkbox\" ><label class=\"sk-toggleable__label\" for=\"70a6b3a7-af63-4538-96ea-9378bea451b9\">FunctionTransformer</label><div class=\"sk-toggleable__content\"><pre>FunctionTransformer(func=<function dem_expat_func at 0x7f0ef8827040>)</pre></div></div></div></div></div></div><div class=\"sk-parallel-item\"><div class=\"sk-item\"><div class=\"sk-label-container\"><div class=\"sk-label sk-toggleable\"><input class=\"sk-toggleable__control sk-hidden--visually\" id=\"f8c7dabb-f903-41d0-9a05-ff66bbba2516\" type=\"checkbox\" ><label class=\"sk-toggleable__label\" for=\"f8c7dabb-f903-41d0-9a05-ff66bbba2516\">ohe_transformer</label><div class=\"sk-toggleable__content\"><pre>['Dem_gender', 'Dem_maritalstatus', 'Dem_employment', 'Dem_isolation']</pre></div></div></div><div class=\"sk-serial\"><div class=\"sk-item\"><div class=\"sk-estimator sk-toggleable\"><input class=\"sk-toggleable__control sk-hidden--visually\" id=\"d793d153-e1fa-4a24-98dc-8c9be59eca94\" type=\"checkbox\" ><label class=\"sk-toggleable__label\" for=\"d793d153-e1fa-4a24-98dc-8c9be59eca94\">OneHotEncoder</label><div class=\"sk-toggleable__content\"><pre>OneHotEncoder()</pre></div></div></div></div></div></div><div class=\"sk-parallel-item\"><div class=\"sk-item\"><div class=\"sk-label-container\"><div class=\"sk-label sk-toggleable\"><input class=\"sk-toggleable__control sk-hidden--visually\" id=\"3d8e38d8-ff14-4c74-bd02-b9137d4ec5c1\" type=\"checkbox\" ><label class=\"sk-toggleable__label\" for=\"3d8e38d8-ff14-4c74-bd02-b9137d4ec5c1\">remainder</label><div class=\"sk-toggleable__content\"><pre>['BFF_15_1', 'BFF_15_2', 'BFF_15_3', 'BFF_15_4', 'BFF_15_5', 'BFF_15_6', 'BFF_15_7', 'BFF_15_8', 'BFF_15_9', 'BFF_15_10', 'BFF_15_11', 'BFF_15_12', 'BFF_15_13', 'BFF_15_14', 'BFF_15_15', 'Dem_age']</pre></div></div></div><div class=\"sk-serial\"><div class=\"sk-item\"><div class=\"sk-estimator sk-toggleable\"><input class=\"sk-toggleable__control sk-hidden--visually\" id=\"2b7dc66b-accb-418a-ac9f-b09913bb049e\" type=\"checkbox\" ><label class=\"sk-toggleable__label\" for=\"2b7dc66b-accb-418a-ac9f-b09913bb049e\">passthrough</label><div class=\"sk-toggleable__content\"><pre>passthrough</pre></div></div></div></div></div></div></div></div><div class=\"sk-item\"><div class=\"sk-estimator sk-toggleable\"><input class=\"sk-toggleable__control sk-hidden--visually\" id=\"e40f596f-ddf8-4632-bff7-e305756551d4\" type=\"checkbox\" ><label class=\"sk-toggleable__label\" for=\"e40f596f-ddf8-4632-bff7-e305756551d4\">MinMaxScaler</label><div class=\"sk-toggleable__content\"><pre>MinMaxScaler()</pre></div></div></div></div></div><div class=\"sk-item\"><div class=\"sk-estimator sk-toggleable\"><input class=\"sk-toggleable__control sk-hidden--visually\" id=\"5d9992b6-8736-4c6e-88f9-34f23b308b00\" type=\"checkbox\" ><label class=\"sk-toggleable__label\" for=\"5d9992b6-8736-4c6e-88f9-34f23b308b00\">LinearRegression</label><div class=\"sk-toggleable__content\"><pre>LinearRegression()</pre></div></div></div></div></div></div></div>"
      ],
      "text/plain": [
       "Pipeline(steps=[('preprocessing',\n",
       "                 Pipeline(steps=[('imputer',\n",
       "                                  ColumnTransformer(remainder='passthrough',\n",
       "                                                    transformers=[('Dem_edu_col',\n",
       "                                                                   FunctionTransformer(func=<function edu_func at 0x7f0ef97b8af0>),\n",
       "                                                                   ['Dem_edu']),\n",
       "                                                                  ('Dem_edu_mom',\n",
       "                                                                   FunctionTransformer(func=<function edu_mom_func at 0x7f0ef97b8d30>),\n",
       "                                                                   ['Dem_edu_mom']),\n",
       "                                                                  ('Dem_edu_risk_group',\n",
       "                                                                   FunctionTransformer(func=<function edu_risk_group at 0x7f0ef97b8f70>),\n",
       "                                                                   ['Dem_riskgroup']),\n",
       "                                                                  ('dem_expat_func',\n",
       "                                                                   FunctionTransformer(func=<function dem_expat_func at 0x7f0ef8827040>),\n",
       "                                                                   ['Dem_Expat']),\n",
       "                                                                  ('ohe_transformer',\n",
       "                                                                   OneHotEncoder(),\n",
       "                                                                   ['Dem_gender',\n",
       "                                                                    'Dem_maritalstatus',\n",
       "                                                                    'Dem_employment',\n",
       "                                                                    'Dem_isolation'])])),\n",
       "                                 ('scaler', MinMaxScaler())])),\n",
       "                ('linear_regression', LinearRegression())])"
      ]
     },
     "execution_count": 6,
     "metadata": {},
     "output_type": "execute_result"
    }
   ],
   "source": [
    "loneliness_pipe.fit(X,y)"
   ]
  },
  {
   "cell_type": "code",
   "execution_count": 7,
   "id": "9cb99165",
   "metadata": {},
   "outputs": [
    {
     "data": {
      "text/plain": [
       "['model_linear_loneliness_2.joblib']"
      ]
     },
     "execution_count": 7,
     "metadata": {},
     "output_type": "execute_result"
    }
   ],
   "source": [
    "import joblib \n",
    "joblib.dump(loneliness_pipe, 'model_linear_loneliness_3.joblib')"
   ]
  },
  {
   "cell_type": "code",
   "execution_count": null,
   "id": "e54b9eb1",
   "metadata": {},
   "outputs": [],
   "source": []
  }
 ],
 "metadata": {
  "kernelspec": {
   "display_name": "Python 3",
   "language": "python",
   "name": "python3"
  },
  "language_info": {
   "codemirror_mode": {
    "name": "ipython",
    "version": 3
   },
   "file_extension": ".py",
   "mimetype": "text/x-python",
   "name": "python",
   "nbconvert_exporter": "python",
   "pygments_lexer": "ipython3",
   "version": "3.8.6"
  }
 },
 "nbformat": 4,
 "nbformat_minor": 5
}
