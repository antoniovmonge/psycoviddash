{
 "cells": [
  {
   "cell_type": "code",
   "execution_count": 9,
   "id": "9e916ab9",
   "metadata": {},
   "outputs": [],
   "source": [
    "from sklearn import preprocessing\n",
    "from sklearn.preprocessing import OneHotEncoder\n",
    "import pandas as pd\n",
    "import matplotlib.pyplot as plt\n",
    "import numpy as np\n",
    "%matplotlib inline\n",
    "from sklearn.compose import ColumnTransformer\n",
    "from sklearn.preprocessing import FunctionTransformer\n",
    "from sklearn.pipeline import Pipeline\n",
    "from sklearn.preprocessing import MinMaxScaler\n",
    "from sklearn import set_config; set_config(display='diagram')\n",
    "from sklearn.linear_model import LinearRegression"
   ]
  },
  {
   "cell_type": "code",
   "execution_count": 10,
   "id": "899012f6",
   "metadata": {},
   "outputs": [],
   "source": [
    "df=pd.read_csv('../raw_data/cleaned_data_040321.csv',encoding='latin-1')"
   ]
  },
  {
   "cell_type": "code",
   "execution_count": 11,
   "id": "ffd9c47c",
   "metadata": {},
   "outputs": [],
   "source": [
    "X=df[[\n",
    "    'BFF_15_1','BFF_15_2','BFF_15_3','BFF_15_4','BFF_15_5','BFF_15_6','BFF_15_7','BFF_15_8','BFF_15_9','BFF_15_10','BFF_15_11',\n",
    "    'BFF_15_12','BFF_15_13','BFF_15_14','BFF_15_15','Dem_age','Dem_gender','Dem_edu','Dem_edu_mom','Dem_employment','Dem_Expat',\n",
    "    'Dem_maritalstatus','Dem_riskgroup','Dem_isolation'\n",
    "]]\n",
    "y=df['SLON3_avg']"
   ]
  },
  {
   "cell_type": "code",
   "execution_count": 12,
   "id": "ba17d80e",
   "metadata": {},
   "outputs": [
    {
     "data": {
      "text/plain": [
       "0        6\n",
       "1        6\n",
       "2        5\n",
       "3        4\n",
       "4        6\n",
       "        ..\n",
       "85484    6\n",
       "85485    6\n",
       "85486    5\n",
       "85487    4\n",
       "85488    5\n",
       "Name: Dem_edu, Length: 85489, dtype: int64"
      ]
     },
     "execution_count": 12,
     "metadata": {},
     "output_type": "execute_result"
    }
   ],
   "source": [
    "df['Dem_edu'].replace(\n",
    "        {\n",
    "            'Uninformative response':0,\n",
    "            'None':1,\n",
    "            'Up to 6 years of school':2, \n",
    "            'Up to 9 years of school':3,\n",
    "            'Up to 12 years of school':4, \n",
    "            'Some College, short continuing education or equivalent':5,\n",
    "            'College degree, bachelor, master': 6,\n",
    "            'PhD/Doctorate':7\n",
    "        })"
   ]
  },
  {
   "cell_type": "code",
   "execution_count": 13,
   "id": "eb9f7765",
   "metadata": {},
   "outputs": [],
   "source": [
    "def edu_func(df):\n",
    "    df['Dem_edu']=df['Dem_edu'].replace(\n",
    "        {\n",
    "            'Uninformative response':0,\n",
    "            'None':1,\n",
    "            'Up to 6 years of school':2, \n",
    "            'Up to 9 years of school':3,\n",
    "            'Up to 12 years of school':4, \n",
    "            'Some College, short continuing education or equivalent':5,\n",
    "            'College degree, bachelor, master': 6,\n",
    "            'PhD/Doctorate':7\n",
    "        })\n",
    "    return  df[['Dem_edu']]\n",
    "\n",
    "def edu_mom_func(df):    \n",
    "    df['Dem_edu_mom'] = df['Dem_edu_mom'].replace({\n",
    "        'Uninformative response':0,\n",
    "        'None':1,\n",
    "        'Up to 6 years of school':2,\n",
    "        'Up to 9 years of school':3,\n",
    "        'Up to 12 years of school':4,\n",
    "        'Some College or equivalent':5,\n",
    "        'College degree': 6,\n",
    "        'PhD/Doctorate':7\n",
    "    }\n",
    "    )\n",
    "    return  df[['Dem_edu_mom']]\n",
    "\n",
    "\n",
    "def risk_group_func(df): \n",
    "    df['Dem_riskgroup'] = df['Dem_riskgroup'].replace({'No':1,'Not sure':2, 'Yes':3})    \n",
    "    return  df[['Dem_riskgroup']]\n",
    "\n",
    "def expat_func(df):\n",
    "    df['Dem_Expat'] = df['Dem_Expat'].replace({'no':0,'yes':1})\n",
    "    return df[['Dem_Expat']]"
   ]
  },
  {
   "cell_type": "code",
   "execution_count": 14,
   "id": "3840a8b9",
   "metadata": {},
   "outputs": [],
   "source": [
    "preprocessor = ColumnTransformer(\n",
    "    [    \n",
    "        ('edu', FunctionTransformer(edu_func), ['Dem_edu']),\n",
    "        ('edu_mom', FunctionTransformer(edu_mom_func), ['Dem_edu_mom']),\n",
    "        ('risk_group', FunctionTransformer(risk_group_func), ['Dem_riskgroup']),\n",
    "        ('expat', FunctionTransformer(expat_func), ['Dem_Expat']),\n",
    "        ('ohe_transformer', OneHotEncoder(), ['Dem_gender', 'Dem_maritalstatus','Dem_employment','Dem_isolation'])\n",
    "    ],remainder='passthrough'\n",
    ")\n",
    "\n",
    "base_pipe = Pipeline([\n",
    "    ('imputer', preprocessor),\n",
    "    ('scaler', MinMaxScaler())\n",
    "])\n",
    "\n",
    "\n",
    "\n",
    "stress_pipe = Pipeline([\n",
    "    ('preprocessing', base_pipe),\n",
    "    ('linear_regression',  LinearRegression())\n",
    "])"
   ]
  },
  {
   "cell_type": "code",
   "execution_count": 15,
   "id": "bfd6099f",
   "metadata": {},
   "outputs": [
    {
     "ename": "NameError",
     "evalue": "name 'loneliness_pipe' is not defined",
     "output_type": "error",
     "traceback": [
      "\u001b[0;31m---------------------------------------------------------------------------\u001b[0m",
      "\u001b[0;31mNameError\u001b[0m                                 Traceback (most recent call last)",
      "\u001b[0;32m<ipython-input-15-7c6d8915bdb5>\u001b[0m in \u001b[0;36m<module>\u001b[0;34m\u001b[0m\n\u001b[0;32m----> 1\u001b[0;31m \u001b[0mloneliness_pipe\u001b[0m\u001b[0;34m.\u001b[0m\u001b[0mfit\u001b[0m\u001b[0;34m(\u001b[0m\u001b[0mX\u001b[0m\u001b[0;34m,\u001b[0m\u001b[0my\u001b[0m\u001b[0;34m)\u001b[0m\u001b[0;34m\u001b[0m\u001b[0;34m\u001b[0m\u001b[0m\n\u001b[0m",
      "\u001b[0;31mNameError\u001b[0m: name 'loneliness_pipe' is not defined"
     ]
    }
   ],
   "source": [
    "loneliness_pipe.fit(X,y)"
   ]
  },
  {
   "cell_type": "code",
   "execution_count": 7,
   "id": "b7f26566",
   "metadata": {},
   "outputs": [
    {
     "data": {
      "text/plain": [
       "['model_linear_loneliness_2.joblib']"
      ]
     },
     "execution_count": 7,
     "metadata": {},
     "output_type": "execute_result"
    }
   ],
   "source": [
    "import joblib \n",
    "joblib.dump(loneliness_pipe, 'model_linear_loneliness_3.joblib')"
   ]
  },
  {
   "cell_type": "code",
   "execution_count": null,
   "id": "e5bd2608",
   "metadata": {},
   "outputs": [],
   "source": []
  }
 ],
 "metadata": {
  "kernelspec": {
   "display_name": "Python 3",
   "language": "python",
   "name": "python3"
  },
  "language_info": {
   "codemirror_mode": {
    "name": "ipython",
    "version": 3
   },
   "file_extension": ".py",
   "mimetype": "text/x-python",
   "name": "python",
   "nbconvert_exporter": "python",
   "pygments_lexer": "ipython3",
   "version": "3.8.6"
  }
 },
 "nbformat": 4,
 "nbformat_minor": 5
}
