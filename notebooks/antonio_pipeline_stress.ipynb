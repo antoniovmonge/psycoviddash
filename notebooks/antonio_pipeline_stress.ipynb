{
 "cells": [
  {
   "cell_type": "code",
   "execution_count": 52,
   "id": "03f9a991",
   "metadata": {},
   "outputs": [],
   "source": [
    "from sklearn import preprocessing\n",
    "from sklearn.preprocessing import OneHotEncoder\n",
    "import pandas as pd\n",
    "import matplotlib.pyplot as plt\n",
    "import numpy as np\n",
    "%matplotlib inline\n",
    "from sklearn.compose import ColumnTransformer\n",
    "from sklearn.preprocessing import FunctionTransformer\n",
    "from sklearn.pipeline import Pipeline\n",
    "from sklearn.preprocessing import MinMaxScaler\n",
    "from sklearn import set_config; set_config(display='diagram')\n",
    "from sklearn.linear_model import LinearRegression\n",
    "import pickle"
   ]
  },
  {
   "cell_type": "markdown",
   "id": "1577d392",
   "metadata": {},
   "source": [
    "## Create Data Frame"
   ]
  },
  {
   "cell_type": "code",
   "execution_count": 53,
   "id": "b3e57caf",
   "metadata": {},
   "outputs": [],
   "source": [
    "df=pd.read_csv('../raw_data/cleaned_data_040321.csv',encoding='latin-1')"
   ]
  },
  {
   "cell_type": "markdown",
   "id": "eb8bbdba",
   "metadata": {},
   "source": [
    "## Defining X and y"
   ]
  },
  {
   "cell_type": "code",
   "execution_count": 54,
   "id": "d24caedd",
   "metadata": {},
   "outputs": [],
   "source": [
    "X=df[[\n",
    "    'BFF_15_1','BFF_15_2','BFF_15_3','BFF_15_4','BFF_15_5','BFF_15_6','BFF_15_7','BFF_15_8','BFF_15_9','BFF_15_10','BFF_15_11',\n",
    "    'BFF_15_12','BFF_15_13','BFF_15_14','BFF_15_15','Dem_age','Dem_gender','Dem_edu','Dem_edu_mom','Dem_employment','Dem_Expat',\n",
    "    'Dem_maritalstatus','Dem_riskgroup','Dem_isolation'\n",
    "]]\n",
    "y=df['PSS10_avg']"
   ]
  },
  {
   "cell_type": "markdown",
   "id": "bad4a4f9",
   "metadata": {},
   "source": [
    "## Create functions for transformations"
   ]
  },
  {
   "cell_type": "code",
   "execution_count": 55,
   "id": "3c01498b",
   "metadata": {},
   "outputs": [],
   "source": [
    "def edu_func(df):\n",
    "    df['Dem_edu']=df['Dem_edu'].replace(\n",
    "        {\n",
    "            'Uninformative response':0,\n",
    "            'None':1,\n",
    "            'Up to 6 years of school':2, \n",
    "            'Up to 9 years of school':3, \n",
    "            'Up to 12 years of school':4, \n",
    "            'Some College, short continuing education or equivalent':5,\n",
    "            'College degree, bachelor, master': 6,\n",
    "            'PhD/Doctorate':7\n",
    "        })\n",
    "    return  df[['Dem_edu']]\n",
    "\n",
    "\n",
    "def edu_mom_func(df):    \n",
    "    df['Dem_edu_mom'] = df['Dem_edu_mom'].replace({\n",
    "        'Uninformative response':0,\n",
    "        'None':1,\n",
    "        'Up to 6 years of school':2,\n",
    "        'Up to 9 years of school':3,\n",
    "        'Up to 12 years of school':4,\n",
    "        'Some College or equivalent':5,\n",
    "        'College degree': 6,\n",
    "        'PhD/Doctorate':7\n",
    "    }\n",
    "    )\n",
    "    return  df[['Dem_edu_mom']]\n",
    "\n",
    "\n",
    "def risk_group_func(df): \n",
    "    df['Dem_riskgroup'] = df['Dem_riskgroup'].replace({'No':1,'Not sure':2, 'Yes':3})    \n",
    "    return  df[['Dem_riskgroup']]\n",
    "\n",
    "def expat_func(df):\n",
    "    df['Dem_Expat'] = df['Dem_Expat'].replace({'no':0,'yes':1})\n",
    "    return df[['Dem_Expat']]"
   ]
  },
  {
   "cell_type": "code",
   "execution_count": 56,
   "id": "5a12e832",
   "metadata": {},
   "outputs": [],
   "source": [
    "preprocessor = ColumnTransformer(\n",
    "    [    \n",
    "        ('edu', FunctionTransformer(edu_func), ['Dem_edu']),\n",
    "        ('edu_mom', FunctionTransformer(edu_mom_func), ['Dem_edu_mom']),\n",
    "        ('risk_group', FunctionTransformer(risk_group_func), ['Dem_riskgroup']),\n",
    "        ('expat', FunctionTransformer(expat_func), ['Dem_Expat']),\n",
    "        ('ohe_transformer', OneHotEncoder(), ['Dem_gender', 'Dem_maritalstatus','Dem_employment','Dem_isolation'])\n",
    "    ],remainder='passthrough'\n",
    ")\n",
    "\n",
    "base_pipe = Pipeline([\n",
    "    ('imputer', preprocessor),\n",
    "    ('scaler', MinMaxScaler())\n",
    "])\n",
    "\n",
    "\n",
    "\n",
    "stress_pipe = Pipeline([\n",
    "    ('preprocessing', base_pipe),\n",
    "    ('linear_regression',  LinearRegression())\n",
    "])"
   ]
  },
  {
   "cell_type": "code",
   "execution_count": 57,
   "id": "060d2628",
   "metadata": {},
   "outputs": [],
   "source": [
    "# stress_pipe.fit(X,y)"
   ]
  },
  {
   "cell_type": "code",
   "execution_count": 58,
   "id": "e0927c91",
   "metadata": {},
   "outputs": [],
   "source": [
    "# stress_pipe.get_params()"
   ]
  },
  {
   "cell_type": "code",
   "execution_count": 59,
   "id": "eebc27c2",
   "metadata": {},
   "outputs": [
    {
     "ename": "ValueError",
     "evalue": "This LinearRegression estimator requires y to be passed, but the target y is None.",
     "output_type": "error",
     "traceback": [
      "\u001b[0;31m---------------------------------------------------------------------------\u001b[0m",
      "\u001b[0;31mValueError\u001b[0m                                Traceback (most recent call last)",
      "\u001b[0;32m<ipython-input-59-ac3521856f4b>\u001b[0m in \u001b[0;36m<module>\u001b[0;34m\u001b[0m\n\u001b[0;32m----> 1\u001b[0;31m \u001b[0mpd\u001b[0m\u001b[0;34m.\u001b[0m\u001b[0mDataFrame\u001b[0m\u001b[0;34m(\u001b[0m\u001b[0mstress_pipe\u001b[0m\u001b[0;34m.\u001b[0m\u001b[0mfit_transform\u001b[0m\u001b[0;34m(\u001b[0m\u001b[0mX\u001b[0m\u001b[0;34m)\u001b[0m\u001b[0;34m)\u001b[0m\u001b[0;34m.\u001b[0m\u001b[0mhead\u001b[0m\u001b[0;34m(\u001b[0m\u001b[0;34m)\u001b[0m\u001b[0;34m\u001b[0m\u001b[0;34m\u001b[0m\u001b[0m\n\u001b[0m",
      "\u001b[0;32m~/.pyenv/versions/3.8.6/envs/psycoviddash/lib/python3.8/site-packages/sklearn/pipeline.py\u001b[0m in \u001b[0;36mfit_transform\u001b[0;34m(self, X, y, **fit_params)\u001b[0m\n\u001b[1;32m    387\u001b[0m                 \u001b[0;32mreturn\u001b[0m \u001b[0mlast_step\u001b[0m\u001b[0;34m.\u001b[0m\u001b[0mfit_transform\u001b[0m\u001b[0;34m(\u001b[0m\u001b[0mXt\u001b[0m\u001b[0;34m,\u001b[0m \u001b[0my\u001b[0m\u001b[0;34m,\u001b[0m \u001b[0;34m**\u001b[0m\u001b[0mfit_params_last_step\u001b[0m\u001b[0;34m)\u001b[0m\u001b[0;34m\u001b[0m\u001b[0;34m\u001b[0m\u001b[0m\n\u001b[1;32m    388\u001b[0m             \u001b[0;32melse\u001b[0m\u001b[0;34m:\u001b[0m\u001b[0;34m\u001b[0m\u001b[0;34m\u001b[0m\u001b[0m\n\u001b[0;32m--> 389\u001b[0;31m                 return last_step.fit(Xt, y,\n\u001b[0m\u001b[1;32m    390\u001b[0m                                      **fit_params_last_step).transform(Xt)\n\u001b[1;32m    391\u001b[0m \u001b[0;34m\u001b[0m\u001b[0m\n",
      "\u001b[0;32m~/.pyenv/versions/3.8.6/envs/psycoviddash/lib/python3.8/site-packages/sklearn/linear_model/_base.py\u001b[0m in \u001b[0;36mfit\u001b[0;34m(self, X, y, sample_weight)\u001b[0m\n\u001b[1;32m    516\u001b[0m         \u001b[0maccept_sparse\u001b[0m \u001b[0;34m=\u001b[0m \u001b[0;32mFalse\u001b[0m \u001b[0;32mif\u001b[0m \u001b[0mself\u001b[0m\u001b[0;34m.\u001b[0m\u001b[0mpositive\u001b[0m \u001b[0;32melse\u001b[0m \u001b[0;34m[\u001b[0m\u001b[0;34m'csr'\u001b[0m\u001b[0;34m,\u001b[0m \u001b[0;34m'csc'\u001b[0m\u001b[0;34m,\u001b[0m \u001b[0;34m'coo'\u001b[0m\u001b[0;34m]\u001b[0m\u001b[0;34m\u001b[0m\u001b[0;34m\u001b[0m\u001b[0m\n\u001b[1;32m    517\u001b[0m \u001b[0;34m\u001b[0m\u001b[0m\n\u001b[0;32m--> 518\u001b[0;31m         X, y = self._validate_data(X, y, accept_sparse=accept_sparse,\n\u001b[0m\u001b[1;32m    519\u001b[0m                                    y_numeric=True, multi_output=True)\n\u001b[1;32m    520\u001b[0m \u001b[0;34m\u001b[0m\u001b[0m\n",
      "\u001b[0;32m~/.pyenv/versions/3.8.6/envs/psycoviddash/lib/python3.8/site-packages/sklearn/base.py\u001b[0m in \u001b[0;36m_validate_data\u001b[0;34m(self, X, y, reset, validate_separately, **check_params)\u001b[0m\n\u001b[1;32m    412\u001b[0m         \u001b[0;32mif\u001b[0m \u001b[0my\u001b[0m \u001b[0;32mis\u001b[0m \u001b[0;32mNone\u001b[0m\u001b[0;34m:\u001b[0m\u001b[0;34m\u001b[0m\u001b[0;34m\u001b[0m\u001b[0m\n\u001b[1;32m    413\u001b[0m             \u001b[0;32mif\u001b[0m \u001b[0mself\u001b[0m\u001b[0;34m.\u001b[0m\u001b[0m_get_tags\u001b[0m\u001b[0;34m(\u001b[0m\u001b[0;34m)\u001b[0m\u001b[0;34m[\u001b[0m\u001b[0;34m'requires_y'\u001b[0m\u001b[0;34m]\u001b[0m\u001b[0;34m:\u001b[0m\u001b[0;34m\u001b[0m\u001b[0;34m\u001b[0m\u001b[0m\n\u001b[0;32m--> 414\u001b[0;31m                 raise ValueError(\n\u001b[0m\u001b[1;32m    415\u001b[0m                     \u001b[0;34mf\"This {self.__class__.__name__} estimator \"\u001b[0m\u001b[0;34m\u001b[0m\u001b[0;34m\u001b[0m\u001b[0m\n\u001b[1;32m    416\u001b[0m                     \u001b[0;34mf\"requires y to be passed, but the target y is None.\"\u001b[0m\u001b[0;34m\u001b[0m\u001b[0;34m\u001b[0m\u001b[0m\n",
      "\u001b[0;31mValueError\u001b[0m: This LinearRegression estimator requires y to be passed, but the target y is None."
     ]
    }
   ],
   "source": [
    "pd.DataFrame(stress_pipe.fit_transform(X)).head()"
   ]
  },
  {
   "cell_type": "code",
   "execution_count": 23,
   "id": "4a4a4711",
   "metadata": {},
   "outputs": [
    {
     "data": {
      "text/plain": [
       "['model_linear_stress_3.joblib']"
      ]
     },
     "execution_count": 23,
     "metadata": {},
     "output_type": "execute_result"
    }
   ],
   "source": [
    "import joblib \n",
    "joblib.dump(stress_pipe, 'model_linear_stress_3.joblib')"
   ]
  },
  {
   "cell_type": "code",
   "execution_count": 24,
   "id": "56e7f3d9",
   "metadata": {},
   "outputs": [],
   "source": [
    "import pickle\n",
    "# Export pipeline as pickle file\n",
    "with open(\"stress_pipeline.pkl\", \"wb\") as file:\n",
    "    pickle.dump(stress_pipe, file)"
   ]
  },
  {
   "cell_type": "markdown",
   "id": "9d45c08d",
   "metadata": {},
   "source": [
    "# Method 2"
   ]
  },
  {
   "cell_type": "code",
   "execution_count": 15,
   "id": "a88a1cc5",
   "metadata": {},
   "outputs": [],
   "source": [
    "from sklearn.base import TransformerMixin\n",
    "from sklearn.base import BaseEstimator"
   ]
  },
  {
   "cell_type": "code",
   "execution_count": 25,
   "id": "bbb5ce8f",
   "metadata": {},
   "outputs": [],
   "source": [
    "class ColumnEdu(TransformerMixin, BaseEstimator):\n",
    "    def __init(self, column_1):\n",
    "        self.column_1 = column_1\n",
    "        \n",
    "    def fit(self, X, y=None):\n",
    "        return self\n",
    "    \n",
    "    def transform(self, X, y=None):\n",
    "        \n",
    "        df['Dem_edu']=df['Dem_edu'].replace(\n",
    "            {\n",
    "                'Uninformative response':0,\n",
    "                'None':1,\n",
    "                'Up to 6 years of school':2, \n",
    "                'Up to 9 years of school':3, \n",
    "                'Up to 12 years of school':4, \n",
    "                'Some College, short continuing education or equivalent':5,\n",
    "                'College degree, bachelor, master': 6,\n",
    "                'PhD/Doctorate':7\n",
    "            }\n",
    "        )\n",
    "        return  df[['Dem_edu']]"
   ]
  },
  {
   "cell_type": "code",
   "execution_count": 26,
   "id": "604d6d81",
   "metadata": {},
   "outputs": [],
   "source": [
    "class ColumnEduMom(TransformerMixin, BaseEstimator):\n",
    "    def __init(self, column_1):\n",
    "        self.column_1 = column_1\n",
    "        \n",
    "    def fit(self, X, y=None):\n",
    "        return self\n",
    "    \n",
    "    def transform(self, X, y=None):\n",
    "        df['Dem_edu_mom'] = df['Dem_edu_mom'].replace(\n",
    "            {   \n",
    "                'Uninformative response':0,\n",
    "                'None':1,\n",
    "                'Up to 6 years of school':2,\n",
    "                'Up to 9 years of school':3,\n",
    "                'Up to 12 years of school':4,\n",
    "                'Some College or equivalent':5,\n",
    "                'College degree': 6,\n",
    "                'PhD/Doctorate':7\n",
    "            }\n",
    "        )\n",
    "        return  df[['Dem_edu_mom']]"
   ]
  },
  {
   "cell_type": "code",
   "execution_count": 27,
   "id": "b4c50f90",
   "metadata": {},
   "outputs": [],
   "source": [
    "class ColumnRisk(TransformerMixin, BaseEstimator):\n",
    "    def __init(self, column_1):\n",
    "        self.column_1 = column_1\n",
    "        \n",
    "    def fit(self, X, y=None):\n",
    "        return self\n",
    "    \n",
    "    def transform(self, X, y=None):\n",
    "        df['Dem_riskgroup'] = df['Dem_riskgroup'].replace({'No':1,'Not sure':2, 'Yes':3})    \n",
    "        return  df[['Dem_riskgroup']]"
   ]
  },
  {
   "cell_type": "code",
   "execution_count": 28,
   "id": "fbeb29d3",
   "metadata": {},
   "outputs": [],
   "source": [
    "class ColumnExpat(TransformerMixin, BaseEstimator):\n",
    "    def __init(self, column_1):\n",
    "        self.column_1 = column_1\n",
    "        \n",
    "    def fit(self, X, y=None):\n",
    "        return self\n",
    "    \n",
    "    def transform(self, X, y=None):\n",
    "        df['Dem_Expat'] = df['Dem_Expat'].replace({'no':0,'yes':1})\n",
    "        return df[['Dem_Expat']]"
   ]
  },
  {
   "cell_type": "code",
   "execution_count": 32,
   "id": "af1ada6f",
   "metadata": {},
   "outputs": [],
   "source": [
    "preprocessor = ColumnTransformer(\n",
    "    [\n",
    "        ('edu_func', ColumnEdu(),['Dem_edu']),\n",
    "        ('edu_mom_func', ColumnEduMom(),['Dem_edu_mom']),\n",
    "        ('risk_func', ColumnRisk(),['Dem_riskgroup']),\n",
    "        ('expat_func', ColumnExpat(),['Dem_Expat']),\n",
    "        ('ohe_transformer', OneHotEncoder(), ['Dem_gender', 'Dem_maritalstatus','Dem_employment','Dem_isolation'])\n",
    "    ],remainder='passthrough'\n",
    ")\n",
    "\n",
    "base_pipe_2 = Pipeline([\n",
    "    ('imputer', preprocessor),\n",
    "    ('scaler', MinMaxScaler())\n",
    "])\n",
    "\n",
    "stress_pipe_2 = Pipeline([\n",
    "    ('preprocessing', base_pipe),\n",
    "    ('linear_regression',  LinearRegression())\n",
    "])"
   ]
  },
  {
   "cell_type": "code",
   "execution_count": 33,
   "id": "8a82fcbf",
   "metadata": {},
   "outputs": [
    {
     "data": {
      "text/html": [
       "<style>div.sk-top-container {color: black;background-color: white;}div.sk-toggleable {background-color: white;}label.sk-toggleable__label {cursor: pointer;display: block;width: 100%;margin-bottom: 0;padding: 0.2em 0.3em;box-sizing: border-box;text-align: center;}div.sk-toggleable__content {max-height: 0;max-width: 0;overflow: hidden;text-align: left;background-color: #f0f8ff;}div.sk-toggleable__content pre {margin: 0.2em;color: black;border-radius: 0.25em;background-color: #f0f8ff;}input.sk-toggleable__control:checked~div.sk-toggleable__content {max-height: 200px;max-width: 100%;overflow: auto;}div.sk-estimator input.sk-toggleable__control:checked~label.sk-toggleable__label {background-color: #d4ebff;}div.sk-label input.sk-toggleable__control:checked~label.sk-toggleable__label {background-color: #d4ebff;}input.sk-hidden--visually {border: 0;clip: rect(1px 1px 1px 1px);clip: rect(1px, 1px, 1px, 1px);height: 1px;margin: -1px;overflow: hidden;padding: 0;position: absolute;width: 1px;}div.sk-estimator {font-family: monospace;background-color: #f0f8ff;margin: 0.25em 0.25em;border: 1px dotted black;border-radius: 0.25em;box-sizing: border-box;}div.sk-estimator:hover {background-color: #d4ebff;}div.sk-parallel-item::after {content: \"\";width: 100%;border-bottom: 1px solid gray;flex-grow: 1;}div.sk-label:hover label.sk-toggleable__label {background-color: #d4ebff;}div.sk-serial::before {content: \"\";position: absolute;border-left: 1px solid gray;box-sizing: border-box;top: 2em;bottom: 0;left: 50%;}div.sk-serial {display: flex;flex-direction: column;align-items: center;background-color: white;}div.sk-item {z-index: 1;}div.sk-parallel {display: flex;align-items: stretch;justify-content: center;background-color: white;}div.sk-parallel-item {display: flex;flex-direction: column;position: relative;background-color: white;}div.sk-parallel-item:first-child::after {align-self: flex-end;width: 50%;}div.sk-parallel-item:last-child::after {align-self: flex-start;width: 50%;}div.sk-parallel-item:only-child::after {width: 0;}div.sk-dashed-wrapped {border: 1px dashed gray;margin: 0.2em;box-sizing: border-box;padding-bottom: 0.1em;background-color: white;position: relative;}div.sk-label label {font-family: monospace;font-weight: bold;background-color: white;display: inline-block;line-height: 1.2em;}div.sk-label-container {position: relative;z-index: 2;text-align: center;}div.sk-container {display: inline-block;position: relative;}</style><div class=\"sk-top-container\"><div class=\"sk-container\"><div class=\"sk-item sk-dashed-wrapped\"><div class=\"sk-label-container\"><div class=\"sk-label sk-toggleable\"><input class=\"sk-toggleable__control sk-hidden--visually\" id=\"b4b99578-6bff-4c1a-b344-1a7567a1d812\" type=\"checkbox\" ><label class=\"sk-toggleable__label\" for=\"b4b99578-6bff-4c1a-b344-1a7567a1d812\">Pipeline</label><div class=\"sk-toggleable__content\"><pre>Pipeline(steps=[('preprocessing',\n",
       "                 Pipeline(steps=[('imputer',\n",
       "                                  ColumnTransformer(remainder='passthrough',\n",
       "                                                    transformers=[('edu',\n",
       "                                                                   FunctionTransformer(func=<function edu_func at 0x7fa76e67f4c0>),\n",
       "                                                                   ['Dem_edu']),\n",
       "                                                                  ('edu_mom',\n",
       "                                                                   FunctionTransformer(func=<function edu_mom_func at 0x7fa76e67f820>),\n",
       "                                                                   ['Dem_edu_mom']),\n",
       "                                                                  ('risk_group',\n",
       "                                                                   FunctionTransformer(func=<function risk_group_func at 0x7fa76e67f940>),\n",
       "                                                                   ['Dem_riskgroup']),\n",
       "                                                                  ('expat',\n",
       "                                                                   FunctionTransformer(func=<function expat_func at 0x7fa76e67f9d0>),\n",
       "                                                                   ['Dem_Expat']),\n",
       "                                                                  ('ohe_transformer',\n",
       "                                                                   OneHotEncoder(),\n",
       "                                                                   ['Dem_gender',\n",
       "                                                                    'Dem_maritalstatus',\n",
       "                                                                    'Dem_employment',\n",
       "                                                                    'Dem_isolation'])])),\n",
       "                                 ('scaler', MinMaxScaler())])),\n",
       "                ('linear_regression', LinearRegression())])</pre></div></div></div><div class=\"sk-serial\"><div class=\"sk-item\"><div class=\"sk-label-container\"><div class=\"sk-label sk-toggleable\"><input class=\"sk-toggleable__control sk-hidden--visually\" id=\"a256cf70-24a1-4c46-bf8d-48ea2545a53f\" type=\"checkbox\" ><label class=\"sk-toggleable__label\" for=\"a256cf70-24a1-4c46-bf8d-48ea2545a53f\">preprocessing: Pipeline</label><div class=\"sk-toggleable__content\"><pre>Pipeline(steps=[('imputer',\n",
       "                 ColumnTransformer(remainder='passthrough',\n",
       "                                   transformers=[('edu',\n",
       "                                                  FunctionTransformer(func=<function edu_func at 0x7fa76e67f4c0>),\n",
       "                                                  ['Dem_edu']),\n",
       "                                                 ('edu_mom',\n",
       "                                                  FunctionTransformer(func=<function edu_mom_func at 0x7fa76e67f820>),\n",
       "                                                  ['Dem_edu_mom']),\n",
       "                                                 ('risk_group',\n",
       "                                                  FunctionTransformer(func=<function risk_group_func at 0x7fa76e67f940>),\n",
       "                                                  ['Dem_riskgroup']),\n",
       "                                                 ('expat',\n",
       "                                                  FunctionTransformer(func=<function expat_func at 0x7fa76e67f9d0>),\n",
       "                                                  ['Dem_Expat']),\n",
       "                                                 ('ohe_transformer',\n",
       "                                                  OneHotEncoder(),\n",
       "                                                  ['Dem_gender',\n",
       "                                                   'Dem_maritalstatus',\n",
       "                                                   'Dem_employment',\n",
       "                                                   'Dem_isolation'])])),\n",
       "                ('scaler', MinMaxScaler())])</pre></div></div></div><div class=\"sk-serial\"><div class=\"sk-item sk-dashed-wrapped\"><div class=\"sk-label-container\"><div class=\"sk-label sk-toggleable\"><input class=\"sk-toggleable__control sk-hidden--visually\" id=\"f0777356-31c4-4d3d-a30d-85103b74e622\" type=\"checkbox\" ><label class=\"sk-toggleable__label\" for=\"f0777356-31c4-4d3d-a30d-85103b74e622\">imputer: ColumnTransformer</label><div class=\"sk-toggleable__content\"><pre>ColumnTransformer(remainder='passthrough',\n",
       "                  transformers=[('edu',\n",
       "                                 FunctionTransformer(func=<function edu_func at 0x7fa76e67f4c0>),\n",
       "                                 ['Dem_edu']),\n",
       "                                ('edu_mom',\n",
       "                                 FunctionTransformer(func=<function edu_mom_func at 0x7fa76e67f820>),\n",
       "                                 ['Dem_edu_mom']),\n",
       "                                ('risk_group',\n",
       "                                 FunctionTransformer(func=<function risk_group_func at 0x7fa76e67f940>),\n",
       "                                 ['Dem_riskgroup']),\n",
       "                                ('expat',\n",
       "                                 FunctionTransformer(func=<function expat_func at 0x7fa76e67f9d0>),\n",
       "                                 ['Dem_Expat']),\n",
       "                                ('ohe_transformer', OneHotEncoder(),\n",
       "                                 ['Dem_gender', 'Dem_maritalstatus',\n",
       "                                  'Dem_employment', 'Dem_isolation'])])</pre></div></div></div><div class=\"sk-parallel\"><div class=\"sk-parallel-item\"><div class=\"sk-item\"><div class=\"sk-label-container\"><div class=\"sk-label sk-toggleable\"><input class=\"sk-toggleable__control sk-hidden--visually\" id=\"94f49636-b7b0-4e37-a8ed-b7c2d6b2ca69\" type=\"checkbox\" ><label class=\"sk-toggleable__label\" for=\"94f49636-b7b0-4e37-a8ed-b7c2d6b2ca69\">edu</label><div class=\"sk-toggleable__content\"><pre>['Dem_edu']</pre></div></div></div><div class=\"sk-serial\"><div class=\"sk-item\"><div class=\"sk-estimator sk-toggleable\"><input class=\"sk-toggleable__control sk-hidden--visually\" id=\"87700bab-fd25-4966-8ed9-fb9e9d913494\" type=\"checkbox\" ><label class=\"sk-toggleable__label\" for=\"87700bab-fd25-4966-8ed9-fb9e9d913494\">FunctionTransformer</label><div class=\"sk-toggleable__content\"><pre>FunctionTransformer(func=<function edu_func at 0x7fa76e67f4c0>)</pre></div></div></div></div></div></div><div class=\"sk-parallel-item\"><div class=\"sk-item\"><div class=\"sk-label-container\"><div class=\"sk-label sk-toggleable\"><input class=\"sk-toggleable__control sk-hidden--visually\" id=\"b034f1d4-bad1-4585-bff0-8d6da4788d1c\" type=\"checkbox\" ><label class=\"sk-toggleable__label\" for=\"b034f1d4-bad1-4585-bff0-8d6da4788d1c\">edu_mom</label><div class=\"sk-toggleable__content\"><pre>['Dem_edu_mom']</pre></div></div></div><div class=\"sk-serial\"><div class=\"sk-item\"><div class=\"sk-estimator sk-toggleable\"><input class=\"sk-toggleable__control sk-hidden--visually\" id=\"0fd5645d-f783-4a44-81f6-18bf33a8b5ff\" type=\"checkbox\" ><label class=\"sk-toggleable__label\" for=\"0fd5645d-f783-4a44-81f6-18bf33a8b5ff\">FunctionTransformer</label><div class=\"sk-toggleable__content\"><pre>FunctionTransformer(func=<function edu_mom_func at 0x7fa76e67f820>)</pre></div></div></div></div></div></div><div class=\"sk-parallel-item\"><div class=\"sk-item\"><div class=\"sk-label-container\"><div class=\"sk-label sk-toggleable\"><input class=\"sk-toggleable__control sk-hidden--visually\" id=\"c91aa46d-8b25-4b9b-b4dd-5b39139c6886\" type=\"checkbox\" ><label class=\"sk-toggleable__label\" for=\"c91aa46d-8b25-4b9b-b4dd-5b39139c6886\">risk_group</label><div class=\"sk-toggleable__content\"><pre>['Dem_riskgroup']</pre></div></div></div><div class=\"sk-serial\"><div class=\"sk-item\"><div class=\"sk-estimator sk-toggleable\"><input class=\"sk-toggleable__control sk-hidden--visually\" id=\"648bc555-05d1-4f28-b083-ff13b2849bb1\" type=\"checkbox\" ><label class=\"sk-toggleable__label\" for=\"648bc555-05d1-4f28-b083-ff13b2849bb1\">FunctionTransformer</label><div class=\"sk-toggleable__content\"><pre>FunctionTransformer(func=<function risk_group_func at 0x7fa76e67f940>)</pre></div></div></div></div></div></div><div class=\"sk-parallel-item\"><div class=\"sk-item\"><div class=\"sk-label-container\"><div class=\"sk-label sk-toggleable\"><input class=\"sk-toggleable__control sk-hidden--visually\" id=\"0558aa2a-b2d9-49d3-a250-98570b4693a7\" type=\"checkbox\" ><label class=\"sk-toggleable__label\" for=\"0558aa2a-b2d9-49d3-a250-98570b4693a7\">expat</label><div class=\"sk-toggleable__content\"><pre>['Dem_Expat']</pre></div></div></div><div class=\"sk-serial\"><div class=\"sk-item\"><div class=\"sk-estimator sk-toggleable\"><input class=\"sk-toggleable__control sk-hidden--visually\" id=\"0102179e-56f4-4b81-a3e8-f2adad6d7749\" type=\"checkbox\" ><label class=\"sk-toggleable__label\" for=\"0102179e-56f4-4b81-a3e8-f2adad6d7749\">FunctionTransformer</label><div class=\"sk-toggleable__content\"><pre>FunctionTransformer(func=<function expat_func at 0x7fa76e67f9d0>)</pre></div></div></div></div></div></div><div class=\"sk-parallel-item\"><div class=\"sk-item\"><div class=\"sk-label-container\"><div class=\"sk-label sk-toggleable\"><input class=\"sk-toggleable__control sk-hidden--visually\" id=\"c61959b7-5746-4e8c-801b-ea992b4bde74\" type=\"checkbox\" ><label class=\"sk-toggleable__label\" for=\"c61959b7-5746-4e8c-801b-ea992b4bde74\">ohe_transformer</label><div class=\"sk-toggleable__content\"><pre>['Dem_gender', 'Dem_maritalstatus', 'Dem_employment', 'Dem_isolation']</pre></div></div></div><div class=\"sk-serial\"><div class=\"sk-item\"><div class=\"sk-estimator sk-toggleable\"><input class=\"sk-toggleable__control sk-hidden--visually\" id=\"b7ff030e-b5c9-4f82-9321-62bc481fd730\" type=\"checkbox\" ><label class=\"sk-toggleable__label\" for=\"b7ff030e-b5c9-4f82-9321-62bc481fd730\">OneHotEncoder</label><div class=\"sk-toggleable__content\"><pre>OneHotEncoder()</pre></div></div></div></div></div></div><div class=\"sk-parallel-item\"><div class=\"sk-item\"><div class=\"sk-label-container\"><div class=\"sk-label sk-toggleable\"><input class=\"sk-toggleable__control sk-hidden--visually\" id=\"6220a452-eb24-4540-8c3a-9ade4fdf49f0\" type=\"checkbox\" ><label class=\"sk-toggleable__label\" for=\"6220a452-eb24-4540-8c3a-9ade4fdf49f0\">remainder</label><div class=\"sk-toggleable__content\"><pre>['BFF_15_1', 'BFF_15_2', 'BFF_15_3', 'BFF_15_4', 'BFF_15_5', 'BFF_15_6', 'BFF_15_7', 'BFF_15_8', 'BFF_15_9', 'BFF_15_10', 'BFF_15_11', 'BFF_15_12', 'BFF_15_13', 'BFF_15_14', 'BFF_15_15', 'Dem_age']</pre></div></div></div><div class=\"sk-serial\"><div class=\"sk-item\"><div class=\"sk-estimator sk-toggleable\"><input class=\"sk-toggleable__control sk-hidden--visually\" id=\"66e98201-5e2f-4fb8-9059-28dfd116e3f9\" type=\"checkbox\" ><label class=\"sk-toggleable__label\" for=\"66e98201-5e2f-4fb8-9059-28dfd116e3f9\">passthrough</label><div class=\"sk-toggleable__content\"><pre>passthrough</pre></div></div></div></div></div></div></div></div><div class=\"sk-item\"><div class=\"sk-estimator sk-toggleable\"><input class=\"sk-toggleable__control sk-hidden--visually\" id=\"5b2e7aab-7b3e-4469-84fb-c4544e1ee619\" type=\"checkbox\" ><label class=\"sk-toggleable__label\" for=\"5b2e7aab-7b3e-4469-84fb-c4544e1ee619\">MinMaxScaler</label><div class=\"sk-toggleable__content\"><pre>MinMaxScaler()</pre></div></div></div></div></div><div class=\"sk-item\"><div class=\"sk-estimator sk-toggleable\"><input class=\"sk-toggleable__control sk-hidden--visually\" id=\"88bc6e7f-89e9-482e-9e7c-91f1a513b8a7\" type=\"checkbox\" ><label class=\"sk-toggleable__label\" for=\"88bc6e7f-89e9-482e-9e7c-91f1a513b8a7\">LinearRegression</label><div class=\"sk-toggleable__content\"><pre>LinearRegression()</pre></div></div></div></div></div></div></div>"
      ],
      "text/plain": [
       "Pipeline(steps=[('preprocessing',\n",
       "                 Pipeline(steps=[('imputer',\n",
       "                                  ColumnTransformer(remainder='passthrough',\n",
       "                                                    transformers=[('edu',\n",
       "                                                                   FunctionTransformer(func=<function edu_func at 0x7fa76e67f4c0>),\n",
       "                                                                   ['Dem_edu']),\n",
       "                                                                  ('edu_mom',\n",
       "                                                                   FunctionTransformer(func=<function edu_mom_func at 0x7fa76e67f820>),\n",
       "                                                                   ['Dem_edu_mom']),\n",
       "                                                                  ('risk_group',\n",
       "                                                                   FunctionTransformer(func=<function risk_group_func at 0x7fa76e67f940>),\n",
       "                                                                   ['Dem_riskgroup']),\n",
       "                                                                  ('expat',\n",
       "                                                                   FunctionTransformer(func=<function expat_func at 0x7fa76e67f9d0>),\n",
       "                                                                   ['Dem_Expat']),\n",
       "                                                                  ('ohe_transformer',\n",
       "                                                                   OneHotEncoder(),\n",
       "                                                                   ['Dem_gender',\n",
       "                                                                    'Dem_maritalstatus',\n",
       "                                                                    'Dem_employment',\n",
       "                                                                    'Dem_isolation'])])),\n",
       "                                 ('scaler', MinMaxScaler())])),\n",
       "                ('linear_regression', LinearRegression())])"
      ]
     },
     "execution_count": 33,
     "metadata": {},
     "output_type": "execute_result"
    }
   ],
   "source": [
    "stress_pipe_2"
   ]
  },
  {
   "cell_type": "code",
   "execution_count": 34,
   "id": "edffff90",
   "metadata": {},
   "outputs": [
    {
     "ename": "ValueError",
     "evalue": "This LinearRegression estimator requires y to be passed, but the target y is None.",
     "output_type": "error",
     "traceback": [
      "\u001b[0;31m---------------------------------------------------------------------------\u001b[0m",
      "\u001b[0;31mValueError\u001b[0m                                Traceback (most recent call last)",
      "\u001b[0;32m<ipython-input-34-2fa8c9368564>\u001b[0m in \u001b[0;36m<module>\u001b[0;34m\u001b[0m\n\u001b[0;32m----> 1\u001b[0;31m \u001b[0mpd\u001b[0m\u001b[0;34m.\u001b[0m\u001b[0mDataFrame\u001b[0m\u001b[0;34m(\u001b[0m\u001b[0mstress_pipe_2\u001b[0m\u001b[0;34m.\u001b[0m\u001b[0mfit_transform\u001b[0m\u001b[0;34m(\u001b[0m\u001b[0mX\u001b[0m\u001b[0;34m)\u001b[0m\u001b[0;34m)\u001b[0m\u001b[0;34m.\u001b[0m\u001b[0mhead\u001b[0m\u001b[0;34m(\u001b[0m\u001b[0;34m)\u001b[0m\u001b[0;34m\u001b[0m\u001b[0;34m\u001b[0m\u001b[0m\n\u001b[0m",
      "\u001b[0;32m~/.pyenv/versions/3.8.6/envs/psycoviddash/lib/python3.8/site-packages/sklearn/pipeline.py\u001b[0m in \u001b[0;36mfit_transform\u001b[0;34m(self, X, y, **fit_params)\u001b[0m\n\u001b[1;32m    387\u001b[0m                 \u001b[0;32mreturn\u001b[0m \u001b[0mlast_step\u001b[0m\u001b[0;34m.\u001b[0m\u001b[0mfit_transform\u001b[0m\u001b[0;34m(\u001b[0m\u001b[0mXt\u001b[0m\u001b[0;34m,\u001b[0m \u001b[0my\u001b[0m\u001b[0;34m,\u001b[0m \u001b[0;34m**\u001b[0m\u001b[0mfit_params_last_step\u001b[0m\u001b[0;34m)\u001b[0m\u001b[0;34m\u001b[0m\u001b[0;34m\u001b[0m\u001b[0m\n\u001b[1;32m    388\u001b[0m             \u001b[0;32melse\u001b[0m\u001b[0;34m:\u001b[0m\u001b[0;34m\u001b[0m\u001b[0;34m\u001b[0m\u001b[0m\n\u001b[0;32m--> 389\u001b[0;31m                 return last_step.fit(Xt, y,\n\u001b[0m\u001b[1;32m    390\u001b[0m                                      **fit_params_last_step).transform(Xt)\n\u001b[1;32m    391\u001b[0m \u001b[0;34m\u001b[0m\u001b[0m\n",
      "\u001b[0;32m~/.pyenv/versions/3.8.6/envs/psycoviddash/lib/python3.8/site-packages/sklearn/linear_model/_base.py\u001b[0m in \u001b[0;36mfit\u001b[0;34m(self, X, y, sample_weight)\u001b[0m\n\u001b[1;32m    516\u001b[0m         \u001b[0maccept_sparse\u001b[0m \u001b[0;34m=\u001b[0m \u001b[0;32mFalse\u001b[0m \u001b[0;32mif\u001b[0m \u001b[0mself\u001b[0m\u001b[0;34m.\u001b[0m\u001b[0mpositive\u001b[0m \u001b[0;32melse\u001b[0m \u001b[0;34m[\u001b[0m\u001b[0;34m'csr'\u001b[0m\u001b[0;34m,\u001b[0m \u001b[0;34m'csc'\u001b[0m\u001b[0;34m,\u001b[0m \u001b[0;34m'coo'\u001b[0m\u001b[0;34m]\u001b[0m\u001b[0;34m\u001b[0m\u001b[0;34m\u001b[0m\u001b[0m\n\u001b[1;32m    517\u001b[0m \u001b[0;34m\u001b[0m\u001b[0m\n\u001b[0;32m--> 518\u001b[0;31m         X, y = self._validate_data(X, y, accept_sparse=accept_sparse,\n\u001b[0m\u001b[1;32m    519\u001b[0m                                    y_numeric=True, multi_output=True)\n\u001b[1;32m    520\u001b[0m \u001b[0;34m\u001b[0m\u001b[0m\n",
      "\u001b[0;32m~/.pyenv/versions/3.8.6/envs/psycoviddash/lib/python3.8/site-packages/sklearn/base.py\u001b[0m in \u001b[0;36m_validate_data\u001b[0;34m(self, X, y, reset, validate_separately, **check_params)\u001b[0m\n\u001b[1;32m    412\u001b[0m         \u001b[0;32mif\u001b[0m \u001b[0my\u001b[0m \u001b[0;32mis\u001b[0m \u001b[0;32mNone\u001b[0m\u001b[0;34m:\u001b[0m\u001b[0;34m\u001b[0m\u001b[0;34m\u001b[0m\u001b[0m\n\u001b[1;32m    413\u001b[0m             \u001b[0;32mif\u001b[0m \u001b[0mself\u001b[0m\u001b[0;34m.\u001b[0m\u001b[0m_get_tags\u001b[0m\u001b[0;34m(\u001b[0m\u001b[0;34m)\u001b[0m\u001b[0;34m[\u001b[0m\u001b[0;34m'requires_y'\u001b[0m\u001b[0;34m]\u001b[0m\u001b[0;34m:\u001b[0m\u001b[0;34m\u001b[0m\u001b[0;34m\u001b[0m\u001b[0m\n\u001b[0;32m--> 414\u001b[0;31m                 raise ValueError(\n\u001b[0m\u001b[1;32m    415\u001b[0m                     \u001b[0;34mf\"This {self.__class__.__name__} estimator \"\u001b[0m\u001b[0;34m\u001b[0m\u001b[0;34m\u001b[0m\u001b[0m\n\u001b[1;32m    416\u001b[0m                     \u001b[0;34mf\"requires y to be passed, but the target y is None.\"\u001b[0m\u001b[0;34m\u001b[0m\u001b[0;34m\u001b[0m\u001b[0m\n",
      "\u001b[0;31mValueError\u001b[0m: This LinearRegression estimator requires y to be passed, but the target y is None."
     ]
    }
   ],
   "source": [
    "pd.DataFrame(stress_pipe_2.fit_transform(X)).head()"
   ]
  },
  {
   "cell_type": "code",
   "execution_count": null,
   "id": "c0a1bd15",
   "metadata": {},
   "outputs": [],
   "source": []
  }
 ],
 "metadata": {
  "kernelspec": {
   "display_name": "Python 3",
   "language": "python",
   "name": "python3"
  },
  "language_info": {
   "codemirror_mode": {
    "name": "ipython",
    "version": 3
   },
   "file_extension": ".py",
   "mimetype": "text/x-python",
   "name": "python",
   "nbconvert_exporter": "python",
   "pygments_lexer": "ipython3",
   "version": "3.8.6"
  },
  "toc": {
   "base_numbering": 1,
   "nav_menu": {},
   "number_sections": true,
   "sideBar": true,
   "skip_h1_title": false,
   "title_cell": "Table of Contents",
   "title_sidebar": "Contents",
   "toc_cell": false,
   "toc_position": {},
   "toc_section_display": true,
   "toc_window_display": false
  }
 },
 "nbformat": 4,
 "nbformat_minor": 5
}
