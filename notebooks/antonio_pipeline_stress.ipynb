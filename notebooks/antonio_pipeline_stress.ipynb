{
 "cells": [
  {
   "cell_type": "code",
   "execution_count": 1,
   "id": "9b15bc9b",
   "metadata": {},
   "outputs": [],
   "source": [
    "from sklearn import preprocessing\n",
    "from sklearn.preprocessing import OneHotEncoder\n",
    "import pandas as pd\n",
    "import matplotlib.pyplot as plt\n",
    "import numpy as np\n",
    "%matplotlib inline\n",
    "from sklearn.compose import ColumnTransformer\n",
    "from sklearn.preprocessing import FunctionTransformer\n",
    "from sklearn.pipeline import Pipeline\n",
    "from sklearn.preprocessing import MinMaxScaler\n",
    "from sklearn import set_config; set_config(display='diagram')\n",
    "from sklearn.linear_model import LinearRegression\n",
    "import pickle"
   ]
  },
  {
   "cell_type": "markdown",
   "id": "c6ebac9c",
   "metadata": {},
   "source": [
    "## Create Data Frame"
   ]
  },
  {
   "cell_type": "code",
   "execution_count": 2,
   "id": "af8f7418",
   "metadata": {},
   "outputs": [],
   "source": [
    "df=pd.read_csv('../raw_data/cleaned_data_040321.csv',encoding='latin-1')"
   ]
  },
  {
   "cell_type": "markdown",
   "id": "07c9c929",
   "metadata": {},
   "source": [
    "## Defining X and y"
   ]
  },
  {
   "cell_type": "code",
   "execution_count": 3,
   "id": "5f6fdd19",
   "metadata": {},
   "outputs": [],
   "source": [
    "X=df[[\n",
    "    'BFF_15_1','BFF_15_2','BFF_15_3','BFF_15_4','BFF_15_5','BFF_15_6','BFF_15_7','BFF_15_8','BFF_15_9','BFF_15_10','BFF_15_11',\n",
    "    'BFF_15_12','BFF_15_13','BFF_15_14','BFF_15_15','Dem_age','Dem_gender','Dem_edu','Dem_edu_mom','Dem_employment','Dem_Expat',\n",
    "    'Dem_maritalstatus','Dem_riskgroup','Dem_isolation'\n",
    "]]\n",
    "y=df['PSS10_avg']"
   ]
  },
  {
   "cell_type": "markdown",
   "id": "3702a0bc",
   "metadata": {},
   "source": [
    "## Create functions for transformations"
   ]
  },
  {
   "cell_type": "code",
   "execution_count": 5,
   "id": "8080a0a0",
   "metadata": {},
   "outputs": [],
   "source": [
    "def edu_func(df):\n",
    "    df['Dem_edu']=X['Dem_edu'].replace(\n",
    "        {\n",
    "            'Uninformative response':0,\n",
    "            'None':1,\n",
    "            'Up to 6 years of school':2, \n",
    "            'Up to 9 years of school':3, \n",
    "            'Up to 12 years of school':4, \n",
    "            'Some College, short continuing education or equivalent':5,\n",
    "            'College degree, bachelor, master': 6,\n",
    "            'PhD/Doctorate':7\n",
    "        })\n",
    "    return  df[['Dem_edu']]\n",
    "\n",
    "\n",
    "def edu_mom_func(df):    \n",
    "    df['Dem_edu_mom'] = df['Dem_edu_mom'].replace({\n",
    "        'Uninformative response':0,\n",
    "        'None':1,\n",
    "        'Up to 6 years of school':2,\n",
    "        'Up to 9 years of school':3,\n",
    "        'Up to 12 years of school':4,\n",
    "        'Some College or equivalent':5,\n",
    "        'College degree': 6,\n",
    "        'PhD/Doctorate':7\n",
    "    }\n",
    "    )\n",
    "    return  df[['Dem_edu_mom']]\n",
    "\n",
    "\n",
    "def risk_group_func(df): \n",
    "    df['Dem_riskgroup'] = df['Dem_riskgroup'].replace({'No':1,'Not sure':2, 'Yes':3})    \n",
    "    return  df[['Dem_riskgroup']]\n",
    "\n",
    "def expat_func(df):\n",
    "    df['Dem_Expat'] = df['Dem_Expat'].replace({'no':0,'yes':1})\n",
    "    return df[['Dem_Expat']]"
   ]
  },
  {
   "cell_type": "code",
   "execution_count": 5,
   "id": "94c3de81",
   "metadata": {},
   "outputs": [],
   "source": [
    "preprocessor = ColumnTransformer(\n",
    "    [    \n",
    "        ('edu', FunctionTransformer(edu_func), ['Dem_edu']),\n",
    "        ('edu_mom', FunctionTransformer(edu_mom_func), ['Dem_edu_mom']),\n",
    "        ('risk_group', FunctionTransformer(risk_group_func), ['Dem_riskgroup']),\n",
    "        ('expat', FunctionTransformer(expat_func), ['Dem_Expat']),\n",
    "        ('ohe_transformer', OneHotEncoder(), ['Dem_gender', 'Dem_maritalstatus','Dem_employment','Dem_isolation'])\n",
    "    ],remainder='passthrough'\n",
    ")\n",
    "\n",
    "base_pipe = Pipeline([\n",
    "    ('imputer', preprocessor),\n",
    "    ('scaler', MinMaxScaler())\n",
    "])\n",
    "\n",
    "\n",
    "\n",
    "stress_pipe = Pipeline([\n",
    "    ('preprocessing', base_pipe),\n",
    "    ('linear_regression',  LinearRegression())\n",
    "])"
   ]
  },
  {
   "cell_type": "code",
   "execution_count": 6,
   "id": "92ba2581",
   "metadata": {},
   "outputs": [
    {
     "data": {
      "text/html": [
       "<style>div.sk-top-container {color: black;background-color: white;}div.sk-toggleable {background-color: white;}label.sk-toggleable__label {cursor: pointer;display: block;width: 100%;margin-bottom: 0;padding: 0.2em 0.3em;box-sizing: border-box;text-align: center;}div.sk-toggleable__content {max-height: 0;max-width: 0;overflow: hidden;text-align: left;background-color: #f0f8ff;}div.sk-toggleable__content pre {margin: 0.2em;color: black;border-radius: 0.25em;background-color: #f0f8ff;}input.sk-toggleable__control:checked~div.sk-toggleable__content {max-height: 200px;max-width: 100%;overflow: auto;}div.sk-estimator input.sk-toggleable__control:checked~label.sk-toggleable__label {background-color: #d4ebff;}div.sk-label input.sk-toggleable__control:checked~label.sk-toggleable__label {background-color: #d4ebff;}input.sk-hidden--visually {border: 0;clip: rect(1px 1px 1px 1px);clip: rect(1px, 1px, 1px, 1px);height: 1px;margin: -1px;overflow: hidden;padding: 0;position: absolute;width: 1px;}div.sk-estimator {font-family: monospace;background-color: #f0f8ff;margin: 0.25em 0.25em;border: 1px dotted black;border-radius: 0.25em;box-sizing: border-box;}div.sk-estimator:hover {background-color: #d4ebff;}div.sk-parallel-item::after {content: \"\";width: 100%;border-bottom: 1px solid gray;flex-grow: 1;}div.sk-label:hover label.sk-toggleable__label {background-color: #d4ebff;}div.sk-serial::before {content: \"\";position: absolute;border-left: 1px solid gray;box-sizing: border-box;top: 2em;bottom: 0;left: 50%;}div.sk-serial {display: flex;flex-direction: column;align-items: center;background-color: white;}div.sk-item {z-index: 1;}div.sk-parallel {display: flex;align-items: stretch;justify-content: center;background-color: white;}div.sk-parallel-item {display: flex;flex-direction: column;position: relative;background-color: white;}div.sk-parallel-item:first-child::after {align-self: flex-end;width: 50%;}div.sk-parallel-item:last-child::after {align-self: flex-start;width: 50%;}div.sk-parallel-item:only-child::after {width: 0;}div.sk-dashed-wrapped {border: 1px dashed gray;margin: 0.2em;box-sizing: border-box;padding-bottom: 0.1em;background-color: white;position: relative;}div.sk-label label {font-family: monospace;font-weight: bold;background-color: white;display: inline-block;line-height: 1.2em;}div.sk-label-container {position: relative;z-index: 2;text-align: center;}div.sk-container {display: inline-block;position: relative;}</style><div class=\"sk-top-container\"><div class=\"sk-container\"><div class=\"sk-item sk-dashed-wrapped\"><div class=\"sk-label-container\"><div class=\"sk-label sk-toggleable\"><input class=\"sk-toggleable__control sk-hidden--visually\" id=\"6c3fc9d5-d362-4616-9375-2c500ba63218\" type=\"checkbox\" ><label class=\"sk-toggleable__label\" for=\"6c3fc9d5-d362-4616-9375-2c500ba63218\">Pipeline</label><div class=\"sk-toggleable__content\"><pre>Pipeline(steps=[('preprocessing',\n",
       "                 Pipeline(steps=[('imputer',\n",
       "                                  ColumnTransformer(remainder='passthrough',\n",
       "                                                    transformers=[('edu',\n",
       "                                                                   FunctionTransformer(func=<function edu_func at 0x7fa76e707af0>),\n",
       "                                                                   ['Dem_edu']),\n",
       "                                                                  ('edu_mom',\n",
       "                                                                   FunctionTransformer(func=<function edu_mom_func at 0x7fa76f65eaf0>),\n",
       "                                                                   ['Dem_edu_mom']),\n",
       "                                                                  ('risk_group',\n",
       "                                                                   FunctionTransformer(func=<function risk_group_func at 0x7fa76f65eca0>),\n",
       "                                                                   ['Dem_riskgroup']),\n",
       "                                                                  ('expat',\n",
       "                                                                   FunctionTransformer(func=<function expat_func at 0x7fa76f65ed30>),\n",
       "                                                                   ['Dem_Expat']),\n",
       "                                                                  ('ohe_transformer',\n",
       "                                                                   OneHotEncoder(),\n",
       "                                                                   ['Dem_gender',\n",
       "                                                                    'Dem_maritalstatus',\n",
       "                                                                    'Dem_employment',\n",
       "                                                                    'Dem_isolation'])])),\n",
       "                                 ('scaler', MinMaxScaler())])),\n",
       "                ('linear_regression', LinearRegression())])</pre></div></div></div><div class=\"sk-serial\"><div class=\"sk-item\"><div class=\"sk-label-container\"><div class=\"sk-label sk-toggleable\"><input class=\"sk-toggleable__control sk-hidden--visually\" id=\"c5ed5d2d-52c5-4be6-b1a9-84833032d324\" type=\"checkbox\" ><label class=\"sk-toggleable__label\" for=\"c5ed5d2d-52c5-4be6-b1a9-84833032d324\">preprocessing: Pipeline</label><div class=\"sk-toggleable__content\"><pre>Pipeline(steps=[('imputer',\n",
       "                 ColumnTransformer(remainder='passthrough',\n",
       "                                   transformers=[('edu',\n",
       "                                                  FunctionTransformer(func=<function edu_func at 0x7fa76e707af0>),\n",
       "                                                  ['Dem_edu']),\n",
       "                                                 ('edu_mom',\n",
       "                                                  FunctionTransformer(func=<function edu_mom_func at 0x7fa76f65eaf0>),\n",
       "                                                  ['Dem_edu_mom']),\n",
       "                                                 ('risk_group',\n",
       "                                                  FunctionTransformer(func=<function risk_group_func at 0x7fa76f65eca0>),\n",
       "                                                  ['Dem_riskgroup']),\n",
       "                                                 ('expat',\n",
       "                                                  FunctionTransformer(func=<function expat_func at 0x7fa76f65ed30>),\n",
       "                                                  ['Dem_Expat']),\n",
       "                                                 ('ohe_transformer',\n",
       "                                                  OneHotEncoder(),\n",
       "                                                  ['Dem_gender',\n",
       "                                                   'Dem_maritalstatus',\n",
       "                                                   'Dem_employment',\n",
       "                                                   'Dem_isolation'])])),\n",
       "                ('scaler', MinMaxScaler())])</pre></div></div></div><div class=\"sk-serial\"><div class=\"sk-item sk-dashed-wrapped\"><div class=\"sk-label-container\"><div class=\"sk-label sk-toggleable\"><input class=\"sk-toggleable__control sk-hidden--visually\" id=\"63012686-6582-432d-8235-573f4db5bf15\" type=\"checkbox\" ><label class=\"sk-toggleable__label\" for=\"63012686-6582-432d-8235-573f4db5bf15\">imputer: ColumnTransformer</label><div class=\"sk-toggleable__content\"><pre>ColumnTransformer(remainder='passthrough',\n",
       "                  transformers=[('edu',\n",
       "                                 FunctionTransformer(func=<function edu_func at 0x7fa76e707af0>),\n",
       "                                 ['Dem_edu']),\n",
       "                                ('edu_mom',\n",
       "                                 FunctionTransformer(func=<function edu_mom_func at 0x7fa76f65eaf0>),\n",
       "                                 ['Dem_edu_mom']),\n",
       "                                ('risk_group',\n",
       "                                 FunctionTransformer(func=<function risk_group_func at 0x7fa76f65eca0>),\n",
       "                                 ['Dem_riskgroup']),\n",
       "                                ('expat',\n",
       "                                 FunctionTransformer(func=<function expat_func at 0x7fa76f65ed30>),\n",
       "                                 ['Dem_Expat']),\n",
       "                                ('ohe_transformer', OneHotEncoder(),\n",
       "                                 ['Dem_gender', 'Dem_maritalstatus',\n",
       "                                  'Dem_employment', 'Dem_isolation'])])</pre></div></div></div><div class=\"sk-parallel\"><div class=\"sk-parallel-item\"><div class=\"sk-item\"><div class=\"sk-label-container\"><div class=\"sk-label sk-toggleable\"><input class=\"sk-toggleable__control sk-hidden--visually\" id=\"59bce58b-44c8-4af8-98d9-f5c2b64febc0\" type=\"checkbox\" ><label class=\"sk-toggleable__label\" for=\"59bce58b-44c8-4af8-98d9-f5c2b64febc0\">edu</label><div class=\"sk-toggleable__content\"><pre>['Dem_edu']</pre></div></div></div><div class=\"sk-serial\"><div class=\"sk-item\"><div class=\"sk-estimator sk-toggleable\"><input class=\"sk-toggleable__control sk-hidden--visually\" id=\"0cb9fd71-5889-4324-9e58-a62cca9b5f01\" type=\"checkbox\" ><label class=\"sk-toggleable__label\" for=\"0cb9fd71-5889-4324-9e58-a62cca9b5f01\">FunctionTransformer</label><div class=\"sk-toggleable__content\"><pre>FunctionTransformer(func=<function edu_func at 0x7fa76e707af0>)</pre></div></div></div></div></div></div><div class=\"sk-parallel-item\"><div class=\"sk-item\"><div class=\"sk-label-container\"><div class=\"sk-label sk-toggleable\"><input class=\"sk-toggleable__control sk-hidden--visually\" id=\"9fe78544-bf5e-4b35-a8fd-4f0aee5df4c4\" type=\"checkbox\" ><label class=\"sk-toggleable__label\" for=\"9fe78544-bf5e-4b35-a8fd-4f0aee5df4c4\">edu_mom</label><div class=\"sk-toggleable__content\"><pre>['Dem_edu_mom']</pre></div></div></div><div class=\"sk-serial\"><div class=\"sk-item\"><div class=\"sk-estimator sk-toggleable\"><input class=\"sk-toggleable__control sk-hidden--visually\" id=\"69162819-9153-4af2-b42c-d67bf2825c06\" type=\"checkbox\" ><label class=\"sk-toggleable__label\" for=\"69162819-9153-4af2-b42c-d67bf2825c06\">FunctionTransformer</label><div class=\"sk-toggleable__content\"><pre>FunctionTransformer(func=<function edu_mom_func at 0x7fa76f65eaf0>)</pre></div></div></div></div></div></div><div class=\"sk-parallel-item\"><div class=\"sk-item\"><div class=\"sk-label-container\"><div class=\"sk-label sk-toggleable\"><input class=\"sk-toggleable__control sk-hidden--visually\" id=\"75fe2cbb-5bf3-40b8-82ca-8985129bfa9e\" type=\"checkbox\" ><label class=\"sk-toggleable__label\" for=\"75fe2cbb-5bf3-40b8-82ca-8985129bfa9e\">risk_group</label><div class=\"sk-toggleable__content\"><pre>['Dem_riskgroup']</pre></div></div></div><div class=\"sk-serial\"><div class=\"sk-item\"><div class=\"sk-estimator sk-toggleable\"><input class=\"sk-toggleable__control sk-hidden--visually\" id=\"f1912afb-38fe-4339-8ca2-98d09fcbec72\" type=\"checkbox\" ><label class=\"sk-toggleable__label\" for=\"f1912afb-38fe-4339-8ca2-98d09fcbec72\">FunctionTransformer</label><div class=\"sk-toggleable__content\"><pre>FunctionTransformer(func=<function risk_group_func at 0x7fa76f65eca0>)</pre></div></div></div></div></div></div><div class=\"sk-parallel-item\"><div class=\"sk-item\"><div class=\"sk-label-container\"><div class=\"sk-label sk-toggleable\"><input class=\"sk-toggleable__control sk-hidden--visually\" id=\"ac54300c-1b1c-428a-affa-8ac002a6a669\" type=\"checkbox\" ><label class=\"sk-toggleable__label\" for=\"ac54300c-1b1c-428a-affa-8ac002a6a669\">expat</label><div class=\"sk-toggleable__content\"><pre>['Dem_Expat']</pre></div></div></div><div class=\"sk-serial\"><div class=\"sk-item\"><div class=\"sk-estimator sk-toggleable\"><input class=\"sk-toggleable__control sk-hidden--visually\" id=\"07751a9b-d102-44d6-a58d-1b879a1ae6a4\" type=\"checkbox\" ><label class=\"sk-toggleable__label\" for=\"07751a9b-d102-44d6-a58d-1b879a1ae6a4\">FunctionTransformer</label><div class=\"sk-toggleable__content\"><pre>FunctionTransformer(func=<function expat_func at 0x7fa76f65ed30>)</pre></div></div></div></div></div></div><div class=\"sk-parallel-item\"><div class=\"sk-item\"><div class=\"sk-label-container\"><div class=\"sk-label sk-toggleable\"><input class=\"sk-toggleable__control sk-hidden--visually\" id=\"b002204d-351c-46d1-960b-a424f77fd70f\" type=\"checkbox\" ><label class=\"sk-toggleable__label\" for=\"b002204d-351c-46d1-960b-a424f77fd70f\">ohe_transformer</label><div class=\"sk-toggleable__content\"><pre>['Dem_gender', 'Dem_maritalstatus', 'Dem_employment', 'Dem_isolation']</pre></div></div></div><div class=\"sk-serial\"><div class=\"sk-item\"><div class=\"sk-estimator sk-toggleable\"><input class=\"sk-toggleable__control sk-hidden--visually\" id=\"9092a54e-2d19-4668-9739-f288d33695f9\" type=\"checkbox\" ><label class=\"sk-toggleable__label\" for=\"9092a54e-2d19-4668-9739-f288d33695f9\">OneHotEncoder</label><div class=\"sk-toggleable__content\"><pre>OneHotEncoder()</pre></div></div></div></div></div></div><div class=\"sk-parallel-item\"><div class=\"sk-item\"><div class=\"sk-label-container\"><div class=\"sk-label sk-toggleable\"><input class=\"sk-toggleable__control sk-hidden--visually\" id=\"21cc30fd-d47d-483a-96f8-b1a1fdb16f43\" type=\"checkbox\" ><label class=\"sk-toggleable__label\" for=\"21cc30fd-d47d-483a-96f8-b1a1fdb16f43\">remainder</label><div class=\"sk-toggleable__content\"><pre>['BFF_15_1', 'BFF_15_2', 'BFF_15_3', 'BFF_15_4', 'BFF_15_5', 'BFF_15_6', 'BFF_15_7', 'BFF_15_8', 'BFF_15_9', 'BFF_15_10', 'BFF_15_11', 'BFF_15_12', 'BFF_15_13', 'BFF_15_14', 'BFF_15_15', 'Dem_age']</pre></div></div></div><div class=\"sk-serial\"><div class=\"sk-item\"><div class=\"sk-estimator sk-toggleable\"><input class=\"sk-toggleable__control sk-hidden--visually\" id=\"22a8b1bc-fa7f-4a59-bdc8-0b59a63100af\" type=\"checkbox\" ><label class=\"sk-toggleable__label\" for=\"22a8b1bc-fa7f-4a59-bdc8-0b59a63100af\">passthrough</label><div class=\"sk-toggleable__content\"><pre>passthrough</pre></div></div></div></div></div></div></div></div><div class=\"sk-item\"><div class=\"sk-estimator sk-toggleable\"><input class=\"sk-toggleable__control sk-hidden--visually\" id=\"37a5aac5-edcc-4328-b4d5-92e6b956d2cc\" type=\"checkbox\" ><label class=\"sk-toggleable__label\" for=\"37a5aac5-edcc-4328-b4d5-92e6b956d2cc\">MinMaxScaler</label><div class=\"sk-toggleable__content\"><pre>MinMaxScaler()</pre></div></div></div></div></div><div class=\"sk-item\"><div class=\"sk-estimator sk-toggleable\"><input class=\"sk-toggleable__control sk-hidden--visually\" id=\"85307e49-2a19-4b1f-a43f-43b7dcc09bc4\" type=\"checkbox\" ><label class=\"sk-toggleable__label\" for=\"85307e49-2a19-4b1f-a43f-43b7dcc09bc4\">LinearRegression</label><div class=\"sk-toggleable__content\"><pre>LinearRegression()</pre></div></div></div></div></div></div></div>"
      ],
      "text/plain": [
       "Pipeline(steps=[('preprocessing',\n",
       "                 Pipeline(steps=[('imputer',\n",
       "                                  ColumnTransformer(remainder='passthrough',\n",
       "                                                    transformers=[('edu',\n",
       "                                                                   FunctionTransformer(func=<function edu_func at 0x7fa76e707af0>),\n",
       "                                                                   ['Dem_edu']),\n",
       "                                                                  ('edu_mom',\n",
       "                                                                   FunctionTransformer(func=<function edu_mom_func at 0x7fa76f65eaf0>),\n",
       "                                                                   ['Dem_edu_mom']),\n",
       "                                                                  ('risk_group',\n",
       "                                                                   FunctionTransformer(func=<function risk_group_func at 0x7fa76f65eca0>),\n",
       "                                                                   ['Dem_riskgroup']),\n",
       "                                                                  ('expat',\n",
       "                                                                   FunctionTransformer(func=<function expat_func at 0x7fa76f65ed30>),\n",
       "                                                                   ['Dem_Expat']),\n",
       "                                                                  ('ohe_transformer',\n",
       "                                                                   OneHotEncoder(),\n",
       "                                                                   ['Dem_gender',\n",
       "                                                                    'Dem_maritalstatus',\n",
       "                                                                    'Dem_employment',\n",
       "                                                                    'Dem_isolation'])])),\n",
       "                                 ('scaler', MinMaxScaler())])),\n",
       "                ('linear_regression', LinearRegression())])"
      ]
     },
     "execution_count": 6,
     "metadata": {},
     "output_type": "execute_result"
    }
   ],
   "source": [
    "stress_pipe.fit(X,y)"
   ]
  },
  {
   "cell_type": "code",
   "execution_count": 7,
   "id": "f5dc4d75",
   "metadata": {},
   "outputs": [
    {
     "data": {
      "text/plain": [
       "{'memory': None,\n",
       " 'steps': [('preprocessing', Pipeline(steps=[('imputer',\n",
       "                    ColumnTransformer(remainder='passthrough',\n",
       "                                      transformers=[('edu',\n",
       "                                                     FunctionTransformer(func=<function edu_func at 0x7fa76e707af0>),\n",
       "                                                     ['Dem_edu']),\n",
       "                                                    ('edu_mom',\n",
       "                                                     FunctionTransformer(func=<function edu_mom_func at 0x7fa76f65eaf0>),\n",
       "                                                     ['Dem_edu_mom']),\n",
       "                                                    ('risk_group',\n",
       "                                                     FunctionTransformer(func=<function risk_group_func at 0x7fa76f65eca0>),\n",
       "                                                     ['Dem_riskgroup']),\n",
       "                                                    ('expat',\n",
       "                                                     FunctionTransformer(func=<function expat_func at 0x7fa76f65ed30>),\n",
       "                                                     ['Dem_Expat']),\n",
       "                                                    ('ohe_transformer',\n",
       "                                                     OneHotEncoder(),\n",
       "                                                     ['Dem_gender',\n",
       "                                                      'Dem_maritalstatus',\n",
       "                                                      'Dem_employment',\n",
       "                                                      'Dem_isolation'])])),\n",
       "                   ('scaler', MinMaxScaler())])),\n",
       "  ('linear_regression', LinearRegression())],\n",
       " 'verbose': False,\n",
       " 'preprocessing': Pipeline(steps=[('imputer',\n",
       "                  ColumnTransformer(remainder='passthrough',\n",
       "                                    transformers=[('edu',\n",
       "                                                   FunctionTransformer(func=<function edu_func at 0x7fa76e707af0>),\n",
       "                                                   ['Dem_edu']),\n",
       "                                                  ('edu_mom',\n",
       "                                                   FunctionTransformer(func=<function edu_mom_func at 0x7fa76f65eaf0>),\n",
       "                                                   ['Dem_edu_mom']),\n",
       "                                                  ('risk_group',\n",
       "                                                   FunctionTransformer(func=<function risk_group_func at 0x7fa76f65eca0>),\n",
       "                                                   ['Dem_riskgroup']),\n",
       "                                                  ('expat',\n",
       "                                                   FunctionTransformer(func=<function expat_func at 0x7fa76f65ed30>),\n",
       "                                                   ['Dem_Expat']),\n",
       "                                                  ('ohe_transformer',\n",
       "                                                   OneHotEncoder(),\n",
       "                                                   ['Dem_gender',\n",
       "                                                    'Dem_maritalstatus',\n",
       "                                                    'Dem_employment',\n",
       "                                                    'Dem_isolation'])])),\n",
       "                 ('scaler', MinMaxScaler())]),\n",
       " 'linear_regression': LinearRegression(),\n",
       " 'preprocessing__memory': None,\n",
       " 'preprocessing__steps': [('imputer',\n",
       "   ColumnTransformer(remainder='passthrough',\n",
       "                     transformers=[('edu',\n",
       "                                    FunctionTransformer(func=<function edu_func at 0x7fa76e707af0>),\n",
       "                                    ['Dem_edu']),\n",
       "                                   ('edu_mom',\n",
       "                                    FunctionTransformer(func=<function edu_mom_func at 0x7fa76f65eaf0>),\n",
       "                                    ['Dem_edu_mom']),\n",
       "                                   ('risk_group',\n",
       "                                    FunctionTransformer(func=<function risk_group_func at 0x7fa76f65eca0>),\n",
       "                                    ['Dem_riskgroup']),\n",
       "                                   ('expat',\n",
       "                                    FunctionTransformer(func=<function expat_func at 0x7fa76f65ed30>),\n",
       "                                    ['Dem_Expat']),\n",
       "                                   ('ohe_transformer', OneHotEncoder(),\n",
       "                                    ['Dem_gender', 'Dem_maritalstatus',\n",
       "                                     'Dem_employment', 'Dem_isolation'])])),\n",
       "  ('scaler', MinMaxScaler())],\n",
       " 'preprocessing__verbose': False,\n",
       " 'preprocessing__imputer': ColumnTransformer(remainder='passthrough',\n",
       "                   transformers=[('edu',\n",
       "                                  FunctionTransformer(func=<function edu_func at 0x7fa76e707af0>),\n",
       "                                  ['Dem_edu']),\n",
       "                                 ('edu_mom',\n",
       "                                  FunctionTransformer(func=<function edu_mom_func at 0x7fa76f65eaf0>),\n",
       "                                  ['Dem_edu_mom']),\n",
       "                                 ('risk_group',\n",
       "                                  FunctionTransformer(func=<function risk_group_func at 0x7fa76f65eca0>),\n",
       "                                  ['Dem_riskgroup']),\n",
       "                                 ('expat',\n",
       "                                  FunctionTransformer(func=<function expat_func at 0x7fa76f65ed30>),\n",
       "                                  ['Dem_Expat']),\n",
       "                                 ('ohe_transformer', OneHotEncoder(),\n",
       "                                  ['Dem_gender', 'Dem_maritalstatus',\n",
       "                                   'Dem_employment', 'Dem_isolation'])]),\n",
       " 'preprocessing__scaler': MinMaxScaler(),\n",
       " 'preprocessing__imputer__n_jobs': None,\n",
       " 'preprocessing__imputer__remainder': 'passthrough',\n",
       " 'preprocessing__imputer__sparse_threshold': 0.3,\n",
       " 'preprocessing__imputer__transformer_weights': None,\n",
       " 'preprocessing__imputer__transformers': [('edu',\n",
       "   FunctionTransformer(func=<function edu_func at 0x7fa76e707af0>),\n",
       "   ['Dem_edu']),\n",
       "  ('edu_mom',\n",
       "   FunctionTransformer(func=<function edu_mom_func at 0x7fa76f65eaf0>),\n",
       "   ['Dem_edu_mom']),\n",
       "  ('risk_group',\n",
       "   FunctionTransformer(func=<function risk_group_func at 0x7fa76f65eca0>),\n",
       "   ['Dem_riskgroup']),\n",
       "  ('expat',\n",
       "   FunctionTransformer(func=<function expat_func at 0x7fa76f65ed30>),\n",
       "   ['Dem_Expat']),\n",
       "  ('ohe_transformer',\n",
       "   OneHotEncoder(),\n",
       "   ['Dem_gender', 'Dem_maritalstatus', 'Dem_employment', 'Dem_isolation'])],\n",
       " 'preprocessing__imputer__verbose': False,\n",
       " 'preprocessing__imputer__edu': FunctionTransformer(func=<function edu_func at 0x7fa76e707af0>),\n",
       " 'preprocessing__imputer__edu_mom': FunctionTransformer(func=<function edu_mom_func at 0x7fa76f65eaf0>),\n",
       " 'preprocessing__imputer__risk_group': FunctionTransformer(func=<function risk_group_func at 0x7fa76f65eca0>),\n",
       " 'preprocessing__imputer__expat': FunctionTransformer(func=<function expat_func at 0x7fa76f65ed30>),\n",
       " 'preprocessing__imputer__ohe_transformer': OneHotEncoder(),\n",
       " 'preprocessing__imputer__edu__accept_sparse': False,\n",
       " 'preprocessing__imputer__edu__check_inverse': True,\n",
       " 'preprocessing__imputer__edu__func': <function __main__.edu_func(df)>,\n",
       " 'preprocessing__imputer__edu__inv_kw_args': None,\n",
       " 'preprocessing__imputer__edu__inverse_func': None,\n",
       " 'preprocessing__imputer__edu__kw_args': None,\n",
       " 'preprocessing__imputer__edu__validate': False,\n",
       " 'preprocessing__imputer__edu_mom__accept_sparse': False,\n",
       " 'preprocessing__imputer__edu_mom__check_inverse': True,\n",
       " 'preprocessing__imputer__edu_mom__func': <function __main__.edu_mom_func(df)>,\n",
       " 'preprocessing__imputer__edu_mom__inv_kw_args': None,\n",
       " 'preprocessing__imputer__edu_mom__inverse_func': None,\n",
       " 'preprocessing__imputer__edu_mom__kw_args': None,\n",
       " 'preprocessing__imputer__edu_mom__validate': False,\n",
       " 'preprocessing__imputer__risk_group__accept_sparse': False,\n",
       " 'preprocessing__imputer__risk_group__check_inverse': True,\n",
       " 'preprocessing__imputer__risk_group__func': <function __main__.risk_group_func(df)>,\n",
       " 'preprocessing__imputer__risk_group__inv_kw_args': None,\n",
       " 'preprocessing__imputer__risk_group__inverse_func': None,\n",
       " 'preprocessing__imputer__risk_group__kw_args': None,\n",
       " 'preprocessing__imputer__risk_group__validate': False,\n",
       " 'preprocessing__imputer__expat__accept_sparse': False,\n",
       " 'preprocessing__imputer__expat__check_inverse': True,\n",
       " 'preprocessing__imputer__expat__func': <function __main__.expat_func(df)>,\n",
       " 'preprocessing__imputer__expat__inv_kw_args': None,\n",
       " 'preprocessing__imputer__expat__inverse_func': None,\n",
       " 'preprocessing__imputer__expat__kw_args': None,\n",
       " 'preprocessing__imputer__expat__validate': False,\n",
       " 'preprocessing__imputer__ohe_transformer__categories': 'auto',\n",
       " 'preprocessing__imputer__ohe_transformer__drop': None,\n",
       " 'preprocessing__imputer__ohe_transformer__dtype': numpy.float64,\n",
       " 'preprocessing__imputer__ohe_transformer__handle_unknown': 'error',\n",
       " 'preprocessing__imputer__ohe_transformer__sparse': True,\n",
       " 'preprocessing__scaler__clip': False,\n",
       " 'preprocessing__scaler__copy': True,\n",
       " 'preprocessing__scaler__feature_range': (0, 1),\n",
       " 'linear_regression__copy_X': True,\n",
       " 'linear_regression__fit_intercept': True,\n",
       " 'linear_regression__n_jobs': None,\n",
       " 'linear_regression__normalize': False,\n",
       " 'linear_regression__positive': False}"
      ]
     },
     "execution_count": 7,
     "metadata": {},
     "output_type": "execute_result"
    }
   ],
   "source": [
    "stress_pipe.get_params()"
   ]
  },
  {
   "cell_type": "code",
   "execution_count": 8,
   "id": "5954259f",
   "metadata": {},
   "outputs": [
    {
     "data": {
      "text/plain": [
       "['model_linear_stress_3.joblib']"
      ]
     },
     "execution_count": 8,
     "metadata": {},
     "output_type": "execute_result"
    }
   ],
   "source": [
    "import joblib \n",
    "joblib.dump(stress_pipe, 'model_linear_stress_3.joblib')"
   ]
  },
  {
   "cell_type": "code",
   "execution_count": 12,
   "id": "f4f17578",
   "metadata": {},
   "outputs": [],
   "source": [
    "import pickle\n",
    "# Export pipeline as pickle file\n",
    "with open(\"stress_pipeline.pkl\", \"wb\") as file:\n",
    "    pickle.dump(stress_pipe, file)"
   ]
  },
  {
   "cell_type": "markdown",
   "id": "79f8525e",
   "metadata": {},
   "source": [
    "# Method 2"
   ]
  },
  {
   "cell_type": "code",
   "execution_count": 15,
   "id": "c7f15be2",
   "metadata": {},
   "outputs": [],
   "source": [
    "from sklearn.base import TransformerMixin\n",
    "from sklearn.base import BaseEstimator"
   ]
  },
  {
   "cell_type": "code",
   "execution_count": 14,
   "id": "109d96e8",
   "metadata": {},
   "outputs": [
    {
     "ename": "SyntaxError",
     "evalue": "unexpected EOF while parsing (<ipython-input-14-0a01012991f3>, line 1)",
     "output_type": "error",
     "traceback": [
      "\u001b[0;36m  File \u001b[0;32m\"<ipython-input-14-0a01012991f3>\"\u001b[0;36m, line \u001b[0;32m1\u001b[0m\n\u001b[0;31m    class ColumnEdu(TransformerMixin, BaseEstimator):\u001b[0m\n\u001b[0m                                                     ^\u001b[0m\n\u001b[0;31mSyntaxError\u001b[0m\u001b[0;31m:\u001b[0m unexpected EOF while parsing\n"
     ]
    }
   ],
   "source": [
    "class ColumnEdu(TransformerMixin, BaseEstimator):\n",
    "    def __init(self, column_1):\n",
    "        self.column_1 = column_1\n",
    "        \n",
    "    def fit(self, X, y=None):\n",
    "        return self\n",
    "    \n",
    "    def transform(self, )"
   ]
  },
  {
   "cell_type": "code",
   "execution_count": null,
   "id": "8636ae09",
   "metadata": {},
   "outputs": [],
   "source": []
  }
 ],
 "metadata": {
  "kernelspec": {
   "display_name": "Python 3",
   "language": "python",
   "name": "python3"
  },
  "language_info": {
   "codemirror_mode": {
    "name": "ipython",
    "version": 3
   },
   "file_extension": ".py",
   "mimetype": "text/x-python",
   "name": "python",
   "nbconvert_exporter": "python",
   "pygments_lexer": "ipython3",
   "version": "3.8.6"
  },
  "toc": {
   "base_numbering": 1,
   "nav_menu": {},
   "number_sections": true,
   "sideBar": true,
   "skip_h1_title": false,
   "title_cell": "Table of Contents",
   "title_sidebar": "Contents",
   "toc_cell": false,
   "toc_position": {},
   "toc_section_display": true,
   "toc_window_display": false
  }
 },
 "nbformat": 4,
 "nbformat_minor": 5
}
