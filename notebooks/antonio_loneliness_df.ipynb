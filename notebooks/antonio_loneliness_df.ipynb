{
 "cells": [
  {
   "cell_type": "code",
   "execution_count": 68,
   "id": "592e9b11",
   "metadata": {},
   "outputs": [],
   "source": [
    "import pandas as pd\n",
    "import matplotlib.pyplot as plt\n",
    "import seaborn as sns\n",
    "%matplotlib inline"
   ]
  },
  {
   "cell_type": "code",
   "execution_count": 2,
   "id": "5a5e8a19",
   "metadata": {},
   "outputs": [],
   "source": [
    "df = pd.read_csv('../raw_data/cleaned_data_040321.csv',index_col=0)"
   ]
  },
  {
   "cell_type": "code",
   "execution_count": 6,
   "id": "6d0c9fe1",
   "metadata": {},
   "outputs": [
    {
     "name": "stdout",
     "output_type": "stream",
     "text": [
      "\"UserLanguage\",\"Dem_age\",\"Dem_gender\",\"Dem_edu\",\"Dem_edu_mom\",\"Dem_employment\",\"Country\",\"Dem_Expat\",\"Dem_maritalstatus\",\"Dem_dependents\",\"Dem_riskgroup\",\"Dem_isolation\",\"Dem_isolation_adults\",\"Dem_isolation_kids\",\"Scale_PSS10_UCLA_1\",\"Scale_PSS10_UCLA_2\",\"Scale_PSS10_UCLA_3\",\"Scale_PSS10_UCLA_4\",\"Scale_PSS10_UCLA_5\",\"Scale_PSS10_UCLA_6\",\"Scale_PSS10_UCLA_7\",\"Scale_PSS10_UCLA_8\",\"Scale_PSS10_UCLA_9\",\"Scale_PSS10_UCLA_10\",\"Scale_SLON_1\",\"Scale_SLON_2\",\"Scale_SLON_3\",\"OECD_people_1\",\"OECD_people_2\",\"OECD_insititutions_1\",\"OECD_insititutions_2\",\"OECD_insititutions_3\",\"OECD_insititutions_4\",\"OECD_insititutions_5\",\"OECD_insititutions_6\",\"Corona_concerns_1\",\"Corona_concerns_2\",\"Corona_concerns_3\",\"Corona_concerns_4\",\"Corona_concerns_5\",\"Trust_countrymeasure\",\"Compliance_1\",\"Compliance_2\",\"Compliance_3\",\"Compliance_4\",\"Compliance_5\",\"Compliance_6\",\"BFF_15_1\",\"BFF_15_2\",\"BFF_15_3\",\"BFF_15_4\",\"BFF_15_5\",\"BFF_15_6\",\"BFF_15_7\",\"BFF_15_8\",\"BFF_15_9\",\"BFF_15_10\",\"BFF_15_11\",\"BFF_15_12\",\"BFF_15_13\",\"BFF_15_14\",\"BFF_15_15\",\"Expl_Distress_1\",\"Expl_Distress_2\",\"Expl_Distress_3\",\"Expl_Distress_4\",\"Expl_Distress_5\",\"Expl_Distress_6\",\"Expl_Distress_7\",\"Expl_Distress_8\",\"Expl_Distress_9\",\"Expl_Distress_10\",\"Expl_Distress_11\",\"Expl_Distress_12\",\"Expl_Distress_13\",\"Expl_Distress_14\",\"Expl_Distress_15\",\"Expl_Distress_16\",\"Expl_Distress_17\",\"Expl_Distress_18\",\"Expl_Distress_19\",\"Expl_Distress_20\",\"Expl_Distress_21\",\"Expl_Distress_22\",\"Expl_Distress_23\",\"Expl_Distress_24\",\"SPS_1\",\"SPS_2\",\"SPS_3\",\"SPS_4\",\"SPS_5\",\"SPS_6\",\"SPS_7\",\"SPS_8\",\"SPS_9\",\"SPS_10\",\"Expl_Coping_1\",\"Expl_Coping_2\",\"Expl_Coping_3\",\"Expl_Coping_5\",\"Expl_Coping_6\",\"Expl_Coping_7\",\"Expl_Coping_8\",\"Expl_Coping_9\",\"Expl_Coping_10\",\"Expl_Coping_11\",\"Expl_Coping_12\",\"Expl_Coping_13\",\"Expl_Coping_14\",\"Expl_Coping_15\",\"Expl_Coping_16\",\"Expl_media_1\",\"Expl_media_2\",\"Expl_media_3\",\"Expl_media_4\",\"Expl_media_5\",\"Expl_media_6\",\"PSS10_avg\",\"SLON3_avg\",\"neu\",\"ext\",\"ope\",\"agr\",\"con\",\"SPS_avg\","
     ]
    }
   ],
   "source": [
    "for i in df.columns:\n",
    "    print(f'\"{i}\",', end='')"
   ]
  },
  {
   "cell_type": "code",
   "execution_count": 7,
   "id": "fa692001",
   "metadata": {},
   "outputs": [],
   "source": [
    "df_loneliness = df.groupby(['Country']).mean().reset_index()\n",
    "df_loneliness_country = df_loneliness[['SLON3_avg', 'Country']].sort_values(\n",
    "    by='SLON3_avg', ascending=True)"
   ]
  },
  {
   "cell_type": "code",
   "execution_count": 9,
   "id": "c760569c",
   "metadata": {},
   "outputs": [
    {
     "data": {
      "text/plain": [
       "array(['Taiwan', 'Panama', 'Denmark', 'Kosovo', 'Indonesia', 'France',\n",
       "       'Korea, South', 'Japan', 'Malaysia', 'Switzerland', 'Netherlands',\n",
       "       'Mexico', 'Greece', 'Ireland', 'Spain', 'Sweden', 'Lithuania',\n",
       "       'Portugal', 'Belgium', 'Argentina', 'Finland', 'Pakistan',\n",
       "       'United States', 'United Kingdom', 'Germany', 'Canada', 'Bulgaria',\n",
       "       'Philippines', 'Australia', 'Serbia', 'Hungary', 'Austria',\n",
       "       'Italy', 'Brazil', 'Turkey', 'Bangladesh', 'Romania', 'Croatia',\n",
       "       'Bosnia and Herzegovina', 'Czech Republic', 'Slovakia', 'Poland'],\n",
       "      dtype=object)"
      ]
     },
     "execution_count": 9,
     "metadata": {},
     "output_type": "execute_result"
    }
   ],
   "source": [
    "df_loneliness_country.Country.unique()"
   ]
  },
  {
   "cell_type": "code",
   "execution_count": 10,
   "id": "1475f0b3",
   "metadata": {},
   "outputs": [],
   "source": [
    "df_loneliness_country = df_loneliness_country.replace({'Counrt':'Bosnia and Herzegovina'},'B&H')"
   ]
  },
  {
   "cell_type": "code",
   "execution_count": 6,
   "id": "fe8766f9",
   "metadata": {},
   "outputs": [
    {
     "data": {
      "text/html": [
       "<div>\n",
       "<style scoped>\n",
       "    .dataframe tbody tr th:only-of-type {\n",
       "        vertical-align: middle;\n",
       "    }\n",
       "\n",
       "    .dataframe tbody tr th {\n",
       "        vertical-align: top;\n",
       "    }\n",
       "\n",
       "    .dataframe thead th {\n",
       "        text-align: right;\n",
       "    }\n",
       "</style>\n",
       "<table border=\"1\" class=\"dataframe\">\n",
       "  <thead>\n",
       "    <tr style=\"text-align: right;\">\n",
       "      <th></th>\n",
       "      <th>Dem_gender</th>\n",
       "      <th>SLON3_avg</th>\n",
       "    </tr>\n",
       "  </thead>\n",
       "  <tbody>\n",
       "    <tr>\n",
       "      <th>1</th>\n",
       "      <td>Male</td>\n",
       "      <td>2.333333</td>\n",
       "    </tr>\n",
       "    <tr>\n",
       "      <th>5</th>\n",
       "      <td>Male</td>\n",
       "      <td>2.333333</td>\n",
       "    </tr>\n",
       "    <tr>\n",
       "      <th>6</th>\n",
       "      <td>Other/would rather not say</td>\n",
       "      <td>2.666667</td>\n",
       "    </tr>\n",
       "    <tr>\n",
       "      <th>7</th>\n",
       "      <td>Female</td>\n",
       "      <td>2.666667</td>\n",
       "    </tr>\n",
       "    <tr>\n",
       "      <th>11</th>\n",
       "      <td>Female</td>\n",
       "      <td>2.666667</td>\n",
       "    </tr>\n",
       "    <tr>\n",
       "      <th>...</th>\n",
       "      <td>...</td>\n",
       "      <td>...</td>\n",
       "    </tr>\n",
       "    <tr>\n",
       "      <th>125295</th>\n",
       "      <td>Male</td>\n",
       "      <td>1.000000</td>\n",
       "    </tr>\n",
       "    <tr>\n",
       "      <th>125296</th>\n",
       "      <td>Male</td>\n",
       "      <td>2.333333</td>\n",
       "    </tr>\n",
       "    <tr>\n",
       "      <th>125299</th>\n",
       "      <td>Male</td>\n",
       "      <td>2.333333</td>\n",
       "    </tr>\n",
       "    <tr>\n",
       "      <th>125301</th>\n",
       "      <td>Male</td>\n",
       "      <td>1.333333</td>\n",
       "    </tr>\n",
       "    <tr>\n",
       "      <th>125304</th>\n",
       "      <td>Male</td>\n",
       "      <td>1.666667</td>\n",
       "    </tr>\n",
       "  </tbody>\n",
       "</table>\n",
       "<p>85489 rows × 2 columns</p>\n",
       "</div>"
      ],
      "text/plain": [
       "                        Dem_gender  SLON3_avg\n",
       "1                             Male   2.333333\n",
       "5                             Male   2.333333\n",
       "6       Other/would rather not say   2.666667\n",
       "7                           Female   2.666667\n",
       "11                          Female   2.666667\n",
       "...                            ...        ...\n",
       "125295                        Male   1.000000\n",
       "125296                        Male   2.333333\n",
       "125299                        Male   2.333333\n",
       "125301                        Male   1.333333\n",
       "125304                        Male   1.666667\n",
       "\n",
       "[85489 rows x 2 columns]"
      ]
     },
     "execution_count": 6,
     "metadata": {},
     "output_type": "execute_result"
    }
   ],
   "source": [
    "df[['Dem_gender', 'SLON3_avg']]"
   ]
  },
  {
   "cell_type": "code",
   "execution_count": 79,
   "id": "5bc66383",
   "metadata": {},
   "outputs": [
    {
     "data": {
      "text/plain": [
       "Dem_gender\n",
       "Female                        2.619668\n",
       "Male                          2.399034\n",
       "Other/would rather not say    2.856000\n",
       "Name: SLON3_avg, dtype: float64"
      ]
     },
     "execution_count": 79,
     "metadata": {},
     "output_type": "execute_result"
    }
   ],
   "source": [
    "df.groupby('Dem_gender')['SLON3_avg'].mean()"
   ]
  },
  {
   "cell_type": "code",
   "execution_count": 54,
   "id": "67dfd920",
   "metadata": {},
   "outputs": [
    {
     "data": {
      "text/plain": [
       "<BarContainer object of 3 artists>"
      ]
     },
     "execution_count": 54,
     "metadata": {},
     "output_type": "execute_result"
    },
    {
     "data": {
      "image/png": "[encoded data removed]",
      "text/plain": [
       "<Figure size 432x288 with 1 Axes>"
      ]
     },
     "metadata": {
      "needs_background": "light"
     },
     "output_type": "display_data"
    }
   ],
   "source": [
    "plt.bar(df['Dem_gender'].unique(), df.groupby('Dem_gender')['SLON3_avg'].mean())"
   ]
  },
  {
   "cell_type": "code",
   "execution_count": 58,
   "id": "85bcaf10",
   "metadata": {},
   "outputs": [
    {
     "data": {
      "text/html": [
       "<div>\n",
       "<style scoped>\n",
       "    .dataframe tbody tr th:only-of-type {\n",
       "        vertical-align: middle;\n",
       "    }\n",
       "\n",
       "    .dataframe tbody tr th {\n",
       "        vertical-align: top;\n",
       "    }\n",
       "\n",
       "    .dataframe thead th {\n",
       "        text-align: right;\n",
       "    }\n",
       "</style>\n",
       "<table border=\"1\" class=\"dataframe\">\n",
       "  <thead>\n",
       "    <tr style=\"text-align: right;\">\n",
       "      <th></th>\n",
       "      <th>Country</th>\n",
       "      <th>Dem_gender</th>\n",
       "      <th>SLON3_avg</th>\n",
       "    </tr>\n",
       "  </thead>\n",
       "  <tbody>\n",
       "    <tr>\n",
       "      <th>0</th>\n",
       "      <td>Argentina</td>\n",
       "      <td>Female</td>\n",
       "      <td>2.664983</td>\n",
       "    </tr>\n",
       "    <tr>\n",
       "      <th>1</th>\n",
       "      <td>Argentina</td>\n",
       "      <td>Male</td>\n",
       "      <td>2.483946</td>\n",
       "    </tr>\n",
       "    <tr>\n",
       "      <th>2</th>\n",
       "      <td>Argentina</td>\n",
       "      <td>Other/would rather not say</td>\n",
       "      <td>2.843137</td>\n",
       "    </tr>\n",
       "    <tr>\n",
       "      <th>3</th>\n",
       "      <td>Australia</td>\n",
       "      <td>Female</td>\n",
       "      <td>2.815412</td>\n",
       "    </tr>\n",
       "    <tr>\n",
       "      <th>4</th>\n",
       "      <td>Australia</td>\n",
       "      <td>Male</td>\n",
       "      <td>2.491228</td>\n",
       "    </tr>\n",
       "    <tr>\n",
       "      <th>...</th>\n",
       "      <td>...</td>\n",
       "      <td>...</td>\n",
       "      <td>...</td>\n",
       "    </tr>\n",
       "    <tr>\n",
       "      <th>117</th>\n",
       "      <td>United Kingdom</td>\n",
       "      <td>Male</td>\n",
       "      <td>2.531714</td>\n",
       "    </tr>\n",
       "    <tr>\n",
       "      <th>118</th>\n",
       "      <td>United Kingdom</td>\n",
       "      <td>Other/would rather not say</td>\n",
       "      <td>2.809524</td>\n",
       "    </tr>\n",
       "    <tr>\n",
       "      <th>119</th>\n",
       "      <td>United States</td>\n",
       "      <td>Female</td>\n",
       "      <td>2.698094</td>\n",
       "    </tr>\n",
       "    <tr>\n",
       "      <th>120</th>\n",
       "      <td>United States</td>\n",
       "      <td>Male</td>\n",
       "      <td>2.532015</td>\n",
       "    </tr>\n",
       "    <tr>\n",
       "      <th>121</th>\n",
       "      <td>United States</td>\n",
       "      <td>Other/would rather not say</td>\n",
       "      <td>3.152778</td>\n",
       "    </tr>\n",
       "  </tbody>\n",
       "</table>\n",
       "<p>122 rows × 3 columns</p>\n",
       "</div>"
      ],
      "text/plain": [
       "            Country                  Dem_gender  SLON3_avg\n",
       "0         Argentina                      Female   2.664983\n",
       "1         Argentina                        Male   2.483946\n",
       "2         Argentina  Other/would rather not say   2.843137\n",
       "3         Australia                      Female   2.815412\n",
       "4         Australia                        Male   2.491228\n",
       "..              ...                         ...        ...\n",
       "117  United Kingdom                        Male   2.531714\n",
       "118  United Kingdom  Other/would rather not say   2.809524\n",
       "119   United States                      Female   2.698094\n",
       "120   United States                        Male   2.532015\n",
       "121   United States  Other/would rather not say   3.152778\n",
       "\n",
       "[122 rows x 3 columns]"
      ]
     },
     "execution_count": 58,
     "metadata": {},
     "output_type": "execute_result"
    }
   ],
   "source": [
    "df_2 = pd.DataFrame(df.groupby(['Country', 'Dem_gender'])['SLON3_avg'].mean()).reset_index()\n",
    "df_2"
   ]
  },
  {
   "cell_type": "code",
   "execution_count": 74,
   "id": "da16ab03",
   "metadata": {},
   "outputs": [
    {
     "data": {
      "text/html": [
       "<div>\n",
       "<style scoped>\n",
       "    .dataframe tbody tr th:only-of-type {\n",
       "        vertical-align: middle;\n",
       "    }\n",
       "\n",
       "    .dataframe tbody tr th {\n",
       "        vertical-align: top;\n",
       "    }\n",
       "\n",
       "    .dataframe thead th {\n",
       "        text-align: right;\n",
       "    }\n",
       "</style>\n",
       "<table border=\"1\" class=\"dataframe\">\n",
       "  <thead>\n",
       "    <tr style=\"text-align: right;\">\n",
       "      <th></th>\n",
       "      <th>Country</th>\n",
       "      <th>Dem_gender</th>\n",
       "      <th>SLON3_avg</th>\n",
       "    </tr>\n",
       "  </thead>\n",
       "  <tbody>\n",
       "    <tr>\n",
       "      <th>0</th>\n",
       "      <td>Argentina</td>\n",
       "      <td>Female</td>\n",
       "      <td>2.664983</td>\n",
       "    </tr>\n",
       "    <tr>\n",
       "      <th>1</th>\n",
       "      <td>Argentina</td>\n",
       "      <td>Male</td>\n",
       "      <td>2.483946</td>\n",
       "    </tr>\n",
       "    <tr>\n",
       "      <th>3</th>\n",
       "      <td>Australia</td>\n",
       "      <td>Female</td>\n",
       "      <td>2.815412</td>\n",
       "    </tr>\n",
       "    <tr>\n",
       "      <th>4</th>\n",
       "      <td>Australia</td>\n",
       "      <td>Male</td>\n",
       "      <td>2.491228</td>\n",
       "    </tr>\n",
       "    <tr>\n",
       "      <th>6</th>\n",
       "      <td>Austria</td>\n",
       "      <td>Female</td>\n",
       "      <td>2.878995</td>\n",
       "    </tr>\n",
       "    <tr>\n",
       "      <th>...</th>\n",
       "      <td>...</td>\n",
       "      <td>...</td>\n",
       "      <td>...</td>\n",
       "    </tr>\n",
       "    <tr>\n",
       "      <th>114</th>\n",
       "      <td>Turkey</td>\n",
       "      <td>Male</td>\n",
       "      <td>2.711240</td>\n",
       "    </tr>\n",
       "    <tr>\n",
       "      <th>116</th>\n",
       "      <td>United Kingdom</td>\n",
       "      <td>Female</td>\n",
       "      <td>2.725612</td>\n",
       "    </tr>\n",
       "    <tr>\n",
       "      <th>117</th>\n",
       "      <td>United Kingdom</td>\n",
       "      <td>Male</td>\n",
       "      <td>2.531714</td>\n",
       "    </tr>\n",
       "    <tr>\n",
       "      <th>119</th>\n",
       "      <td>United States</td>\n",
       "      <td>Female</td>\n",
       "      <td>2.698094</td>\n",
       "    </tr>\n",
       "    <tr>\n",
       "      <th>120</th>\n",
       "      <td>United States</td>\n",
       "      <td>Male</td>\n",
       "      <td>2.532015</td>\n",
       "    </tr>\n",
       "  </tbody>\n",
       "</table>\n",
       "<p>84 rows × 3 columns</p>\n",
       "</div>"
      ],
      "text/plain": [
       "            Country Dem_gender  SLON3_avg\n",
       "0         Argentina     Female   2.664983\n",
       "1         Argentina       Male   2.483946\n",
       "3         Australia     Female   2.815412\n",
       "4         Australia       Male   2.491228\n",
       "6           Austria     Female   2.878995\n",
       "..              ...        ...        ...\n",
       "114          Turkey       Male   2.711240\n",
       "116  United Kingdom     Female   2.725612\n",
       "117  United Kingdom       Male   2.531714\n",
       "119   United States     Female   2.698094\n",
       "120   United States       Male   2.532015\n",
       "\n",
       "[84 rows x 3 columns]"
      ]
     },
     "execution_count": 74,
     "metadata": {},
     "output_type": "execute_result"
    }
   ],
   "source": [
    "df_3 = df_2[df_2['Dem_gender'] != 'Other/would rather not say']\n",
    "df_3"
   ]
  },
  {
   "cell_type": "code",
   "execution_count": 77,
   "id": "2f66872c",
   "metadata": {},
   "outputs": [
    {
     "data": {
      "image/png": "[encoded data removed]",
      "text/plain": [
       "<Figure size 1152x432 with 1 Axes>"
      ]
     },
     "metadata": {
      "needs_background": "light"
     },
     "output_type": "display_data"
    }
   ],
   "source": [
    "plt.figure(figsize=(16,6))\n",
    "ax = sns.barplot(x='Country', y='SLON3_avg',data=df_3,hue='Dem_gender')\n",
    "ax.set_xticklabels(ax.get_xticklabels(), rotation=40, ha=\"right\")\n",
    "plt.tight_layout()\n"
   ]
  },
  {
   "cell_type": "code",
   "execution_count": 78,
   "id": "1300fa7c",
   "metadata": {},
   "outputs": [
    {
     "ename": "KeyError",
     "evalue": "'Column not found: PSS_10'",
     "output_type": "error",
     "traceback": [
      "\u001b[0;31m---------------------------------------------------------------------------\u001b[0m",
      "\u001b[0;31mKeyError\u001b[0m                                  Traceback (most recent call last)",
      "\u001b[0;32m<ipython-input-78-72cf58ea17cd>\u001b[0m in \u001b[0;36m<module>\u001b[0;34m\u001b[0m\n\u001b[0;32m----> 1\u001b[0;31m \u001b[0mdf\u001b[0m\u001b[0;34m.\u001b[0m\u001b[0mgroupby\u001b[0m\u001b[0;34m(\u001b[0m\u001b[0;34m'Dem_gender'\u001b[0m\u001b[0;34m)\u001b[0m\u001b[0;34m[\u001b[0m\u001b[0;34m'PSS_10'\u001b[0m\u001b[0;34m]\u001b[0m\u001b[0;34m.\u001b[0m\u001b[0mmean\u001b[0m\u001b[0;34m(\u001b[0m\u001b[0;34m)\u001b[0m\u001b[0;34m\u001b[0m\u001b[0;34m\u001b[0m\u001b[0m\n\u001b[0m",
      "\u001b[0;32m~/.pyenv/versions/3.8.6/envs/psycoviddash/lib/python3.8/site-packages/pandas/core/groupby/generic.py\u001b[0m in \u001b[0;36m__getitem__\u001b[0;34m(self, key)\u001b[0m\n\u001b[1;32m   1540\u001b[0m                 \u001b[0mstacklevel\u001b[0m\u001b[0;34m=\u001b[0m\u001b[0;36m2\u001b[0m\u001b[0;34m,\u001b[0m\u001b[0;34m\u001b[0m\u001b[0;34m\u001b[0m\u001b[0m\n\u001b[1;32m   1541\u001b[0m             )\n\u001b[0;32m-> 1542\u001b[0;31m         \u001b[0;32mreturn\u001b[0m \u001b[0msuper\u001b[0m\u001b[0;34m(\u001b[0m\u001b[0;34m)\u001b[0m\u001b[0;34m.\u001b[0m\u001b[0m__getitem__\u001b[0m\u001b[0;34m(\u001b[0m\u001b[0mkey\u001b[0m\u001b[0;34m)\u001b[0m\u001b[0;34m\u001b[0m\u001b[0;34m\u001b[0m\u001b[0m\n\u001b[0m\u001b[1;32m   1543\u001b[0m \u001b[0;34m\u001b[0m\u001b[0m\n\u001b[1;32m   1544\u001b[0m     \u001b[0;32mdef\u001b[0m \u001b[0m_gotitem\u001b[0m\u001b[0;34m(\u001b[0m\u001b[0mself\u001b[0m\u001b[0;34m,\u001b[0m \u001b[0mkey\u001b[0m\u001b[0;34m,\u001b[0m \u001b[0mndim\u001b[0m\u001b[0;34m:\u001b[0m \u001b[0mint\u001b[0m\u001b[0;34m,\u001b[0m \u001b[0msubset\u001b[0m\u001b[0;34m=\u001b[0m\u001b[0;32mNone\u001b[0m\u001b[0;34m)\u001b[0m\u001b[0;34m:\u001b[0m\u001b[0;34m\u001b[0m\u001b[0;34m\u001b[0m\u001b[0m\n",
      "\u001b[0;32m~/.pyenv/versions/3.8.6/envs/psycoviddash/lib/python3.8/site-packages/pandas/core/base.py\u001b[0m in \u001b[0;36m__getitem__\u001b[0;34m(self, key)\u001b[0m\n\u001b[1;32m    278\u001b[0m             \u001b[0;31m# error: \"SelectionMixin\" has no attribute \"obj\"  [attr-defined]\u001b[0m\u001b[0;34m\u001b[0m\u001b[0;34m\u001b[0m\u001b[0;34m\u001b[0m\u001b[0m\n\u001b[1;32m    279\u001b[0m             \u001b[0;32mif\u001b[0m \u001b[0mkey\u001b[0m \u001b[0;32mnot\u001b[0m \u001b[0;32min\u001b[0m \u001b[0mself\u001b[0m\u001b[0;34m.\u001b[0m\u001b[0mobj\u001b[0m\u001b[0;34m:\u001b[0m  \u001b[0;31m# type: ignore[attr-defined]\u001b[0m\u001b[0;34m\u001b[0m\u001b[0;34m\u001b[0m\u001b[0m\n\u001b[0;32m--> 280\u001b[0;31m                 \u001b[0;32mraise\u001b[0m \u001b[0mKeyError\u001b[0m\u001b[0;34m(\u001b[0m\u001b[0;34mf\"Column not found: {key}\"\u001b[0m\u001b[0;34m)\u001b[0m\u001b[0;34m\u001b[0m\u001b[0;34m\u001b[0m\u001b[0m\n\u001b[0m\u001b[1;32m    281\u001b[0m             \u001b[0;32mreturn\u001b[0m \u001b[0mself\u001b[0m\u001b[0;34m.\u001b[0m\u001b[0m_gotitem\u001b[0m\u001b[0;34m(\u001b[0m\u001b[0mkey\u001b[0m\u001b[0;34m,\u001b[0m \u001b[0mndim\u001b[0m\u001b[0;34m=\u001b[0m\u001b[0;36m1\u001b[0m\u001b[0;34m)\u001b[0m\u001b[0;34m\u001b[0m\u001b[0;34m\u001b[0m\u001b[0m\n\u001b[1;32m    282\u001b[0m \u001b[0;34m\u001b[0m\u001b[0m\n",
      "\u001b[0;31mKeyError\u001b[0m: 'Column not found: PSS_10'"
     ]
    }
   ],
   "source": []
  },
  {
   "cell_type": "code",
   "execution_count": null,
   "id": "5bbc50d1",
   "metadata": {},
   "outputs": [],
   "source": []
  }
 ],
 "metadata": {
  "kernelspec": {
   "display_name": "Python 3",
   "language": "python",
   "name": "python3"
  },
  "language_info": {
   "codemirror_mode": {
    "name": "ipython",
    "version": 3
   },
   "file_extension": ".py",
   "mimetype": "text/x-python",
   "name": "python",
   "nbconvert_exporter": "python",
   "pygments_lexer": "ipython3",
   "version": "3.8.6"
  }
 },
 "nbformat": 4,
 "nbformat_minor": 5
}
